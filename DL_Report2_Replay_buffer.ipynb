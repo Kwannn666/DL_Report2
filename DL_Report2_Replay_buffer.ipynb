{
  "nbformat": 4,
  "nbformat_minor": 0,
  "metadata": {
    "colab": {
      "provenance": [],
      "gpuType": "T4",
      "authorship_tag": "ABX9TyMq8CdmiDkRIObX+5/A/MeN",
      "include_colab_link": true
    },
    "kernelspec": {
      "name": "python3",
      "display_name": "Python 3"
    },
    "language_info": {
      "name": "python"
    },
    "accelerator": "GPU"
  },
  "cells": [
    {
      "cell_type": "markdown",
      "metadata": {
        "id": "view-in-github",
        "colab_type": "text"
      },
      "source": [
        "<a href=\"https://colab.research.google.com/github/Kwannn666/DL_Report2/blob/main/DL_Report2_Replay_buffer.ipynb\" target=\"_parent\"><img src=\"https://colab.research.google.com/assets/colab-badge.svg\" alt=\"Open In Colab\"/></a>"
      ]
    },
    {
      "cell_type": "code",
      "execution_count": 1,
      "metadata": {
        "colab": {
          "base_uri": "https://localhost:8080/"
        },
        "id": "5j8cFxAvqzr_",
        "outputId": "434b3571-5155-47a1-fe8d-799d26a8e625"
      },
      "outputs": [
        {
          "output_type": "stream",
          "name": "stdout",
          "text": [
            "開始進行資料集準備...\n",
            "\n",
            "[1/5] 正在清理舊資料並建立目錄結構...\n",
            "目錄結構建立完成。\n",
            "\n",
            "[2/5] 正在下載與解壓縮資料...\n",
            "    - 下載中: imagenette2-160.tgz\n",
            "    - 下載中: VOCtrainval_11-May-2012.tar\n",
            "    - 下載中: val2017.zip\n",
            "    - 下載中: annotations_trainval2017.zip\n",
            "    - 解壓縮中...\n",
            "資料下載與解壓縮完成。\n",
            "\n",
            "[3/5] 正在處理 Imagenette 資料集...\n"
          ]
        },
        {
          "output_type": "stream",
          "name": "stderr",
          "text": [
            "  - Imagenette Train: 100%|██████████| 240/240 [00:00<00:00, 8368.66it/s]\n",
            "  - Imagenette Val: 100%|██████████| 60/60 [00:00<00:00, 7621.39it/s]\n"
          ]
        },
        {
          "output_type": "stream",
          "name": "stdout",
          "text": [
            "Imagenette 資料集準備完成。\n",
            "\n",
            "[4/5] 正在處理 PASCAL VOC 資料集...\n"
          ]
        },
        {
          "output_type": "stream",
          "name": "stderr",
          "text": [
            "  - VOC Train: 100%|██████████| 240/240 [00:00<00:00, 1617.02it/s]\n",
            "  - VOC Val: 100%|██████████| 60/60 [00:00<00:00, 1810.17it/s]\n"
          ]
        },
        {
          "output_type": "stream",
          "name": "stdout",
          "text": [
            "VOC 資料集準備完成。\n",
            "\n",
            "[5/5] 正在處理 COCO 資料集...\n"
          ]
        },
        {
          "output_type": "stream",
          "name": "stderr",
          "text": [
            "  - COCO Train Imgs: 100%|██████████| 240/240 [00:00<00:00, 2851.16it/s]\n",
            "  - COCO Val Imgs: 100%|██████████| 60/60 [00:00<00:00, 2670.17it/s]\n"
          ]
        },
        {
          "output_type": "stream",
          "name": "stdout",
          "text": [
            "  - 正在為 Train 和 Val 分別產生標註檔...\n",
            "COCO 資料集準備完成，已產生 train/val 專屬標註檔。\n",
            "\n",
            "正在清理暫存檔案...\n",
            "清理完成。\n",
            "\n",
            "所有 Mini Dataset 準備完成！三組資料各包含 train 240 張、val 60 張。\n"
          ]
        }
      ],
      "source": [
        "import os\n",
        "import shutil\n",
        "import random\n",
        "import json\n",
        "from pathlib import Path\n",
        "from tqdm import tqdm\n",
        "import urllib.request\n",
        "import tarfile\n",
        "import zipfile\n",
        "\n",
        "# --- 參數設定 ---\n",
        "# 固定亂數種子，確保每次抽樣結果一致\n",
        "random.seed(42)\n",
        "# 資料集圖片數量\n",
        "NUM_TRAIN = 240\n",
        "NUM_VAL = 60\n",
        "NUM_TOTAL = NUM_TRAIN + NUM_VAL\n",
        "\n",
        "# --- 腳本開始 ---\n",
        "print(\"開始進行資料集準備...\")\n",
        "\n",
        "# 1. ============================\n",
        "#    清理並建立目錄結構\n",
        "# ============================\n",
        "print(\"\\n[1/5] 正在清理舊資料並建立目錄結構...\")\n",
        "base_dir = Path(\"data\")\n",
        "if base_dir.exists():\n",
        "    shutil.rmtree(base_dir)\n",
        "\n",
        "# 定義所有需要的路徑\n",
        "paths = {\n",
        "    \"imagenette_train\": base_dir / \"imagenette_160/train\",\n",
        "    \"imagenette_val\": base_dir / \"imagenette_160/val\",\n",
        "    \"voc_train\": base_dir / \"mini_voc_seg/train\",\n",
        "    \"voc_val\": base_dir / \"mini_voc_seg/val\",\n",
        "    \"coco_train\": base_dir / \"mini_coco_det/train\",\n",
        "    \"coco_val\": base_dir / \"mini_coco_det/val\",\n",
        "    \"coco_ann\": base_dir / \"mini_coco_det/annotations\",\n",
        "    \"raw\": base_dir / \"raw_downloads\" # 暫存解壓縮後的原始資料\n",
        "}\n",
        "\n",
        "# 建立所有資料夾\n",
        "for path in paths.values():\n",
        "    path.mkdir(parents=True, exist_ok=True)\n",
        "print(\"目錄結構建立完成。\")\n",
        "\n",
        "\n",
        "# 2. ============================\n",
        "#    下載並解壓縮資料\n",
        "# ============================\n",
        "print(\"\\n[2/5] 正在下載與解壓縮資料...\")\n",
        "# 定義下載 URL\n",
        "urls = {\n",
        "    \"imagenette\": \"https://s3.amazonaws.com/fast-ai-imageclas/imagenette2-160.tgz\",\n",
        "    \"voc\": \"http://host.robots.ox.ac.uk/pascal/VOC/voc2012/VOCtrainval_11-May-2012.tar\",\n",
        "    \"coco_img\": \"http://images.cocodataset.org/zips/val2017.zip\",\n",
        "    \"coco_ann\": \"http://images.cocodataset.org/annotations/annotations_trainval2017.zip\"\n",
        "}\n",
        "\n",
        "# 輔助函式：下載檔案\n",
        "def download(url, dest):\n",
        "    if not dest.exists():\n",
        "        print(f\"    - 下載中: {url.split('/')[-1]}\")\n",
        "        urllib.request.urlretrieve(url, dest)\n",
        "\n",
        "# 下載所有檔案\n",
        "for key, url in urls.items():\n",
        "    download(url, base_dir / url.split('/')[-1])\n",
        "\n",
        "# 解壓縮\n",
        "print(\"    - 解壓縮中...\")\n",
        "with tarfile.open(base_dir / \"imagenette2-160.tgz\") as tar:\n",
        "    tar.extractall(path=paths[\"raw\"])\n",
        "with tarfile.open(base_dir / \"VOCtrainval_11-May-2012.tar\") as tar:\n",
        "    tar.extractall(path=paths[\"raw\"])\n",
        "with zipfile.ZipFile(base_dir / \"val2017.zip\", 'r') as zip_ref:\n",
        "    zip_ref.extractall(paths[\"raw\"] / \"val2017_images\")\n",
        "with zipfile.ZipFile(base_dir / \"annotations_trainval2017.zip\", 'r') as zip_ref:\n",
        "    zip_ref.extractall(paths[\"raw\"] / \"coco_annotations\")\n",
        "print(\"資料下載與解壓縮完成。\")\n",
        "\n",
        "\n",
        "# 3. ============================\n",
        "#    處理 Imagenette (分類)\n",
        "# ============================\n",
        "print(\"\\n[3/5] 正在處理 Imagenette 資料集...\")\n",
        "imagenette_src = paths[\"raw\"] / \"imagenette2-160/train\"\n",
        "all_imgs = list(imagenette_src.rglob(\"*.JPEG\"))\n",
        "selected_imgs = random.sample(all_imgs, NUM_TOTAL)\n",
        "\n",
        "def copy_imagenette_with_class_folders(image_list, target_base_dir, desc):\n",
        "    \"\"\"\n",
        "    複製圖片，並在目標路徑下保持其原始的分類資料夾結構。\n",
        "    \"\"\"\n",
        "    for img_path in tqdm(image_list, desc=desc):\n",
        "        # 取得分類資料夾名稱 (例如: 'n01440764')\n",
        "        class_name = img_path.parent.name\n",
        "\n",
        "        # 在目標路徑下建立同名的分類資料夾\n",
        "        target_class_dir = target_base_dir / class_name\n",
        "        target_class_dir.mkdir(exist_ok=True)\n",
        "\n",
        "        # 將圖片複製到新的分類資料夾中\n",
        "        shutil.copy(img_path, target_class_dir / img_path.name)\n",
        "\n",
        "# 使用新的複製函式來處理 train 和 val\n",
        "copy_imagenette_with_class_folders(selected_imgs[:NUM_TRAIN], paths[\"imagenette_train\"], \"  - Imagenette Train\")\n",
        "copy_imagenette_with_class_folders(selected_imgs[NUM_TRAIN:], paths[\"imagenette_val\"], \"  - Imagenette Val\")\n",
        "\n",
        "print(\"Imagenette 資料集準備完成。\")\n",
        "\n",
        "\n",
        "# 4. ============================\n",
        "#    處理 VOC (語意分割)\n",
        "# ============================\n",
        "print(\"\\n[4/5] 正在處理 PASCAL VOC 資料集...\")\n",
        "voc_img_dir = paths[\"raw\"] / \"VOCdevkit/VOC2012/JPEGImages\"\n",
        "voc_mask_dir = paths[\"raw\"] / \"VOCdevkit/VOC2012/SegmentationClass\"\n",
        "\n",
        "mask_names = {p.stem for p in voc_mask_dir.glob(\"*.png\")}\n",
        "valid_voc_images = [img for img in voc_img_dir.glob(\"*.jpg\") if img.stem in mask_names]\n",
        "selected_voc = random.sample(valid_voc_images, NUM_TOTAL)\n",
        "\n",
        "def copy_voc(img_list, target_dir, desc):\n",
        "    for img in tqdm(img_list, desc=desc):\n",
        "        mask = voc_mask_dir / (img.stem + \".png\")\n",
        "        if mask.exists():\n",
        "            shutil.copy(img, target_dir / img.name)\n",
        "            shutil.copy(mask, target_dir / mask.name)\n",
        "\n",
        "copy_voc(selected_voc[:NUM_TRAIN], paths[\"voc_train\"], \"  - VOC Train\")\n",
        "copy_voc(selected_voc[NUM_TRAIN:], paths[\"voc_val\"], \"  - VOC Val\")\n",
        "print(\"VOC 資料集準備完成。\")\n",
        "\n",
        "\n",
        "# 5. ============================\n",
        "#    處理 COCO (物件偵測)\n",
        "# ============================\n",
        "print(\"\\n[5/5] 正在處理 COCO 資料集...\")\n",
        "coco_img_src = paths[\"raw\"] / \"val2017_images/val2017\"\n",
        "all_coco_images = list(coco_img_src.glob(\"*.jpg\"))\n",
        "selected_coco = random.sample(all_coco_images, NUM_TOTAL)\n",
        "\n",
        "# 將抽樣的圖片路徑分為 train 和 val\n",
        "coco_train_paths = selected_coco[:NUM_TRAIN]\n",
        "coco_val_paths = selected_coco[NUM_TRAIN:]\n",
        "\n",
        "# 複製圖片\n",
        "for img_path in tqdm(coco_train_paths, desc=\"  - COCO Train Imgs\"):\n",
        "    shutil.copy(img_path, paths[\"coco_train\"] / img_path.name)\n",
        "for img_path in tqdm(coco_val_paths, desc=\"  - COCO Val Imgs\"):\n",
        "    shutil.copy(img_path, paths[\"coco_val\"] / img_path.name)\n",
        "\n",
        "# 過濾標註檔\n",
        "print(\"  - 正在為 Train 和 Val 分別產生標註檔...\")\n",
        "coco_ann_src_path = paths[\"raw\"] / \"coco_annotations/annotations/instances_val2017.json\"\n",
        "with open(coco_ann_src_path) as f:\n",
        "    coco_ann = json.load(f)\n",
        "\n",
        "def filter_coco_annotations(image_paths, original_annotations):\n",
        "    \"\"\"根據給定的圖片路徑列表，篩選出對應的標註\"\"\"\n",
        "    valid_img_names = {p.name for p in image_paths}\n",
        "    valid_img_ids = set()\n",
        "    filtered_images = []\n",
        "    for img_info in original_annotations[\"images\"]:\n",
        "        if img_info[\"file_name\"] in valid_img_names:\n",
        "            filtered_images.append(img_info)\n",
        "            valid_img_ids.add(img_info[\"id\"])\n",
        "\n",
        "    filtered_anns = [ann for ann in original_annotations[\"annotations\"] if ann[\"image_id\"] in valid_img_ids]\n",
        "\n",
        "    return {\n",
        "        \"info\": original_annotations.get(\"info\", {}),\n",
        "        \"licenses\": original_annotations.get(\"licenses\", []),\n",
        "        \"categories\": original_annotations[\"categories\"],\n",
        "        \"images\": filtered_images,\n",
        "        \"annotations\": filtered_anns\n",
        "    }\n",
        "\n",
        "# 為訓練集產生標註檔\n",
        "train_ann_data = filter_coco_annotations(coco_train_paths, coco_ann)\n",
        "with open(paths[\"coco_ann\"] / \"mini_instances_train2017.json\", \"w\") as f:\n",
        "    json.dump(train_ann_data, f)\n",
        "\n",
        "# 為驗證集產生標註檔\n",
        "val_ann_data = filter_coco_annotations(coco_val_paths, coco_ann)\n",
        "with open(paths[\"coco_ann\"] / \"mini_instances_val2017.json\", \"w\") as f:\n",
        "    json.dump(val_ann_data, f)\n",
        "\n",
        "print(\"COCO 資料集準備完成，已產生 train/val 專屬標註檔。\")\n",
        "\n",
        "# --- 清理暫存檔案 ---\n",
        "print(\"\\n正在清理暫存檔案...\")\n",
        "shutil.rmtree(paths[\"raw\"])\n",
        "for f in base_dir.glob(\"*.zip\"): f.unlink()\n",
        "for f in base_dir.glob(\"*.tar\"): f.unlink()\n",
        "for f in base_dir.glob(\"*.tgz\"): f.unlink()\n",
        "print(\"清理完成。\")\n",
        "\n",
        "print(f\"\\n所有 Mini Dataset 準備完成！三組資料各包含 train {NUM_TRAIN} 張、val {NUM_VAL} 張。\")"
      ]
    },
    {
      "cell_type": "code",
      "source": [
        "### =================================================================\n",
        "### Cell 1: 模型、資料集、工具與訓練引擎 (最終整合版)\n",
        "### =================================================================\n",
        "import os, json, torch, time, numpy as np, torch.nn as nn, torch.nn.functional as F\n",
        "from pathlib import Path\n",
        "from torch.utils.data import Dataset, DataLoader\n",
        "from torchvision import transforms, models\n",
        "from torchvision.datasets import ImageFolder\n",
        "from torchvision.ops.feature_pyramid_network import FeaturePyramidNetwork, LastLevelMaxPool\n",
        "from PIL import Image\n",
        "from tqdm import tqdm\n",
        "from sklearn.metrics import average_precision_score\n",
        "import matplotlib.pyplot as plt\n",
        "\n",
        "# ----------- 1. 統一模型定義 -----------\n",
        "class UnifiedModel(nn.Module):\n",
        "    def __init__(self, num_classes_cls=10, num_classes_det=10, num_classes_seg=21):\n",
        "        super(UnifiedModel, self).__init__()\n",
        "        # 1. Backbone\n",
        "        backbone = models.mobilenet_v3_small(weights=models.MobileNet_V3_Small_Weights.IMAGENET1K_V1)\n",
        "        self.backbone = backbone.features\n",
        "        # 2. Neck\n",
        "        self.fpn = FeaturePyramidNetwork(\n",
        "            in_channels_list=[24, 40, 576],\n",
        "            out_channels=128,\n",
        "            extra_blocks=LastLevelMaxPool()\n",
        "        )\n",
        "        # --- 3. Head 設計 ---\n",
        "        # 計算統一輸出層需要多少個 channel\n",
        "        # 偵測: 每個像素點預測 (cx, cy, w, h, conf) 5個值 + C_det 個類別分數\n",
        "        # 根據作業要求，偵測輸出為 N x (cx, cy, w, h, conf, C_det)\n",
        "        # 這裡我們假設 C_det 就是 num_classes_det\n",
        "        det_channels = 5 + num_classes_det\n",
        "        # 分割: C_seg 個類別\n",
        "        seg_channels = num_classes_seg\n",
        "        # 分類: C_cls 個類別\n",
        "        cls_channels = num_classes_cls\n",
        "\n",
        "        total_output_channels = det_channels + seg_channels + cls_channels\n",
        "\n",
        "        # \"Exactly 2-3 layers\" + \"single branch\"\n",
        "        self.single_branch_head = nn.Sequential(\n",
        "            # 第 1 層：特徵提煉 (Conv + ReLU)\n",
        "            nn.Conv2d(in_channels=128, out_channels=128, kernel_size=3, padding=1),\n",
        "            nn.ReLU(),\n",
        "            # 第 2 層：統一輸出層 (Conv)\n",
        "            nn.Conv2d(in_channels=128, out_channels=total_output_channels, kernel_size=1)\n",
        "        )\n",
        "        # 儲存 channel 數量，方便 forward 中使用\n",
        "        self.det_channels = det_channels\n",
        "        self.seg_channels = seg_channels\n",
        "        self.cls_channels = cls_channels\n",
        "        self.classifier = nn.Linear(1, num_classes_cls)\n",
        "    def forward(self, x):\n",
        "        # Backbone 提取特徵\n",
        "        feats = {}\n",
        "        for i, layer in enumerate(self.backbone):\n",
        "            x = layer(x)\n",
        "            # 根據 FPN 的要求提取特定層的輸出\n",
        "            if i in [3, 6, 12]: feats[f'feat{i}'] = x\n",
        "        # Neck (FPN) 融合特徵\n",
        "        fpn_feats = self.fpn(feats)\n",
        "        fpn_out = fpn_feats['feat3'] # 使用 FPN 的輸出, Shape: [B, 128, H/4, W/4]\n",
        "        # Head (Single Branch) 產生統一輸出\n",
        "        unified_output = self.single_branch_head(fpn_out) # Shape: [B, total_channels, H/4, W/4]\n",
        "        # --- 對統一輸出進行切割與解析 ---\n",
        "        # 按照 channel 維度進行切割\n",
        "        split_sizes = [self.seg_channels, self.det_channels, self.cls_channels]\n",
        "        seg_output_map, det_output_map, cls_output_map = torch.split(unified_output, split_sizes, dim=1)\n",
        "\n",
        "        # 1. 處理分類輸出\n",
        "        # 對分類特徵圖進行全域平均池化，得到分類 logits\n",
        "        cls_logits = torch.mean(cls_output_map, dim=[2, 3])\n",
        "\n",
        "        # 2. 處理分割輸出\n",
        "        # 分割圖可以直接使用\n",
        "\n",
        "        # 3. 處理偵測輸出\n",
        "        # 調整形狀以符合 N x (cx, cy, w, h, conf, C_det) 的格式\n",
        "        B, _, H, W = det_output_map.shape\n",
        "        det_output = det_output_map.permute(0, 2, 3, 1).contiguous().view(B, -1, self.det_channels)\n",
        "\n",
        "        # 按照規定，一次返回所有輸出\n",
        "        return cls_logits, det_output, seg_output_map\n",
        "# ----------- 2. 資料集定義 -----------\n",
        "class VOCSegmentationDataset(Dataset):\n",
        "    def __init__(self, image_dir, transform=None, target_transform=None):\n",
        "        self.image_paths = sorted([Path(image_dir) / f for f in os.listdir(image_dir) if f.endswith('.jpg')])\n",
        "        self.mask_paths = [p.with_suffix('.png') for p in self.image_paths]\n",
        "        self.transform, self.target_transform = transform, target_transform\n",
        "    def __len__(self): return len(self.image_paths)\n",
        "    def __getitem__(self, idx):\n",
        "        img = Image.open(self.image_paths[idx]).convert('RGB')\n",
        "        mask = Image.open(self.mask_paths[idx]).convert('L')\n",
        "        if self.transform: img = self.transform(img)\n",
        "        if self.target_transform: mask = self.target_transform(mask)\n",
        "        mask = mask.squeeze(0).long()\n",
        "        mask[(mask > 20) & (mask != 255)] = 255\n",
        "        return img, mask\n",
        "\n",
        "class MiniCocoDetection(Dataset):\n",
        "    def __init__(self, img_dir, ann_path, transform=None):\n",
        "        self.img_dir, self.transform = Path(img_dir), transform\n",
        "        with open(ann_path) as f: coco_data = json.load(f)\n",
        "        self.img_id_to_filename = {img['id']: img['file_name'] for img in coco_data['images']}\n",
        "        self.annotations = {img['id']: [] for img in coco_data['images']}\n",
        "        for ann in coco_data['annotations']: self.annotations[ann['image_id']].append(ann)\n",
        "        self.ids = list(self.img_id_to_filename.keys())\n",
        "    def __len__(self): return len(self.ids)\n",
        "    def __getitem__(self, idx):\n",
        "        img_id = self.ids[idx]\n",
        "        img = Image.open(self.img_dir / self.img_id_to_filename[img_id]).convert(\"RGB\")\n",
        "        targets = []\n",
        "        if img_id in self.annotations:\n",
        "            for ann in self.annotations[img_id]:\n",
        "                x, y, w, h = ann['bbox']\n",
        "                targets.append([(x + w / 2), (y + h / 2), w, h, 1.0])\n",
        "        targets = torch.tensor(targets, dtype=torch.float32)\n",
        "        if self.transform: img = self.transform(img)\n",
        "        return img, targets\n",
        "\n",
        "def build_cls_dataset(root_dir, input_size=512):\n",
        "    transform = transforms.Compose([transforms.Resize((input_size, input_size)), transforms.ToTensor()])\n",
        "    return ImageFolder(root=Path(root_dir)/\"train\", transform=transform), ImageFolder(root=Path(root_dir)/\"val\", transform=transform)\n",
        "\n",
        "def detection_collate_fn(batch):\n",
        "    return torch.stack([item[0] for item in batch], 0), [item[1] for item in batch]\n",
        "\n",
        "# ----------- 3. 評估與輔助函式 -----------\n",
        "def compute_mIoU(preds, targets, num_classes=21):\n",
        "    preds, targets = preds.cpu().numpy(), targets.cpu().numpy()\n",
        "    ious = []\n",
        "    for cls in range(num_classes):\n",
        "        pred_inds, target_inds = (preds == cls), (targets == cls)\n",
        "        intersection = (pred_inds & target_inds).sum()\n",
        "        union = (pred_inds | target_inds).sum()\n",
        "        if union == 0: ious.append(1.0); continue\n",
        "        ious.append(intersection / union)\n",
        "    return np.mean(ious) if ious else 0\n",
        "\n",
        "def evaluate_segmentation(model, val_loader, device=\"cuda\"):\n",
        "    model.eval()\n",
        "    all_preds, all_targets = [], []\n",
        "    with torch.no_grad():\n",
        "        for imgs, masks in val_loader:\n",
        "            imgs, masks = imgs.to(device), masks.to(device)\n",
        "            _, _, seg_out = model(imgs)\n",
        "            seg_out_upsampled = F.interpolate(seg_out, size=masks.shape[-2:], mode='bilinear', align_corners=False)\n",
        "            all_preds.append(torch.argmax(seg_out_upsampled, dim=1))\n",
        "            all_targets.append(masks)\n",
        "    return compute_mIoU(torch.cat(all_preds), torch.cat(all_targets))\n",
        "\n",
        "def evaluate_classification(model, val_loader, device=\"cuda\"):\n",
        "    model.eval()\n",
        "    all_logits, all_labels = [], []\n",
        "    num_classes = model.classifier.out_features\n",
        "    with torch.no_grad():\n",
        "        for imgs, labels in val_loader:\n",
        "            logits, _, _ = model(imgs.to(device))\n",
        "            all_logits.append(logits.cpu()); all_labels.append(labels.cpu())\n",
        "    logits, labels = torch.cat(all_logits), torch.cat(all_labels)\n",
        "    probs, preds = F.softmax(logits, dim=1).numpy(), np.argmax(logits.numpy(), axis=1)\n",
        "    top1 = (preds == labels.numpy()).mean()\n",
        "    try:\n",
        "        y_true_one_hot = np.eye(num_classes)[labels.numpy()]\n",
        "        mAP = average_precision_score(y_true_one_hot, probs, average='macro')\n",
        "    except Exception: mAP = 0.0\n",
        "    return mAP, top1\n",
        "\n",
        "def count_params(model): return sum(p.numel() for p in model.parameters() if p.requires_grad)\n",
        "\n",
        "def measure_inference_time(model, device, input_size=512):\n",
        "    x = torch.randn(1, 3, input_size, input_size).to(device)\n",
        "    model.eval()\n",
        "    with torch.no_grad():\n",
        "        for _ in range(5): _ = model(x)\n",
        "        start_time = time.time()\n",
        "        for _ in range(10): _ = model(x)\n",
        "        end_time = time.time()\n",
        "    return (end_time - start_time) / 10 * 1000\n",
        "\n",
        "# ----------- 4. 各階段的訓練引擎 (有回放版本) -----------\n",
        "def train_stage1_segmentation(model, train_loader, val_loader, epochs, lr, device):\n",
        "    print(f\"🎯 Stage 1: Segmentation 訓練中，共 {epochs} 個 Epochs\")\n",
        "    optimizer = torch.optim.Adam(model.parameters(), lr=lr)\n",
        "    criterion = torch.nn.CrossEntropyLoss(ignore_index=255)\n",
        "    loss_history, miou_history, best_mIoU = [], [], 0\n",
        "    for epoch in range(epochs):\n",
        "        model.train(); running_loss = 0\n",
        "        progress_bar = tqdm(train_loader, desc=f\"Epoch {epoch+1}/{epochs}\")\n",
        "        for imgs, masks in progress_bar:\n",
        "            imgs, masks = imgs.to(device), masks.to(device)\n",
        "            _, _, seg_out = model(imgs)\n",
        "            target_size = seg_out.shape[-2:]\n",
        "            masks_downsampled = F.interpolate(masks.unsqueeze(1).float(), size=target_size, mode='nearest').squeeze(1).long()\n",
        "            loss = criterion(seg_out, masks_downsampled)\n",
        "            optimizer.zero_grad(); loss.backward(); optimizer.step()\n",
        "            running_loss += loss.item()\n",
        "        epoch_loss = running_loss / len(train_loader)\n",
        "        loss_history.append(epoch_loss)\n",
        "        print(f\"🔧 Epoch {epoch+1} Loss: {epoch_loss:.4f}\")\n",
        "        epoch_mIoU = evaluate_segmentation(model, val_loader, device)\n",
        "        miou_history.append(epoch_mIoU)\n",
        "        best_mIoU = max(best_mIoU, epoch_mIoU)\n",
        "        print(f\"📊 mIoU: {epoch_mIoU:.4f}\")\n",
        "    print(f\"\\n✅ Stage 1 完成！記錄 mIoU_base = {best_mIoU:.4f}\")\n",
        "    return best_mIoU, loss_history, miou_history\n",
        "\n",
        "def train_stage2_detection_with_replay(model, det_loader, seg_replay_loader, seg_val_loader, mIoU_base, epochs, lr, replay_weight, device):\n",
        "    print(f\"🔎 Stage 2: Detection 訓練中 (啟用 Replay)，共 {epochs} 個 Epochs\")\n",
        "    optimizer = torch.optim.Adam(model.parameters(), lr=lr)\n",
        "    det_loss_fn, seg_loss_fn = torch.nn.MSELoss(), torch.nn.CrossEntropyLoss(ignore_index=255)\n",
        "    loss_history, miou_history = [], []\n",
        "    det_iter, replay_iter = iter(det_loader), iter(seg_replay_loader)\n",
        "    for epoch in range(epochs):\n",
        "        model.train(); running_loss = 0\n",
        "        progress_bar = tqdm(range(len(det_loader)), desc=f\"Epoch {epoch+1}/{epochs}\")\n",
        "        for step in progress_bar:\n",
        "            try: imgs_det, targets_det = next(det_iter)\n",
        "            except StopIteration: det_iter = iter(det_loader); imgs_det, targets_det = next(det_iter)\n",
        "            try: imgs_seg, masks_seg = next(replay_iter)\n",
        "            except StopIteration: replay_iter = iter(seg_replay_loader); imgs_seg, masks_seg = next(replay_iter)\n",
        "            main_bs = imgs_det.shape[0]\n",
        "            all_imgs = torch.cat([imgs_det, imgs_seg], dim=0).to(device)\n",
        "            targets_det, masks_seg = [t.to(device) for t in targets_det], masks_seg.to(device)\n",
        "            optimizer.zero_grad()\n",
        "            _, det_out, seg_out = model(all_imgs)\n",
        "            loss_det = 0\n",
        "            det_preds = det_out[:main_bs]\n",
        "            for i in range(main_bs):\n",
        "                if targets_det[i].shape[0] > 0:\n",
        "                    loss_det += det_loss_fn(det_preds[i, :targets_det[i].shape[0], :5], targets_det[i])\n",
        "            seg_preds = seg_out[main_bs:]\n",
        "            masks_seg_downsampled = F.interpolate(masks_seg.unsqueeze(1).float(), size=seg_preds.shape[-2:], mode='nearest').squeeze(1).long()\n",
        "            loss_seg_replay = seg_loss_fn(seg_preds, masks_seg_downsampled)\n",
        "            total_loss = loss_det + replay_weight * loss_seg_replay if isinstance(loss_det, torch.Tensor) else replay_weight * loss_seg_replay\n",
        "            if isinstance(total_loss, torch.Tensor):\n",
        "                total_loss.backward(); optimizer.step()\n",
        "                running_loss += total_loss.item()\n",
        "        epoch_loss = running_loss / len(det_loader) if len(det_loader) > 0 else 0\n",
        "        loss_history.append(epoch_loss)\n",
        "        print(f\"🔧 Epoch {epoch+1} Loss: {epoch_loss:.4f}\")\n",
        "        epoch_mIoU = evaluate_segmentation(model, seg_val_loader, device)\n",
        "        miou_history.append(epoch_mIoU)\n",
        "        print(f\"📊 mIoU: {epoch_mIoU:.4f}\")\n",
        "    final_mIoU = miou_history[-1] if miou_history else mIoU_base\n",
        "    mIoU_drop = max(0, mIoU_base - final_mIoU)\n",
        "    print(f\"📉 Stage 2 最終 mIoU drop: {mIoU_drop:.4f}\")\n",
        "    return mIoU_drop, loss_history, miou_history\n",
        "\n",
        "def train_stage3_classification_with_replay(model, cls_loader, seg_replay_loader, cls_val_loader, seg_val_loader, mIoU_base, epochs, lr, replay_weight, device):\n",
        "    print(f\"📘 Stage 3: Classification 訓練中 (啟用 Replay)，共 {epochs} 個 Epochs\")\n",
        "    optimizer = torch.optim.Adam(model.parameters(), lr=lr)\n",
        "    cls_loss_fn, seg_loss_fn = torch.nn.CrossEntropyLoss(), torch.nn.CrossEntropyLoss(ignore_index=255)\n",
        "    loss_history, miou_history, map_history, top1_history = [], [], [], []\n",
        "    cls_iter, replay_iter = iter(cls_loader), iter(seg_replay_loader)\n",
        "    mAP_base, Top1_base = evaluate_classification(model, cls_val_loader, device)\n",
        "    print(f\"Initial Classification Performance: mAP={mAP_base:.4f}, Top-1={Top1_base:.4f}\")\n",
        "    for epoch in range(epochs):\n",
        "        model.train(); running_loss = 0\n",
        "        progress_bar = tqdm(range(len(cls_loader)), desc=f\"Epoch {epoch+1}/{epochs}\")\n",
        "        for step in progress_bar:\n",
        "            try: imgs_cls, labels_cls = next(cls_iter)\n",
        "            except StopIteration: cls_iter = iter(cls_loader); imgs_cls, labels_cls = next(cls_iter)\n",
        "            try: imgs_seg, masks_seg = next(replay_iter)\n",
        "            except StopIteration: replay_iter = iter(seg_replay_loader); imgs_seg, masks_seg = next(replay_iter)\n",
        "            main_bs = imgs_cls.shape[0]\n",
        "            all_imgs = torch.cat([imgs_cls, imgs_seg], dim=0).to(device)\n",
        "            labels_cls, masks_seg = labels_cls.to(device), masks_seg.to(device)\n",
        "            optimizer.zero_grad()\n",
        "            cls_logits, _, seg_out = model(all_imgs)\n",
        "            loss_cls = cls_loss_fn(cls_logits[:main_bs], labels_cls)\n",
        "            seg_preds = seg_out[main_bs:]\n",
        "            masks_seg_downsampled = F.interpolate(masks_seg.unsqueeze(1).float(), size=seg_preds.shape[-2:], mode='nearest').squeeze(1).long()\n",
        "            loss_seg_replay = seg_loss_fn(seg_preds, masks_seg_downsampled)\n",
        "            total_loss = loss_cls + replay_weight * loss_seg_replay\n",
        "            total_loss.backward(); optimizer.step()\n",
        "            running_loss += total_loss.item()\n",
        "        epoch_loss = running_loss / len(cls_loader)\n",
        "        loss_history.append(epoch_loss)\n",
        "        print(f\"🔧 Epoch {epoch+1} Loss: {epoch_loss:.4f}\")\n",
        "        epoch_mIoU = evaluate_segmentation(model, seg_val_loader, device)\n",
        "        miou_history.append(epoch_mIoU)\n",
        "        print(f\"📊 mIoU: {epoch_mIoU:.4f}\")\n",
        "        epoch_mAP, epoch_top1 = evaluate_classification(model, cls_val_loader, device)\n",
        "        map_history.append(epoch_mAP); top1_history.append(epoch_top1)\n",
        "        print(f\"📈 mAP: {epoch_mAP:.4f}, Top-1: {epoch_top1:.4f}\")\n",
        "    final_mIoU = miou_history[-1] if miou_history else mIoU_base\n",
        "    mIoU_drop = max(0, mIoU_base - final_mIoU)\n",
        "    final_mAP, final_top1 = (map_history[-1], top1_history[-1]) if map_history else (mAP_base, Top1_base)\n",
        "    mAP_drop = max(0, mAP_base - final_mAP)\n",
        "    top1_drop = max(0, Top1_base - final_top1)\n",
        "    return mIoU_drop, mAP_drop, top1_drop, loss_history, miou_history, map_history, top1_history, mAP_base, Top1_base, final_mIoU"
      ],
      "metadata": {
        "id": "P00KA00krsYr"
      },
      "execution_count": 2,
      "outputs": []
    },
    {
      "cell_type": "code",
      "source": [
        "### =================================================================\n",
        "### 最終版：執行「有經驗回放」實驗並進行視覺化分析\n",
        "### =================================================================\n",
        "\n",
        "def run_and_plot_experiment():\n",
        "    # 1. CONFIGURATION BLOCK\n",
        "    # 集中設定所有超參數，方便統一調整\n",
        "    CONFIG = {\n",
        "        \"device\": \"cuda\" if torch.cuda.is_available() else \"cpu\",\n",
        "        \"input_size\": 512,\n",
        "        \"main_batch_size\": 6,          # 主要任務的 batch size\n",
        "        \"replay_batch_size\": 4,        # 回放任務的 batch size (6+4=10, 滿足作業要求 ≤ 10)\n",
        "        \"replay_loss_weight\": 0.8,     # 回放 loss 的權重，可調整\n",
        "        \"epochs\": {\"stage1\": 100, \"stage2\": 100, \"stage3\": 100},\n",
        "        \"learning_rates\": {\"stage1\": 1e-3, \"stage2\": 1e-4, \"stage3\": 1e-4},\n",
        "        \"data_paths\": {\n",
        "            \"seg_train\": \"data/mini_voc_seg/train\", \"seg_val\": \"data/mini_voc_seg/val\",\n",
        "            \"det_train\": \"data/mini_coco_det/train\", \"det_ann_train\": \"data/mini_coco_det/annotations/mini_instances_train2017.json\",\n",
        "            \"cls_root\": \"data/imagenette_160\",\n",
        "        }\n",
        "    }\n",
        "\n",
        "    # 2. DATA PREPARATION\n",
        "    def prepare_dataloaders_for_replay(config):\n",
        "        print(\"--- 正在準備所有 DataLoaders (含 Replay)... ---\")\n",
        "        img_tf = transforms.Compose([transforms.Resize((config[\"input_size\"], config[\"input_size\"])), transforms.ToTensor()])\n",
        "        mask_tf = transforms.Compose([transforms.Resize((config[\"input_size\"], config[\"input_size\"]), interpolation=Image.NEAREST), transforms.PILToTensor()])\n",
        "\n",
        "        seg_train_ds = VOCSegmentationDataset(config[\"data_paths\"][\"seg_train\"], img_tf, mask_tf)\n",
        "        det_train_ds = MiniCocoDetection(config[\"data_paths\"][\"det_train\"], config[\"data_paths\"][\"det_ann_train\"], img_tf)\n",
        "        cls_train_ds, cls_val_ds = build_cls_dataset(config[\"data_paths\"][\"cls_root\"])\n",
        "\n",
        "        loaders = {\n",
        "            \"seg_train\": DataLoader(seg_train_ds, batch_size=config[\"main_batch_size\"], shuffle=True, num_workers=2, pin_memory=True),\n",
        "            \"seg_val\": DataLoader(VOCSegmentationDataset(config[\"data_paths\"][\"seg_val\"], img_tf, mask_tf), batch_size=1, num_workers=2),\n",
        "            \"seg_replay\": DataLoader(seg_train_ds, batch_size=config[\"replay_batch_size\"], shuffle=True, drop_last=True, num_workers=2, pin_memory=True),\n",
        "            \"det_train\": DataLoader(det_train_ds, batch_size=config[\"main_batch_size\"], shuffle=True, collate_fn=detection_collate_fn, num_workers=2, pin_memory=True),\n",
        "            \"cls_train\": DataLoader(cls_train_ds, batch_size=config[\"main_batch_size\"], shuffle=True, num_workers=2, pin_memory=True),\n",
        "            \"cls_val\": DataLoader(cls_val_ds, batch_size=config[\"main_batch_size\"], num_workers=2)\n",
        "        }\n",
        "        print(\"✅ 所有 DataLoaders 準備完成！\")\n",
        "        return loaders\n",
        "\n",
        "    # 3. MAIN EXECUTION\n",
        "    print(\"=\"*60 + \"\\n🔬 開始執行實驗：循序訓練 (有經驗回放)\\n\" + \"=\"*60)\n",
        "    model = UnifiedModel().to(CONFIG[\"device\"])\n",
        "    dataloaders = prepare_dataloaders_for_replay(CONFIG)\n",
        "    start_time = time.time()\n",
        "\n",
        "    mIoU_base, loss1_hist, miou1_hist = train_stage1_segmentation(model, dataloaders[\"seg_train\"], dataloaders[\"seg_val\"], epochs=CONFIG[\"epochs\"][\"stage1\"], lr=CONFIG[\"learning_rates\"][\"stage1\"], device=CONFIG[\"device\"])\n",
        "\n",
        "    _, loss2_hist, miou2_hist = train_stage2_detection_with_replay(\n",
        "        model, dataloaders[\"det_train\"], dataloaders[\"seg_replay\"], dataloaders[\"seg_val\"],\n",
        "        mIoU_base=mIoU_base, epochs=CONFIG[\"epochs\"][\"stage2\"],\n",
        "        lr=CONFIG[\"learning_rates\"][\"stage2\"], replay_weight=CONFIG[\"replay_loss_weight\"], device=CONFIG[\"device\"]\n",
        "    )\n",
        "\n",
        "    mIoU_drop, mAP_drop, top1_drop, loss3_hist, miou3_hist, map3_hist, top1_3_hist, mAP_base, Top1_base, final_mIoU = train_stage3_classification_with_replay(\n",
        "        model, dataloaders[\"cls_train\"], dataloaders[\"seg_replay\"], dataloaders[\"cls_val\"], dataloaders[\"seg_val\"],\n",
        "        mIoU_base=mIoU_base, epochs=CONFIG[\"epochs\"][\"stage3\"],\n",
        "        lr=CONFIG[\"learning_rates\"][\"stage3\"], replay_weight=CONFIG[\"replay_loss_weight\"], device=CONFIG[\"device\"]\n",
        "    )\n",
        "\n",
        "    total_time, params, inference_ms = time.time() - start_time, count_params(model), measure_inference_time(model, CONFIG[\"device\"], CONFIG[\"input_size\"])\n",
        "\n",
        "    # 4. FINAL SUMMARY\n",
        "    print(\"\\n\" + \"=\"*60 + \"\\n📋 **實驗總結 (有經驗回放)**\\n\" + \"=\"*60)\n",
        "    print(f\"✅ 模型參數數量：{params:,} 個 (< 8M)\")\n",
        "    print(f\"✅ 單張推論時間：{inference_ms:.2f} ms (≤ 150 ms)\")\n",
        "    print(f\"✅ 總訓練時間：{total_time:.2f} 秒 (≤ 2 小時)\")\n",
        "    print(\"\\n--- 基準性能 ---\")\n",
        "    print(f\"📊 mIoU Baseline: {mIoU_base:.4f}\"); print(f\"📈 mAP Baseline:  {mAP_base:.4f}\"); print(f\"📈 Top-1 Baseline: {Top1_base:.4f}\")\n",
        "    print(\"\\n--- 最終性能下降 ---\")\n",
        "    print(f\"📉 mIoU Drop: {mIoU_drop:.4f}\"); print(f\"📉 mAP Drop:  {mAP_drop:.4f}\"); print(f\"📉 Top-1 Drop: {top1_drop:.4f}\")\n",
        "    print(\"\\n--- 是否符合要求 ---\")\n",
        "    mIoU_ok = (mIoU_base - mIoU_drop) >= (mIoU_base * 0.95)\n",
        "    mAP_ok = ((mAP_base - mAP_drop) if mAP_base > 0 else 1.0) >= (mAP_base * 0.95)\n",
        "    Top1_ok = ((Top1_base - top1_drop) if Top1_base > 0 else 1.0) >= (Top1_base * 0.95)\n",
        "    print(f\"mIoU (≥ {mIoU_base*0.95:.4f}): {'✅ 符合' if mIoU_ok else '❌ 不符合'}\"); print(f\"mAP (≥ {mAP_base*0.95:.4f}):  {'✅ 符合' if mAP_ok else '❌ 不符合'}\"); print(f\"Top-1 (≥ {Top1_base*0.95:.4f}): {'✅ 符合' if Top1_ok else '❌ 不符合'}\")\n",
        "    print(\"=\"*60 + \"\\n\")\n",
        "\n",
        "    # 5. SAVE MODEL\n",
        "    model_name = \"your_model_with_replay.pt\"\n",
        "    print(f\"💾 正在儲存模型權重至 {model_name}...\")\n",
        "    torch.save(model.state_dict(), model_name)\n",
        "    print(\"✅ 模型儲存完成！\")\n",
        "\n",
        "    # 6. RETURN HISTORY FOR PLOTTING\n",
        "    history = {\n",
        "        \"loss1\": loss1_hist, \"loss2\": loss2_hist, \"loss3\": loss3_hist,\n",
        "        \"miou1\": miou1_hist, \"miou2\": miou2_hist, \"miou3\": miou3_hist,\n",
        "        \"map3\": map3_hist, \"top1_3\": top1_3_hist,\n",
        "        \"mIoU_base\": mIoU_base\n",
        "    }\n",
        "    return history\n",
        "\n",
        "def plot_training_results(history_data, experiment_name=\"\"):\n",
        "    \"\"\"接收訓練歷史數據字典，並繪製所有分析圖表。\"\"\"\n",
        "    print(\"\\n\" + \"=\"*60 + f\"\\n📊 **開始繪製實驗分析圖表: {experiment_name}**\\n\" + \"=\"*60)\n",
        "    loss1, loss2, loss3 = history_data.get('loss1', []), history_data.get('loss2', []), history_data.get('loss3', [])\n",
        "    miou1, miou2, miou3 = history_data.get('miou1', []), history_data.get('miou2', []), history_data.get('miou3', [])\n",
        "    map3_hist, top1_3_hist = history_data.get('map3', []), history_data.get('top1_3', [])\n",
        "    mIoU_base = history_data.get('mIoU_base', 0)\n",
        "    s1_len, s2_len, s3_len = len(loss1), len(loss2), len(loss3)\n",
        "    all_mious = miou1 + miou2 + miou3\n",
        "    title_suffix = f\"({experiment_name})\" if experiment_name else \"\"\n",
        "\n",
        "    if loss1 or loss2 or loss3:\n",
        "        fig, axes = plt.subplots(3, 1, figsize=(12, 18))\n",
        "        fig.suptitle(f'Training Loss Across All Stages {title_suffix}', fontsize=16)\n",
        "        if s1_len > 0: axes[0].plot(range(1, s1_len + 1), loss1, 'o-', c='royalblue', label='Stage 1 (Seg) Loss')\n",
        "        axes[0].set_title('Stage 1 Loss'); axes[0].set_xlabel('Epoch'); axes[0].set_ylabel('Loss'); axes[0].legend(); axes[0].grid(True); axes[0].set_xticks(ticks=range(1, s1_len + 1) if s1_len > 0 else [1])\n",
        "        if s2_len > 0: axes[1].plot(range(1, s2_len + 1), loss2, 's-', c='darkorange', label='Stage 2 (Det) Loss')\n",
        "        axes[1].set_title('Stage 2 Loss'); axes[1].set_xlabel('Epoch'); axes[1].set_ylabel('Loss (High Magnitude)'); axes[1].legend(); axes[1].grid(True); axes[1].set_xticks(ticks=range(1, s2_len + 1) if s2_len > 0 else [1])\n",
        "        if s3_len > 0: axes[2].plot(range(1, s3_len + 1), loss3, '^-', c='purple', label='Stage 3 (Cls) Loss')\n",
        "        axes[2].set_title('Stage 3 Loss'); axes[2].set_xlabel('Epoch'); axes[2].set_ylabel('Loss'); axes[2].legend(); axes[2].grid(True); axes[2].set_xticks(ticks=range(1, s3_len + 1) if s3_len > 0 else [1])\n",
        "        plt.tight_layout(rect=[0, 0.03, 1, 0.96]); plt.show()\n",
        "\n",
        "    if all_mious:\n",
        "        plt.figure(figsize=(16, 8))\n",
        "        x_axis_all = range(1, len(all_mious) + 1)\n",
        "        if s1_len > 0: plt.plot(range(1, s1_len + 1), miou1, 'o-', color='royalblue', label='Stage 1 (Seg) mIoU')\n",
        "        if s2_len > 0: plt.plot(range(s1_len + 1, s1_len + s2_len + 1), miou2, 's-', color='darkorange', label='Stage 2 (Det) mIoU')\n",
        "        if s3_len > 0: plt.plot(range(s1_len + s2_len + 1, s1_len + s2_len + s3_len + 1), miou3, '^-', color='purple', label='Stage 3 (Cls) mIoU')\n",
        "        final_mIoU = all_mious[-1]\n",
        "        plt.axhline(y=mIoU_base, color='green', linestyle=':', label=f'mIoU Baseline ({mIoU_base:.4f})')\n",
        "        plt.axhline(y=mIoU_base * 0.95, color='red', linestyle=':', label=f'5% Drop Tolerance ({mIoU_base*0.95:.4f})')\n",
        "        if s1_len > 0: plt.axvline(x=s1_len, color='grey', linestyle='--')\n",
        "        if s2_len > 0: plt.axvline(x=s1_len + s2_len, color='grey', linestyle='--')\n",
        "        plt.scatter(len(all_mious), final_mIoU, s=200, c='red', marker='*', zorder=5, label=f'Final mIoU ({final_mIoU:.4f})')\n",
        "        plt.title(f'End-to-End mIoU Evolution {title_suffix}'); plt.xlabel('Global Epoch'); plt.ylabel('mIoU')\n",
        "        plt.xticks(ticks=x_axis_all); plt.legend(); plt.grid(True); plt.show()\n",
        "\n",
        "    if map3_hist and top1_3_hist:\n",
        "        plt.figure(figsize=(16, 8))\n",
        "        stage3_x_axis = range(s1_len + s2_len + 1, s1_len + s2_len + s3_len + 1)\n",
        "        if len(stage3_x_axis) == len(map3_hist): plt.plot(stage3_x_axis, map3_hist, 'o-', color='darkcyan', label='Stage 3 mAP Evolution')\n",
        "        if len(stage3_x_axis) == len(top1_3_hist): plt.plot(stage3_x_axis, top1_3_hist, 's-', color='goldenrod', label='Stage 3 Top-1 Accuracy Evolution')\n",
        "        if s1_len > 0 or s2_len > 0: plt.axvline(x=s1_len + s2_len, color='grey', linestyle='--', label='Start of Stage 3')\n",
        "        plt.title(f'Classification Performance Evolution {title_suffix}'); plt.xlabel('Global Epoch'); plt.ylabel('Score')\n",
        "        plt.xticks(ticks=stage3_x_axis); plt.legend(); plt.grid(True); plt.show()\n",
        "\n",
        "# 執行實驗\n",
        "replay_history = run_and_plot_experiment()"
      ],
      "metadata": {
        "colab": {
          "base_uri": "https://localhost:8080/"
        },
        "id": "vWRFqciIryOq",
        "outputId": "700fbc13-e58e-4316-fc87-97a4ff6b96c8"
      },
      "execution_count": 3,
      "outputs": [
        {
          "output_type": "stream",
          "name": "stdout",
          "text": [
            "============================================================\n",
            "🔬 開始執行實驗：循序訓練 (有經驗回放)\n",
            "============================================================\n"
          ]
        },
        {
          "output_type": "stream",
          "name": "stderr",
          "text": [
            "Downloading: \"https://download.pytorch.org/models/mobilenet_v3_small-047dcff4.pth\" to /root/.cache/torch/hub/checkpoints/mobilenet_v3_small-047dcff4.pth\n",
            "100%|██████████| 9.83M/9.83M [00:00<00:00, 126MB/s]\n"
          ]
        },
        {
          "output_type": "stream",
          "name": "stdout",
          "text": [
            "--- 正在準備所有 DataLoaders (含 Replay)... ---\n",
            "✅ 所有 DataLoaders 準備完成！\n",
            "🎯 Stage 1: Segmentation 訓練中，共 100 個 Epochs\n"
          ]
        },
        {
          "output_type": "stream",
          "name": "stderr",
          "text": [
            "Epoch 1/100: 100%|██████████| 40/40 [00:05<00:00,  6.84it/s]"
          ]
        },
        {
          "output_type": "stream",
          "name": "stdout",
          "text": [
            "🔧 Epoch 1 Loss: 0.4361\n"
          ]
        },
        {
          "output_type": "stream",
          "name": "stderr",
          "text": [
            "\n"
          ]
        },
        {
          "output_type": "stream",
          "name": "stdout",
          "text": [
            "📊 mIoU: 0.8848\n"
          ]
        },
        {
          "output_type": "stream",
          "name": "stderr",
          "text": [
            "Epoch 2/100: 100%|██████████| 40/40 [00:05<00:00,  7.78it/s]"
          ]
        },
        {
          "output_type": "stream",
          "name": "stdout",
          "text": [
            "🔧 Epoch 2 Loss: 0.1341\n"
          ]
        },
        {
          "output_type": "stream",
          "name": "stderr",
          "text": [
            "\n"
          ]
        },
        {
          "output_type": "stream",
          "name": "stdout",
          "text": [
            "📊 mIoU: 0.8923\n"
          ]
        },
        {
          "output_type": "stream",
          "name": "stderr",
          "text": [
            "Epoch 3/100: 100%|██████████| 40/40 [00:03<00:00, 10.08it/s]"
          ]
        },
        {
          "output_type": "stream",
          "name": "stdout",
          "text": [
            "🔧 Epoch 3 Loss: 0.0671\n"
          ]
        },
        {
          "output_type": "stream",
          "name": "stderr",
          "text": [
            "\n"
          ]
        },
        {
          "output_type": "stream",
          "name": "stdout",
          "text": [
            "📊 mIoU: 0.9096\n"
          ]
        },
        {
          "output_type": "stream",
          "name": "stderr",
          "text": [
            "Epoch 4/100: 100%|██████████| 40/40 [00:05<00:00,  6.87it/s]"
          ]
        },
        {
          "output_type": "stream",
          "name": "stdout",
          "text": [
            "🔧 Epoch 4 Loss: 0.0482\n"
          ]
        },
        {
          "output_type": "stream",
          "name": "stderr",
          "text": [
            "\n"
          ]
        },
        {
          "output_type": "stream",
          "name": "stdout",
          "text": [
            "📊 mIoU: 0.9011\n"
          ]
        },
        {
          "output_type": "stream",
          "name": "stderr",
          "text": [
            "Epoch 5/100: 100%|██████████| 40/40 [00:03<00:00, 10.01it/s]"
          ]
        },
        {
          "output_type": "stream",
          "name": "stdout",
          "text": [
            "🔧 Epoch 5 Loss: 0.0383\n"
          ]
        },
        {
          "output_type": "stream",
          "name": "stderr",
          "text": [
            "\n"
          ]
        },
        {
          "output_type": "stream",
          "name": "stdout",
          "text": [
            "📊 mIoU: 0.9155\n"
          ]
        },
        {
          "output_type": "stream",
          "name": "stderr",
          "text": [
            "Epoch 6/100: 100%|██████████| 40/40 [00:04<00:00,  9.80it/s]"
          ]
        },
        {
          "output_type": "stream",
          "name": "stdout",
          "text": [
            "🔧 Epoch 6 Loss: 0.0748\n"
          ]
        },
        {
          "output_type": "stream",
          "name": "stderr",
          "text": [
            "\n"
          ]
        },
        {
          "output_type": "stream",
          "name": "stdout",
          "text": [
            "📊 mIoU: 0.9063\n"
          ]
        },
        {
          "output_type": "stream",
          "name": "stderr",
          "text": [
            "Epoch 7/100: 100%|██████████| 40/40 [00:04<00:00,  8.27it/s]"
          ]
        },
        {
          "output_type": "stream",
          "name": "stdout",
          "text": [
            "🔧 Epoch 7 Loss: 0.0436\n"
          ]
        },
        {
          "output_type": "stream",
          "name": "stderr",
          "text": [
            "\n"
          ]
        },
        {
          "output_type": "stream",
          "name": "stdout",
          "text": [
            "📊 mIoU: 0.9160\n"
          ]
        },
        {
          "output_type": "stream",
          "name": "stderr",
          "text": [
            "Epoch 8/100: 100%|██████████| 40/40 [00:04<00:00,  9.95it/s]"
          ]
        },
        {
          "output_type": "stream",
          "name": "stdout",
          "text": [
            "🔧 Epoch 8 Loss: 0.0273\n"
          ]
        },
        {
          "output_type": "stream",
          "name": "stderr",
          "text": [
            "\n"
          ]
        },
        {
          "output_type": "stream",
          "name": "stdout",
          "text": [
            "📊 mIoU: 0.9117\n"
          ]
        },
        {
          "output_type": "stream",
          "name": "stderr",
          "text": [
            "Epoch 9/100: 100%|██████████| 40/40 [00:05<00:00,  7.68it/s]"
          ]
        },
        {
          "output_type": "stream",
          "name": "stdout",
          "text": [
            "🔧 Epoch 9 Loss: 0.0567\n"
          ]
        },
        {
          "output_type": "stream",
          "name": "stderr",
          "text": [
            "\n"
          ]
        },
        {
          "output_type": "stream",
          "name": "stdout",
          "text": [
            "📊 mIoU: 0.9125\n"
          ]
        },
        {
          "output_type": "stream",
          "name": "stderr",
          "text": [
            "Epoch 10/100: 100%|██████████| 40/40 [00:03<00:00, 10.03it/s]"
          ]
        },
        {
          "output_type": "stream",
          "name": "stdout",
          "text": [
            "🔧 Epoch 10 Loss: 0.0903\n"
          ]
        },
        {
          "output_type": "stream",
          "name": "stderr",
          "text": [
            "\n"
          ]
        },
        {
          "output_type": "stream",
          "name": "stdout",
          "text": [
            "📊 mIoU: 0.9068\n"
          ]
        },
        {
          "output_type": "stream",
          "name": "stderr",
          "text": [
            "Epoch 11/100: 100%|██████████| 40/40 [00:04<00:00,  8.41it/s]"
          ]
        },
        {
          "output_type": "stream",
          "name": "stdout",
          "text": [
            "🔧 Epoch 11 Loss: 0.0585\n"
          ]
        },
        {
          "output_type": "stream",
          "name": "stderr",
          "text": [
            "\n"
          ]
        },
        {
          "output_type": "stream",
          "name": "stdout",
          "text": [
            "📊 mIoU: 0.9147\n"
          ]
        },
        {
          "output_type": "stream",
          "name": "stderr",
          "text": [
            "Epoch 12/100: 100%|██████████| 40/40 [00:03<00:00, 10.00it/s]"
          ]
        },
        {
          "output_type": "stream",
          "name": "stdout",
          "text": [
            "🔧 Epoch 12 Loss: 0.0319\n"
          ]
        },
        {
          "output_type": "stream",
          "name": "stderr",
          "text": [
            "\n"
          ]
        },
        {
          "output_type": "stream",
          "name": "stdout",
          "text": [
            "📊 mIoU: 0.9186\n"
          ]
        },
        {
          "output_type": "stream",
          "name": "stderr",
          "text": [
            "Epoch 13/100: 100%|██████████| 40/40 [00:03<00:00, 10.03it/s]"
          ]
        },
        {
          "output_type": "stream",
          "name": "stdout",
          "text": [
            "🔧 Epoch 13 Loss: 0.0139\n"
          ]
        },
        {
          "output_type": "stream",
          "name": "stderr",
          "text": [
            "\n"
          ]
        },
        {
          "output_type": "stream",
          "name": "stdout",
          "text": [
            "📊 mIoU: 0.9171\n"
          ]
        },
        {
          "output_type": "stream",
          "name": "stderr",
          "text": [
            "Epoch 14/100: 100%|██████████| 40/40 [00:04<00:00,  8.33it/s]"
          ]
        },
        {
          "output_type": "stream",
          "name": "stdout",
          "text": [
            "🔧 Epoch 14 Loss: 0.0165\n"
          ]
        },
        {
          "output_type": "stream",
          "name": "stderr",
          "text": [
            "\n"
          ]
        },
        {
          "output_type": "stream",
          "name": "stdout",
          "text": [
            "📊 mIoU: 0.9125\n"
          ]
        },
        {
          "output_type": "stream",
          "name": "stderr",
          "text": [
            "Epoch 15/100: 100%|██████████| 40/40 [00:03<00:00, 10.02it/s]"
          ]
        },
        {
          "output_type": "stream",
          "name": "stdout",
          "text": [
            "🔧 Epoch 15 Loss: 0.0118\n"
          ]
        },
        {
          "output_type": "stream",
          "name": "stderr",
          "text": [
            "\n"
          ]
        },
        {
          "output_type": "stream",
          "name": "stdout",
          "text": [
            "📊 mIoU: 0.9110\n"
          ]
        },
        {
          "output_type": "stream",
          "name": "stderr",
          "text": [
            "Epoch 16/100: 100%|██████████| 40/40 [00:05<00:00,  8.00it/s]"
          ]
        },
        {
          "output_type": "stream",
          "name": "stdout",
          "text": [
            "🔧 Epoch 16 Loss: 0.0073\n"
          ]
        },
        {
          "output_type": "stream",
          "name": "stderr",
          "text": [
            "\n"
          ]
        },
        {
          "output_type": "stream",
          "name": "stdout",
          "text": [
            "📊 mIoU: 0.9120\n"
          ]
        },
        {
          "output_type": "stream",
          "name": "stderr",
          "text": [
            "Epoch 17/100: 100%|██████████| 40/40 [00:03<00:00, 10.16it/s]"
          ]
        },
        {
          "output_type": "stream",
          "name": "stdout",
          "text": [
            "🔧 Epoch 17 Loss: 0.0049\n"
          ]
        },
        {
          "output_type": "stream",
          "name": "stderr",
          "text": [
            "\n"
          ]
        },
        {
          "output_type": "stream",
          "name": "stdout",
          "text": [
            "📊 mIoU: 0.9132\n"
          ]
        },
        {
          "output_type": "stream",
          "name": "stderr",
          "text": [
            "Epoch 18/100: 100%|██████████| 40/40 [00:05<00:00,  7.76it/s]"
          ]
        },
        {
          "output_type": "stream",
          "name": "stdout",
          "text": [
            "🔧 Epoch 18 Loss: 0.0048\n"
          ]
        },
        {
          "output_type": "stream",
          "name": "stderr",
          "text": [
            "\n"
          ]
        },
        {
          "output_type": "stream",
          "name": "stdout",
          "text": [
            "📊 mIoU: 0.9112\n"
          ]
        },
        {
          "output_type": "stream",
          "name": "stderr",
          "text": [
            "Epoch 19/100: 100%|██████████| 40/40 [00:03<00:00, 10.28it/s]"
          ]
        },
        {
          "output_type": "stream",
          "name": "stdout",
          "text": [
            "🔧 Epoch 19 Loss: 0.0075\n"
          ]
        },
        {
          "output_type": "stream",
          "name": "stderr",
          "text": [
            "\n"
          ]
        },
        {
          "output_type": "stream",
          "name": "stdout",
          "text": [
            "📊 mIoU: 0.9153\n"
          ]
        },
        {
          "output_type": "stream",
          "name": "stderr",
          "text": [
            "Epoch 20/100: 100%|██████████| 40/40 [00:04<00:00,  9.73it/s]"
          ]
        },
        {
          "output_type": "stream",
          "name": "stdout",
          "text": [
            "🔧 Epoch 20 Loss: 0.0124\n"
          ]
        },
        {
          "output_type": "stream",
          "name": "stderr",
          "text": [
            "\n"
          ]
        },
        {
          "output_type": "stream",
          "name": "stdout",
          "text": [
            "📊 mIoU: 0.9082\n"
          ]
        },
        {
          "output_type": "stream",
          "name": "stderr",
          "text": [
            "Epoch 21/100: 100%|██████████| 40/40 [00:04<00:00,  9.93it/s]"
          ]
        },
        {
          "output_type": "stream",
          "name": "stdout",
          "text": [
            "🔧 Epoch 21 Loss: 0.0135\n"
          ]
        },
        {
          "output_type": "stream",
          "name": "stderr",
          "text": [
            "\n"
          ]
        },
        {
          "output_type": "stream",
          "name": "stdout",
          "text": [
            "📊 mIoU: 0.9083\n"
          ]
        },
        {
          "output_type": "stream",
          "name": "stderr",
          "text": [
            "Epoch 22/100: 100%|██████████| 40/40 [00:03<00:00, 10.12it/s]"
          ]
        },
        {
          "output_type": "stream",
          "name": "stdout",
          "text": [
            "🔧 Epoch 22 Loss: 0.0084\n"
          ]
        },
        {
          "output_type": "stream",
          "name": "stderr",
          "text": [
            "\n"
          ]
        },
        {
          "output_type": "stream",
          "name": "stdout",
          "text": [
            "📊 mIoU: 0.9088\n"
          ]
        },
        {
          "output_type": "stream",
          "name": "stderr",
          "text": [
            "Epoch 23/100: 100%|██████████| 40/40 [00:05<00:00,  7.88it/s]"
          ]
        },
        {
          "output_type": "stream",
          "name": "stdout",
          "text": [
            "🔧 Epoch 23 Loss: 0.0084\n"
          ]
        },
        {
          "output_type": "stream",
          "name": "stderr",
          "text": [
            "\n"
          ]
        },
        {
          "output_type": "stream",
          "name": "stdout",
          "text": [
            "📊 mIoU: 0.9111\n"
          ]
        },
        {
          "output_type": "stream",
          "name": "stderr",
          "text": [
            "Epoch 24/100: 100%|██████████| 40/40 [00:03<00:00, 10.12it/s]"
          ]
        },
        {
          "output_type": "stream",
          "name": "stdout",
          "text": [
            "🔧 Epoch 24 Loss: 0.0078\n"
          ]
        },
        {
          "output_type": "stream",
          "name": "stderr",
          "text": [
            "\n"
          ]
        },
        {
          "output_type": "stream",
          "name": "stdout",
          "text": [
            "📊 mIoU: 0.9096\n"
          ]
        },
        {
          "output_type": "stream",
          "name": "stderr",
          "text": [
            "Epoch 25/100: 100%|██████████| 40/40 [00:05<00:00,  7.87it/s]"
          ]
        },
        {
          "output_type": "stream",
          "name": "stdout",
          "text": [
            "🔧 Epoch 25 Loss: 0.0039\n"
          ]
        },
        {
          "output_type": "stream",
          "name": "stderr",
          "text": [
            "\n"
          ]
        },
        {
          "output_type": "stream",
          "name": "stdout",
          "text": [
            "📊 mIoU: 0.9099\n"
          ]
        },
        {
          "output_type": "stream",
          "name": "stderr",
          "text": [
            "Epoch 26/100: 100%|██████████| 40/40 [00:03<00:00, 10.17it/s]"
          ]
        },
        {
          "output_type": "stream",
          "name": "stdout",
          "text": [
            "🔧 Epoch 26 Loss: 0.0104\n"
          ]
        },
        {
          "output_type": "stream",
          "name": "stderr",
          "text": [
            "\n"
          ]
        },
        {
          "output_type": "stream",
          "name": "stdout",
          "text": [
            "📊 mIoU: 0.8988\n"
          ]
        },
        {
          "output_type": "stream",
          "name": "stderr",
          "text": [
            "Epoch 27/100: 100%|██████████| 40/40 [00:04<00:00,  8.65it/s]"
          ]
        },
        {
          "output_type": "stream",
          "name": "stdout",
          "text": [
            "🔧 Epoch 27 Loss: 0.0099\n"
          ]
        },
        {
          "output_type": "stream",
          "name": "stderr",
          "text": [
            "\n"
          ]
        },
        {
          "output_type": "stream",
          "name": "stdout",
          "text": [
            "📊 mIoU: 0.9141\n"
          ]
        },
        {
          "output_type": "stream",
          "name": "stderr",
          "text": [
            "Epoch 28/100: 100%|██████████| 40/40 [00:04<00:00,  9.94it/s]"
          ]
        },
        {
          "output_type": "stream",
          "name": "stdout",
          "text": [
            "🔧 Epoch 28 Loss: 0.0830\n"
          ]
        },
        {
          "output_type": "stream",
          "name": "stderr",
          "text": [
            "\n"
          ]
        },
        {
          "output_type": "stream",
          "name": "stdout",
          "text": [
            "📊 mIoU: 0.8908\n"
          ]
        },
        {
          "output_type": "stream",
          "name": "stderr",
          "text": [
            "Epoch 29/100: 100%|██████████| 40/40 [00:03<00:00, 10.02it/s]"
          ]
        },
        {
          "output_type": "stream",
          "name": "stdout",
          "text": [
            "🔧 Epoch 29 Loss: 0.1179\n"
          ]
        },
        {
          "output_type": "stream",
          "name": "stderr",
          "text": [
            "\n"
          ]
        },
        {
          "output_type": "stream",
          "name": "stdout",
          "text": [
            "📊 mIoU: 0.8979\n"
          ]
        },
        {
          "output_type": "stream",
          "name": "stderr",
          "text": [
            "Epoch 30/100: 100%|██████████| 40/40 [00:04<00:00,  8.12it/s]"
          ]
        },
        {
          "output_type": "stream",
          "name": "stdout",
          "text": [
            "🔧 Epoch 30 Loss: 0.0754\n"
          ]
        },
        {
          "output_type": "stream",
          "name": "stderr",
          "text": [
            "\n"
          ]
        },
        {
          "output_type": "stream",
          "name": "stdout",
          "text": [
            "📊 mIoU: 0.8558\n"
          ]
        },
        {
          "output_type": "stream",
          "name": "stderr",
          "text": [
            "Epoch 31/100: 100%|██████████| 40/40 [00:04<00:00,  9.77it/s]"
          ]
        },
        {
          "output_type": "stream",
          "name": "stdout",
          "text": [
            "🔧 Epoch 31 Loss: 0.0996\n"
          ]
        },
        {
          "output_type": "stream",
          "name": "stderr",
          "text": [
            "\n"
          ]
        },
        {
          "output_type": "stream",
          "name": "stdout",
          "text": [
            "📊 mIoU: 0.9011\n"
          ]
        },
        {
          "output_type": "stream",
          "name": "stderr",
          "text": [
            "Epoch 32/100: 100%|██████████| 40/40 [00:05<00:00,  7.83it/s]"
          ]
        },
        {
          "output_type": "stream",
          "name": "stdout",
          "text": [
            "🔧 Epoch 32 Loss: 0.0702\n"
          ]
        },
        {
          "output_type": "stream",
          "name": "stderr",
          "text": [
            "\n"
          ]
        },
        {
          "output_type": "stream",
          "name": "stdout",
          "text": [
            "📊 mIoU: 0.9137\n"
          ]
        },
        {
          "output_type": "stream",
          "name": "stderr",
          "text": [
            "Epoch 33/100: 100%|██████████| 40/40 [00:04<00:00,  9.99it/s]"
          ]
        },
        {
          "output_type": "stream",
          "name": "stdout",
          "text": [
            "🔧 Epoch 33 Loss: 0.0471\n"
          ]
        },
        {
          "output_type": "stream",
          "name": "stderr",
          "text": [
            "\n"
          ]
        },
        {
          "output_type": "stream",
          "name": "stdout",
          "text": [
            "📊 mIoU: 0.9048\n"
          ]
        },
        {
          "output_type": "stream",
          "name": "stderr",
          "text": [
            "Epoch 34/100: 100%|██████████| 40/40 [00:04<00:00,  8.67it/s]"
          ]
        },
        {
          "output_type": "stream",
          "name": "stdout",
          "text": [
            "🔧 Epoch 34 Loss: 0.0170\n"
          ]
        },
        {
          "output_type": "stream",
          "name": "stderr",
          "text": [
            "\n"
          ]
        },
        {
          "output_type": "stream",
          "name": "stdout",
          "text": [
            "📊 mIoU: 0.9092\n"
          ]
        },
        {
          "output_type": "stream",
          "name": "stderr",
          "text": [
            "Epoch 35/100: 100%|██████████| 40/40 [00:04<00:00,  9.70it/s]"
          ]
        },
        {
          "output_type": "stream",
          "name": "stdout",
          "text": [
            "🔧 Epoch 35 Loss: 0.0086\n"
          ]
        },
        {
          "output_type": "stream",
          "name": "stderr",
          "text": [
            "\n"
          ]
        },
        {
          "output_type": "stream",
          "name": "stdout",
          "text": [
            "📊 mIoU: 0.9104\n"
          ]
        },
        {
          "output_type": "stream",
          "name": "stderr",
          "text": [
            "Epoch 36/100: 100%|██████████| 40/40 [00:03<00:00, 10.05it/s]"
          ]
        },
        {
          "output_type": "stream",
          "name": "stdout",
          "text": [
            "🔧 Epoch 36 Loss: 0.0074\n"
          ]
        },
        {
          "output_type": "stream",
          "name": "stderr",
          "text": [
            "\n"
          ]
        },
        {
          "output_type": "stream",
          "name": "stdout",
          "text": [
            "📊 mIoU: 0.9109\n"
          ]
        },
        {
          "output_type": "stream",
          "name": "stderr",
          "text": [
            "Epoch 37/100: 100%|██████████| 40/40 [00:05<00:00,  7.93it/s]"
          ]
        },
        {
          "output_type": "stream",
          "name": "stdout",
          "text": [
            "🔧 Epoch 37 Loss: 0.0060\n"
          ]
        },
        {
          "output_type": "stream",
          "name": "stderr",
          "text": [
            "\n"
          ]
        },
        {
          "output_type": "stream",
          "name": "stdout",
          "text": [
            "📊 mIoU: 0.9106\n"
          ]
        },
        {
          "output_type": "stream",
          "name": "stderr",
          "text": [
            "Epoch 38/100: 100%|██████████| 40/40 [00:04<00:00,  9.94it/s]"
          ]
        },
        {
          "output_type": "stream",
          "name": "stdout",
          "text": [
            "🔧 Epoch 38 Loss: 0.0058\n"
          ]
        },
        {
          "output_type": "stream",
          "name": "stderr",
          "text": [
            "\n"
          ]
        },
        {
          "output_type": "stream",
          "name": "stdout",
          "text": [
            "📊 mIoU: 0.9123\n"
          ]
        },
        {
          "output_type": "stream",
          "name": "stderr",
          "text": [
            "Epoch 39/100: 100%|██████████| 40/40 [00:05<00:00,  7.65it/s]"
          ]
        },
        {
          "output_type": "stream",
          "name": "stdout",
          "text": [
            "🔧 Epoch 39 Loss: 0.0039\n"
          ]
        },
        {
          "output_type": "stream",
          "name": "stderr",
          "text": [
            "\n"
          ]
        },
        {
          "output_type": "stream",
          "name": "stdout",
          "text": [
            "📊 mIoU: 0.9134\n"
          ]
        },
        {
          "output_type": "stream",
          "name": "stderr",
          "text": [
            "Epoch 40/100: 100%|██████████| 40/40 [00:04<00:00,  9.98it/s]"
          ]
        },
        {
          "output_type": "stream",
          "name": "stdout",
          "text": [
            "🔧 Epoch 40 Loss: 0.0036\n"
          ]
        },
        {
          "output_type": "stream",
          "name": "stderr",
          "text": [
            "\n"
          ]
        },
        {
          "output_type": "stream",
          "name": "stdout",
          "text": [
            "📊 mIoU: 0.9125\n"
          ]
        },
        {
          "output_type": "stream",
          "name": "stderr",
          "text": [
            "Epoch 41/100: 100%|██████████| 40/40 [00:04<00:00,  8.50it/s]"
          ]
        },
        {
          "output_type": "stream",
          "name": "stdout",
          "text": [
            "🔧 Epoch 41 Loss: 0.0040\n"
          ]
        },
        {
          "output_type": "stream",
          "name": "stderr",
          "text": [
            "\n"
          ]
        },
        {
          "output_type": "stream",
          "name": "stdout",
          "text": [
            "📊 mIoU: 0.9140\n"
          ]
        },
        {
          "output_type": "stream",
          "name": "stderr",
          "text": [
            "Epoch 42/100: 100%|██████████| 40/40 [00:04<00:00,  9.98it/s]"
          ]
        },
        {
          "output_type": "stream",
          "name": "stdout",
          "text": [
            "🔧 Epoch 42 Loss: 0.0037\n"
          ]
        },
        {
          "output_type": "stream",
          "name": "stderr",
          "text": [
            "\n"
          ]
        },
        {
          "output_type": "stream",
          "name": "stdout",
          "text": [
            "📊 mIoU: 0.9128\n"
          ]
        },
        {
          "output_type": "stream",
          "name": "stderr",
          "text": [
            "Epoch 43/100: 100%|██████████| 40/40 [00:03<00:00, 10.10it/s]"
          ]
        },
        {
          "output_type": "stream",
          "name": "stdout",
          "text": [
            "🔧 Epoch 43 Loss: 0.0035\n"
          ]
        },
        {
          "output_type": "stream",
          "name": "stderr",
          "text": [
            "\n"
          ]
        },
        {
          "output_type": "stream",
          "name": "stdout",
          "text": [
            "📊 mIoU: 0.9128\n"
          ]
        },
        {
          "output_type": "stream",
          "name": "stderr",
          "text": [
            "Epoch 44/100: 100%|██████████| 40/40 [00:04<00:00,  8.64it/s]"
          ]
        },
        {
          "output_type": "stream",
          "name": "stdout",
          "text": [
            "🔧 Epoch 44 Loss: 0.0031\n"
          ]
        },
        {
          "output_type": "stream",
          "name": "stderr",
          "text": [
            "\n"
          ]
        },
        {
          "output_type": "stream",
          "name": "stdout",
          "text": [
            "📊 mIoU: 0.9131\n"
          ]
        },
        {
          "output_type": "stream",
          "name": "stderr",
          "text": [
            "Epoch 45/100: 100%|██████████| 40/40 [00:03<00:00, 10.11it/s]"
          ]
        },
        {
          "output_type": "stream",
          "name": "stdout",
          "text": [
            "🔧 Epoch 45 Loss: 0.0036\n"
          ]
        },
        {
          "output_type": "stream",
          "name": "stderr",
          "text": [
            "\n"
          ]
        },
        {
          "output_type": "stream",
          "name": "stdout",
          "text": [
            "📊 mIoU: 0.9124\n"
          ]
        },
        {
          "output_type": "stream",
          "name": "stderr",
          "text": [
            "Epoch 46/100: 100%|██████████| 40/40 [00:05<00:00,  7.92it/s]"
          ]
        },
        {
          "output_type": "stream",
          "name": "stdout",
          "text": [
            "🔧 Epoch 46 Loss: 0.0038\n"
          ]
        },
        {
          "output_type": "stream",
          "name": "stderr",
          "text": [
            "\n"
          ]
        },
        {
          "output_type": "stream",
          "name": "stdout",
          "text": [
            "📊 mIoU: 0.9137\n"
          ]
        },
        {
          "output_type": "stream",
          "name": "stderr",
          "text": [
            "Epoch 47/100: 100%|██████████| 40/40 [00:03<00:00, 10.16it/s]"
          ]
        },
        {
          "output_type": "stream",
          "name": "stdout",
          "text": [
            "🔧 Epoch 47 Loss: 0.0042\n"
          ]
        },
        {
          "output_type": "stream",
          "name": "stderr",
          "text": [
            "\n"
          ]
        },
        {
          "output_type": "stream",
          "name": "stdout",
          "text": [
            "📊 mIoU: 0.9159\n"
          ]
        },
        {
          "output_type": "stream",
          "name": "stderr",
          "text": [
            "Epoch 48/100: 100%|██████████| 40/40 [00:05<00:00,  7.73it/s]"
          ]
        },
        {
          "output_type": "stream",
          "name": "stdout",
          "text": [
            "🔧 Epoch 48 Loss: 0.0031\n"
          ]
        },
        {
          "output_type": "stream",
          "name": "stderr",
          "text": [
            "\n"
          ]
        },
        {
          "output_type": "stream",
          "name": "stdout",
          "text": [
            "📊 mIoU: 0.9149\n"
          ]
        },
        {
          "output_type": "stream",
          "name": "stderr",
          "text": [
            "Epoch 49/100: 100%|██████████| 40/40 [00:03<00:00, 10.12it/s]"
          ]
        },
        {
          "output_type": "stream",
          "name": "stdout",
          "text": [
            "🔧 Epoch 49 Loss: 0.0026\n"
          ]
        },
        {
          "output_type": "stream",
          "name": "stderr",
          "text": [
            "\n"
          ]
        },
        {
          "output_type": "stream",
          "name": "stdout",
          "text": [
            "📊 mIoU: 0.9158\n"
          ]
        },
        {
          "output_type": "stream",
          "name": "stderr",
          "text": [
            "Epoch 50/100: 100%|██████████| 40/40 [00:04<00:00,  9.00it/s]"
          ]
        },
        {
          "output_type": "stream",
          "name": "stdout",
          "text": [
            "🔧 Epoch 50 Loss: 0.0025\n"
          ]
        },
        {
          "output_type": "stream",
          "name": "stderr",
          "text": [
            "\n"
          ]
        },
        {
          "output_type": "stream",
          "name": "stdout",
          "text": [
            "📊 mIoU: 0.9166\n"
          ]
        },
        {
          "output_type": "stream",
          "name": "stderr",
          "text": [
            "Epoch 51/100: 100%|██████████| 40/40 [00:03<00:00, 10.01it/s]"
          ]
        },
        {
          "output_type": "stream",
          "name": "stdout",
          "text": [
            "🔧 Epoch 51 Loss: 0.0021\n"
          ]
        },
        {
          "output_type": "stream",
          "name": "stderr",
          "text": [
            "\n"
          ]
        },
        {
          "output_type": "stream",
          "name": "stdout",
          "text": [
            "📊 mIoU: 0.9153\n"
          ]
        },
        {
          "output_type": "stream",
          "name": "stderr",
          "text": [
            "Epoch 52/100: 100%|██████████| 40/40 [00:04<00:00,  9.91it/s]"
          ]
        },
        {
          "output_type": "stream",
          "name": "stdout",
          "text": [
            "🔧 Epoch 52 Loss: 0.0020\n"
          ]
        },
        {
          "output_type": "stream",
          "name": "stderr",
          "text": [
            "\n"
          ]
        },
        {
          "output_type": "stream",
          "name": "stdout",
          "text": [
            "📊 mIoU: 0.9153\n"
          ]
        },
        {
          "output_type": "stream",
          "name": "stderr",
          "text": [
            "Epoch 53/100: 100%|██████████| 40/40 [00:04<00:00,  8.23it/s]"
          ]
        },
        {
          "output_type": "stream",
          "name": "stdout",
          "text": [
            "🔧 Epoch 53 Loss: 0.0021\n"
          ]
        },
        {
          "output_type": "stream",
          "name": "stderr",
          "text": [
            "\n"
          ]
        },
        {
          "output_type": "stream",
          "name": "stdout",
          "text": [
            "📊 mIoU: 0.9133\n"
          ]
        },
        {
          "output_type": "stream",
          "name": "stderr",
          "text": [
            "Epoch 54/100: 100%|██████████| 40/40 [00:03<00:00, 10.17it/s]"
          ]
        },
        {
          "output_type": "stream",
          "name": "stdout",
          "text": [
            "🔧 Epoch 54 Loss: 0.0023\n"
          ]
        },
        {
          "output_type": "stream",
          "name": "stderr",
          "text": [
            "\n"
          ]
        },
        {
          "output_type": "stream",
          "name": "stdout",
          "text": [
            "📊 mIoU: 0.9134\n"
          ]
        },
        {
          "output_type": "stream",
          "name": "stderr",
          "text": [
            "Epoch 55/100: 100%|██████████| 40/40 [00:05<00:00,  7.96it/s]"
          ]
        },
        {
          "output_type": "stream",
          "name": "stdout",
          "text": [
            "🔧 Epoch 55 Loss: 0.0021\n"
          ]
        },
        {
          "output_type": "stream",
          "name": "stderr",
          "text": [
            "\n"
          ]
        },
        {
          "output_type": "stream",
          "name": "stdout",
          "text": [
            "📊 mIoU: 0.9135\n"
          ]
        },
        {
          "output_type": "stream",
          "name": "stderr",
          "text": [
            "Epoch 56/100: 100%|██████████| 40/40 [00:04<00:00,  9.72it/s]"
          ]
        },
        {
          "output_type": "stream",
          "name": "stdout",
          "text": [
            "🔧 Epoch 56 Loss: 0.0030\n"
          ]
        },
        {
          "output_type": "stream",
          "name": "stderr",
          "text": [
            "\n"
          ]
        },
        {
          "output_type": "stream",
          "name": "stdout",
          "text": [
            "📊 mIoU: 0.9173\n"
          ]
        },
        {
          "output_type": "stream",
          "name": "stderr",
          "text": [
            "Epoch 57/100: 100%|██████████| 40/40 [00:04<00:00,  8.40it/s]"
          ]
        },
        {
          "output_type": "stream",
          "name": "stdout",
          "text": [
            "🔧 Epoch 57 Loss: 0.0022\n"
          ]
        },
        {
          "output_type": "stream",
          "name": "stderr",
          "text": [
            "\n"
          ]
        },
        {
          "output_type": "stream",
          "name": "stdout",
          "text": [
            "📊 mIoU: 0.9163\n"
          ]
        },
        {
          "output_type": "stream",
          "name": "stderr",
          "text": [
            "Epoch 58/100: 100%|██████████| 40/40 [00:03<00:00, 10.03it/s]"
          ]
        },
        {
          "output_type": "stream",
          "name": "stdout",
          "text": [
            "🔧 Epoch 58 Loss: 0.0020\n"
          ]
        },
        {
          "output_type": "stream",
          "name": "stderr",
          "text": [
            "\n"
          ]
        },
        {
          "output_type": "stream",
          "name": "stdout",
          "text": [
            "📊 mIoU: 0.9152\n"
          ]
        },
        {
          "output_type": "stream",
          "name": "stderr",
          "text": [
            "Epoch 59/100: 100%|██████████| 40/40 [00:03<00:00, 10.14it/s]"
          ]
        },
        {
          "output_type": "stream",
          "name": "stdout",
          "text": [
            "🔧 Epoch 59 Loss: 0.0019\n"
          ]
        },
        {
          "output_type": "stream",
          "name": "stderr",
          "text": [
            "\n"
          ]
        },
        {
          "output_type": "stream",
          "name": "stdout",
          "text": [
            "📊 mIoU: 0.9160\n"
          ]
        },
        {
          "output_type": "stream",
          "name": "stderr",
          "text": [
            "Epoch 60/100: 100%|██████████| 40/40 [00:04<00:00,  8.64it/s]"
          ]
        },
        {
          "output_type": "stream",
          "name": "stdout",
          "text": [
            "🔧 Epoch 60 Loss: 0.0021\n"
          ]
        },
        {
          "output_type": "stream",
          "name": "stderr",
          "text": [
            "\n"
          ]
        },
        {
          "output_type": "stream",
          "name": "stdout",
          "text": [
            "📊 mIoU: 0.9159\n"
          ]
        },
        {
          "output_type": "stream",
          "name": "stderr",
          "text": [
            "Epoch 61/100: 100%|██████████| 40/40 [00:03<00:00, 10.16it/s]"
          ]
        },
        {
          "output_type": "stream",
          "name": "stdout",
          "text": [
            "🔧 Epoch 61 Loss: 0.0018\n"
          ]
        },
        {
          "output_type": "stream",
          "name": "stderr",
          "text": [
            "\n"
          ]
        },
        {
          "output_type": "stream",
          "name": "stdout",
          "text": [
            "📊 mIoU: 0.9152\n"
          ]
        },
        {
          "output_type": "stream",
          "name": "stderr",
          "text": [
            "Epoch 62/100: 100%|██████████| 40/40 [00:05<00:00,  7.91it/s]"
          ]
        },
        {
          "output_type": "stream",
          "name": "stdout",
          "text": [
            "🔧 Epoch 62 Loss: 0.0016\n"
          ]
        },
        {
          "output_type": "stream",
          "name": "stderr",
          "text": [
            "\n"
          ]
        },
        {
          "output_type": "stream",
          "name": "stdout",
          "text": [
            "📊 mIoU: 0.9161\n"
          ]
        },
        {
          "output_type": "stream",
          "name": "stderr",
          "text": [
            "Epoch 63/100: 100%|██████████| 40/40 [00:04<00:00,  9.95it/s]"
          ]
        },
        {
          "output_type": "stream",
          "name": "stdout",
          "text": [
            "🔧 Epoch 63 Loss: 0.0016\n"
          ]
        },
        {
          "output_type": "stream",
          "name": "stderr",
          "text": [
            "\n"
          ]
        },
        {
          "output_type": "stream",
          "name": "stdout",
          "text": [
            "📊 mIoU: 0.9145\n"
          ]
        },
        {
          "output_type": "stream",
          "name": "stderr",
          "text": [
            "Epoch 64/100: 100%|██████████| 40/40 [00:04<00:00,  8.04it/s]"
          ]
        },
        {
          "output_type": "stream",
          "name": "stdout",
          "text": [
            "🔧 Epoch 64 Loss: 0.0017\n"
          ]
        },
        {
          "output_type": "stream",
          "name": "stderr",
          "text": [
            "\n"
          ]
        },
        {
          "output_type": "stream",
          "name": "stdout",
          "text": [
            "📊 mIoU: 0.9157\n"
          ]
        },
        {
          "output_type": "stream",
          "name": "stderr",
          "text": [
            "Epoch 65/100: 100%|██████████| 40/40 [00:04<00:00,  9.99it/s]"
          ]
        },
        {
          "output_type": "stream",
          "name": "stdout",
          "text": [
            "🔧 Epoch 65 Loss: 0.0013\n"
          ]
        },
        {
          "output_type": "stream",
          "name": "stderr",
          "text": [
            "\n"
          ]
        },
        {
          "output_type": "stream",
          "name": "stdout",
          "text": [
            "📊 mIoU: 0.9158\n"
          ]
        },
        {
          "output_type": "stream",
          "name": "stderr",
          "text": [
            "Epoch 66/100: 100%|██████████| 40/40 [00:03<00:00, 10.12it/s]"
          ]
        },
        {
          "output_type": "stream",
          "name": "stdout",
          "text": [
            "🔧 Epoch 66 Loss: 0.0017\n"
          ]
        },
        {
          "output_type": "stream",
          "name": "stderr",
          "text": [
            "\n"
          ]
        },
        {
          "output_type": "stream",
          "name": "stdout",
          "text": [
            "📊 mIoU: 0.9155\n"
          ]
        },
        {
          "output_type": "stream",
          "name": "stderr",
          "text": [
            "Epoch 67/100: 100%|██████████| 40/40 [00:04<00:00,  8.84it/s]"
          ]
        },
        {
          "output_type": "stream",
          "name": "stdout",
          "text": [
            "🔧 Epoch 67 Loss: 0.0016\n"
          ]
        },
        {
          "output_type": "stream",
          "name": "stderr",
          "text": [
            "\n"
          ]
        },
        {
          "output_type": "stream",
          "name": "stdout",
          "text": [
            "📊 mIoU: 0.9155\n"
          ]
        },
        {
          "output_type": "stream",
          "name": "stderr",
          "text": [
            "Epoch 68/100: 100%|██████████| 40/40 [00:04<00:00,  9.99it/s]"
          ]
        },
        {
          "output_type": "stream",
          "name": "stdout",
          "text": [
            "🔧 Epoch 68 Loss: 0.0015\n"
          ]
        },
        {
          "output_type": "stream",
          "name": "stderr",
          "text": [
            "\n"
          ]
        },
        {
          "output_type": "stream",
          "name": "stdout",
          "text": [
            "📊 mIoU: 0.9164\n"
          ]
        },
        {
          "output_type": "stream",
          "name": "stderr",
          "text": [
            "Epoch 69/100: 100%|██████████| 40/40 [00:05<00:00,  7.70it/s]"
          ]
        },
        {
          "output_type": "stream",
          "name": "stdout",
          "text": [
            "🔧 Epoch 69 Loss: 0.0017\n"
          ]
        },
        {
          "output_type": "stream",
          "name": "stderr",
          "text": [
            "\n"
          ]
        },
        {
          "output_type": "stream",
          "name": "stdout",
          "text": [
            "📊 mIoU: 0.9160\n"
          ]
        },
        {
          "output_type": "stream",
          "name": "stderr",
          "text": [
            "Epoch 70/100: 100%|██████████| 40/40 [00:03<00:00, 10.01it/s]"
          ]
        },
        {
          "output_type": "stream",
          "name": "stdout",
          "text": [
            "🔧 Epoch 70 Loss: 0.0019\n"
          ]
        },
        {
          "output_type": "stream",
          "name": "stderr",
          "text": [
            "\n"
          ]
        },
        {
          "output_type": "stream",
          "name": "stdout",
          "text": [
            "📊 mIoU: 0.9128\n"
          ]
        },
        {
          "output_type": "stream",
          "name": "stderr",
          "text": [
            "Epoch 71/100: 100%|██████████| 40/40 [00:05<00:00,  7.73it/s]"
          ]
        },
        {
          "output_type": "stream",
          "name": "stdout",
          "text": [
            "🔧 Epoch 71 Loss: 0.0020\n"
          ]
        },
        {
          "output_type": "stream",
          "name": "stderr",
          "text": [
            "\n"
          ]
        },
        {
          "output_type": "stream",
          "name": "stdout",
          "text": [
            "📊 mIoU: 0.9148\n"
          ]
        },
        {
          "output_type": "stream",
          "name": "stderr",
          "text": [
            "Epoch 72/100: 100%|██████████| 40/40 [00:04<00:00,  9.93it/s]"
          ]
        },
        {
          "output_type": "stream",
          "name": "stdout",
          "text": [
            "🔧 Epoch 72 Loss: 0.0014\n"
          ]
        },
        {
          "output_type": "stream",
          "name": "stderr",
          "text": [
            "\n"
          ]
        },
        {
          "output_type": "stream",
          "name": "stdout",
          "text": [
            "📊 mIoU: 0.9154\n"
          ]
        },
        {
          "output_type": "stream",
          "name": "stderr",
          "text": [
            "Epoch 73/100: 100%|██████████| 40/40 [00:04<00:00,  9.08it/s]"
          ]
        },
        {
          "output_type": "stream",
          "name": "stdout",
          "text": [
            "🔧 Epoch 73 Loss: 0.0012\n"
          ]
        },
        {
          "output_type": "stream",
          "name": "stderr",
          "text": [
            "\n"
          ]
        },
        {
          "output_type": "stream",
          "name": "stdout",
          "text": [
            "📊 mIoU: 0.9151\n"
          ]
        },
        {
          "output_type": "stream",
          "name": "stderr",
          "text": [
            "Epoch 74/100: 100%|██████████| 40/40 [00:04<00:00,  9.30it/s]"
          ]
        },
        {
          "output_type": "stream",
          "name": "stdout",
          "text": [
            "🔧 Epoch 74 Loss: 0.0010\n"
          ]
        },
        {
          "output_type": "stream",
          "name": "stderr",
          "text": [
            "\n"
          ]
        },
        {
          "output_type": "stream",
          "name": "stdout",
          "text": [
            "📊 mIoU: 0.9145\n"
          ]
        },
        {
          "output_type": "stream",
          "name": "stderr",
          "text": [
            "Epoch 75/100: 100%|██████████| 40/40 [00:04<00:00,  9.86it/s]"
          ]
        },
        {
          "output_type": "stream",
          "name": "stdout",
          "text": [
            "🔧 Epoch 75 Loss: 0.0156\n"
          ]
        },
        {
          "output_type": "stream",
          "name": "stderr",
          "text": [
            "\n"
          ]
        },
        {
          "output_type": "stream",
          "name": "stdout",
          "text": [
            "📊 mIoU: 0.8959\n"
          ]
        },
        {
          "output_type": "stream",
          "name": "stderr",
          "text": [
            "Epoch 76/100: 100%|██████████| 40/40 [00:05<00:00,  7.76it/s]"
          ]
        },
        {
          "output_type": "stream",
          "name": "stdout",
          "text": [
            "🔧 Epoch 76 Loss: 0.0732\n"
          ]
        },
        {
          "output_type": "stream",
          "name": "stderr",
          "text": [
            "\n"
          ]
        },
        {
          "output_type": "stream",
          "name": "stdout",
          "text": [
            "📊 mIoU: 0.8540\n"
          ]
        },
        {
          "output_type": "stream",
          "name": "stderr",
          "text": [
            "Epoch 77/100: 100%|██████████| 40/40 [00:04<00:00,  9.98it/s]"
          ]
        },
        {
          "output_type": "stream",
          "name": "stdout",
          "text": [
            "🔧 Epoch 77 Loss: 0.1004\n"
          ]
        },
        {
          "output_type": "stream",
          "name": "stderr",
          "text": [
            "\n"
          ]
        },
        {
          "output_type": "stream",
          "name": "stdout",
          "text": [
            "📊 mIoU: 0.8912\n"
          ]
        },
        {
          "output_type": "stream",
          "name": "stderr",
          "text": [
            "Epoch 78/100: 100%|██████████| 40/40 [00:05<00:00,  7.83it/s]"
          ]
        },
        {
          "output_type": "stream",
          "name": "stdout",
          "text": [
            "🔧 Epoch 78 Loss: 0.0911\n"
          ]
        },
        {
          "output_type": "stream",
          "name": "stderr",
          "text": [
            "\n"
          ]
        },
        {
          "output_type": "stream",
          "name": "stdout",
          "text": [
            "📊 mIoU: 0.9012\n"
          ]
        },
        {
          "output_type": "stream",
          "name": "stderr",
          "text": [
            "Epoch 79/100: 100%|██████████| 40/40 [00:03<00:00, 10.01it/s]"
          ]
        },
        {
          "output_type": "stream",
          "name": "stdout",
          "text": [
            "🔧 Epoch 79 Loss: 0.0274\n"
          ]
        },
        {
          "output_type": "stream",
          "name": "stderr",
          "text": [
            "\n"
          ]
        },
        {
          "output_type": "stream",
          "name": "stdout",
          "text": [
            "📊 mIoU: 0.9143\n"
          ]
        },
        {
          "output_type": "stream",
          "name": "stderr",
          "text": [
            "Epoch 80/100: 100%|██████████| 40/40 [00:04<00:00,  9.31it/s]"
          ]
        },
        {
          "output_type": "stream",
          "name": "stdout",
          "text": [
            "🔧 Epoch 80 Loss: 0.0163\n"
          ]
        },
        {
          "output_type": "stream",
          "name": "stderr",
          "text": [
            "\n"
          ]
        },
        {
          "output_type": "stream",
          "name": "stdout",
          "text": [
            "📊 mIoU: 0.9039\n"
          ]
        },
        {
          "output_type": "stream",
          "name": "stderr",
          "text": [
            "Epoch 81/100: 100%|██████████| 40/40 [00:04<00:00,  9.86it/s]"
          ]
        },
        {
          "output_type": "stream",
          "name": "stdout",
          "text": [
            "🔧 Epoch 81 Loss: 0.0119\n"
          ]
        },
        {
          "output_type": "stream",
          "name": "stderr",
          "text": [
            "\n"
          ]
        },
        {
          "output_type": "stream",
          "name": "stdout",
          "text": [
            "📊 mIoU: 0.9141\n"
          ]
        },
        {
          "output_type": "stream",
          "name": "stderr",
          "text": [
            "Epoch 82/100: 100%|██████████| 40/40 [00:04<00:00,  9.99it/s]"
          ]
        },
        {
          "output_type": "stream",
          "name": "stdout",
          "text": [
            "🔧 Epoch 82 Loss: 0.0074\n"
          ]
        },
        {
          "output_type": "stream",
          "name": "stderr",
          "text": [
            "\n"
          ]
        },
        {
          "output_type": "stream",
          "name": "stdout",
          "text": [
            "📊 mIoU: 0.9118\n"
          ]
        },
        {
          "output_type": "stream",
          "name": "stderr",
          "text": [
            "Epoch 83/100: 100%|██████████| 40/40 [00:05<00:00,  7.63it/s]"
          ]
        },
        {
          "output_type": "stream",
          "name": "stdout",
          "text": [
            "🔧 Epoch 83 Loss: 0.0053\n"
          ]
        },
        {
          "output_type": "stream",
          "name": "stderr",
          "text": [
            "\n"
          ]
        },
        {
          "output_type": "stream",
          "name": "stdout",
          "text": [
            "📊 mIoU: 0.9159\n"
          ]
        },
        {
          "output_type": "stream",
          "name": "stderr",
          "text": [
            "Epoch 84/100: 100%|██████████| 40/40 [00:04<00:00,  9.89it/s]"
          ]
        },
        {
          "output_type": "stream",
          "name": "stdout",
          "text": [
            "🔧 Epoch 84 Loss: 0.0047\n"
          ]
        },
        {
          "output_type": "stream",
          "name": "stderr",
          "text": [
            "\n"
          ]
        },
        {
          "output_type": "stream",
          "name": "stdout",
          "text": [
            "📊 mIoU: 0.9154\n"
          ]
        },
        {
          "output_type": "stream",
          "name": "stderr",
          "text": [
            "Epoch 85/100: 100%|██████████| 40/40 [00:05<00:00,  7.70it/s]"
          ]
        },
        {
          "output_type": "stream",
          "name": "stdout",
          "text": [
            "🔧 Epoch 85 Loss: 0.0041\n"
          ]
        },
        {
          "output_type": "stream",
          "name": "stderr",
          "text": [
            "\n"
          ]
        },
        {
          "output_type": "stream",
          "name": "stdout",
          "text": [
            "📊 mIoU: 0.9163\n"
          ]
        },
        {
          "output_type": "stream",
          "name": "stderr",
          "text": [
            "Epoch 86/100: 100%|██████████| 40/40 [00:04<00:00,  9.96it/s]"
          ]
        },
        {
          "output_type": "stream",
          "name": "stdout",
          "text": [
            "🔧 Epoch 86 Loss: 0.0044\n"
          ]
        },
        {
          "output_type": "stream",
          "name": "stderr",
          "text": [
            "\n"
          ]
        },
        {
          "output_type": "stream",
          "name": "stdout",
          "text": [
            "📊 mIoU: 0.9164\n"
          ]
        },
        {
          "output_type": "stream",
          "name": "stderr",
          "text": [
            "Epoch 87/100: 100%|██████████| 40/40 [00:04<00:00,  8.86it/s]"
          ]
        },
        {
          "output_type": "stream",
          "name": "stdout",
          "text": [
            "🔧 Epoch 87 Loss: 0.0038\n"
          ]
        },
        {
          "output_type": "stream",
          "name": "stderr",
          "text": [
            "\n"
          ]
        },
        {
          "output_type": "stream",
          "name": "stdout",
          "text": [
            "📊 mIoU: 0.9161\n"
          ]
        },
        {
          "output_type": "stream",
          "name": "stderr",
          "text": [
            "Epoch 88/100: 100%|██████████| 40/40 [00:04<00:00,  9.94it/s]"
          ]
        },
        {
          "output_type": "stream",
          "name": "stdout",
          "text": [
            "🔧 Epoch 88 Loss: 0.0035\n"
          ]
        },
        {
          "output_type": "stream",
          "name": "stderr",
          "text": [
            "\n"
          ]
        },
        {
          "output_type": "stream",
          "name": "stdout",
          "text": [
            "📊 mIoU: 0.9178\n"
          ]
        },
        {
          "output_type": "stream",
          "name": "stderr",
          "text": [
            "Epoch 89/100: 100%|██████████| 40/40 [00:04<00:00,  9.83it/s]"
          ]
        },
        {
          "output_type": "stream",
          "name": "stdout",
          "text": [
            "🔧 Epoch 89 Loss: 0.0028\n"
          ]
        },
        {
          "output_type": "stream",
          "name": "stderr",
          "text": [
            "\n"
          ]
        },
        {
          "output_type": "stream",
          "name": "stdout",
          "text": [
            "📊 mIoU: 0.9183\n"
          ]
        },
        {
          "output_type": "stream",
          "name": "stderr",
          "text": [
            "Epoch 90/100: 100%|██████████| 40/40 [00:05<00:00,  7.69it/s]"
          ]
        },
        {
          "output_type": "stream",
          "name": "stdout",
          "text": [
            "🔧 Epoch 90 Loss: 0.0023\n"
          ]
        },
        {
          "output_type": "stream",
          "name": "stderr",
          "text": [
            "\n"
          ]
        },
        {
          "output_type": "stream",
          "name": "stdout",
          "text": [
            "📊 mIoU: 0.9182\n"
          ]
        },
        {
          "output_type": "stream",
          "name": "stderr",
          "text": [
            "Epoch 91/100: 100%|██████████| 40/40 [00:03<00:00, 10.09it/s]"
          ]
        },
        {
          "output_type": "stream",
          "name": "stdout",
          "text": [
            "🔧 Epoch 91 Loss: 0.0018\n"
          ]
        },
        {
          "output_type": "stream",
          "name": "stderr",
          "text": [
            "\n"
          ]
        },
        {
          "output_type": "stream",
          "name": "stdout",
          "text": [
            "📊 mIoU: 0.9181\n"
          ]
        },
        {
          "output_type": "stream",
          "name": "stderr",
          "text": [
            "Epoch 92/100: 100%|██████████| 40/40 [00:05<00:00,  7.76it/s]"
          ]
        },
        {
          "output_type": "stream",
          "name": "stdout",
          "text": [
            "🔧 Epoch 92 Loss: 0.0019\n"
          ]
        },
        {
          "output_type": "stream",
          "name": "stderr",
          "text": [
            "\n"
          ]
        },
        {
          "output_type": "stream",
          "name": "stdout",
          "text": [
            "📊 mIoU: 0.9180\n"
          ]
        },
        {
          "output_type": "stream",
          "name": "stderr",
          "text": [
            "Epoch 93/100: 100%|██████████| 40/40 [00:03<00:00, 10.03it/s]"
          ]
        },
        {
          "output_type": "stream",
          "name": "stdout",
          "text": [
            "🔧 Epoch 93 Loss: 0.0016\n"
          ]
        },
        {
          "output_type": "stream",
          "name": "stderr",
          "text": [
            "\n"
          ]
        },
        {
          "output_type": "stream",
          "name": "stdout",
          "text": [
            "📊 mIoU: 0.9186\n"
          ]
        },
        {
          "output_type": "stream",
          "name": "stderr",
          "text": [
            "Epoch 94/100: 100%|██████████| 40/40 [00:04<00:00,  8.67it/s]"
          ]
        },
        {
          "output_type": "stream",
          "name": "stdout",
          "text": [
            "🔧 Epoch 94 Loss: 0.0021\n"
          ]
        },
        {
          "output_type": "stream",
          "name": "stderr",
          "text": [
            "\n"
          ]
        },
        {
          "output_type": "stream",
          "name": "stdout",
          "text": [
            "📊 mIoU: 0.9175\n"
          ]
        },
        {
          "output_type": "stream",
          "name": "stderr",
          "text": [
            "Epoch 95/100: 100%|██████████| 40/40 [00:03<00:00, 10.00it/s]"
          ]
        },
        {
          "output_type": "stream",
          "name": "stdout",
          "text": [
            "🔧 Epoch 95 Loss: 0.0016\n"
          ]
        },
        {
          "output_type": "stream",
          "name": "stderr",
          "text": [
            "\n"
          ]
        },
        {
          "output_type": "stream",
          "name": "stdout",
          "text": [
            "📊 mIoU: 0.9179\n"
          ]
        },
        {
          "output_type": "stream",
          "name": "stderr",
          "text": [
            "Epoch 96/100: 100%|██████████| 40/40 [00:04<00:00,  9.92it/s]"
          ]
        },
        {
          "output_type": "stream",
          "name": "stdout",
          "text": [
            "🔧 Epoch 96 Loss: 0.0014\n"
          ]
        },
        {
          "output_type": "stream",
          "name": "stderr",
          "text": [
            "\n"
          ]
        },
        {
          "output_type": "stream",
          "name": "stdout",
          "text": [
            "📊 mIoU: 0.9183\n"
          ]
        },
        {
          "output_type": "stream",
          "name": "stderr",
          "text": [
            "Epoch 97/100: 100%|██████████| 40/40 [00:05<00:00,  7.77it/s]"
          ]
        },
        {
          "output_type": "stream",
          "name": "stdout",
          "text": [
            "🔧 Epoch 97 Loss: 0.0066\n"
          ]
        },
        {
          "output_type": "stream",
          "name": "stderr",
          "text": [
            "\n"
          ]
        },
        {
          "output_type": "stream",
          "name": "stdout",
          "text": [
            "📊 mIoU: 0.9156\n"
          ]
        },
        {
          "output_type": "stream",
          "name": "stderr",
          "text": [
            "Epoch 98/100: 100%|██████████| 40/40 [00:04<00:00,  9.91it/s]"
          ]
        },
        {
          "output_type": "stream",
          "name": "stdout",
          "text": [
            "🔧 Epoch 98 Loss: 0.0040\n"
          ]
        },
        {
          "output_type": "stream",
          "name": "stderr",
          "text": [
            "\n"
          ]
        },
        {
          "output_type": "stream",
          "name": "stdout",
          "text": [
            "📊 mIoU: 0.9186\n"
          ]
        },
        {
          "output_type": "stream",
          "name": "stderr",
          "text": [
            "Epoch 99/100: 100%|██████████| 40/40 [00:05<00:00,  7.70it/s]"
          ]
        },
        {
          "output_type": "stream",
          "name": "stdout",
          "text": [
            "🔧 Epoch 99 Loss: 0.0023\n"
          ]
        },
        {
          "output_type": "stream",
          "name": "stderr",
          "text": [
            "\n"
          ]
        },
        {
          "output_type": "stream",
          "name": "stdout",
          "text": [
            "📊 mIoU: 0.9184\n"
          ]
        },
        {
          "output_type": "stream",
          "name": "stderr",
          "text": [
            "Epoch 100/100: 100%|██████████| 40/40 [00:04<00:00,  9.95it/s]"
          ]
        },
        {
          "output_type": "stream",
          "name": "stdout",
          "text": [
            "🔧 Epoch 100 Loss: 0.0020\n"
          ]
        },
        {
          "output_type": "stream",
          "name": "stderr",
          "text": [
            "\n"
          ]
        },
        {
          "output_type": "stream",
          "name": "stdout",
          "text": [
            "📊 mIoU: 0.9203\n",
            "\n",
            "✅ Stage 1 完成！記錄 mIoU_base = 0.9203\n",
            "🔎 Stage 2: Detection 訓練中 (啟用 Replay)，共 100 個 Epochs\n"
          ]
        },
        {
          "output_type": "stream",
          "name": "stderr",
          "text": [
            "Epoch 1/100: 100%|██████████| 40/40 [00:06<00:00,  5.75it/s]"
          ]
        },
        {
          "output_type": "stream",
          "name": "stdout",
          "text": [
            "🔧 Epoch 1 Loss: 263071.1023\n"
          ]
        },
        {
          "output_type": "stream",
          "name": "stderr",
          "text": [
            "\n"
          ]
        },
        {
          "output_type": "stream",
          "name": "stdout",
          "text": [
            "📊 mIoU: 0.9166\n"
          ]
        },
        {
          "output_type": "stream",
          "name": "stderr",
          "text": [
            "Epoch 2/100: 100%|██████████| 40/40 [00:07<00:00,  5.00it/s]"
          ]
        },
        {
          "output_type": "stream",
          "name": "stdout",
          "text": [
            "🔧 Epoch 2 Loss: 118991.5654\n"
          ]
        },
        {
          "output_type": "stream",
          "name": "stderr",
          "text": [
            "\n"
          ]
        },
        {
          "output_type": "stream",
          "name": "stdout",
          "text": [
            "📊 mIoU: 0.9169\n"
          ]
        },
        {
          "output_type": "stream",
          "name": "stderr",
          "text": [
            "Epoch 3/100: 100%|██████████| 40/40 [00:07<00:00,  5.22it/s]"
          ]
        },
        {
          "output_type": "stream",
          "name": "stdout",
          "text": [
            "🔧 Epoch 3 Loss: 88555.1447\n"
          ]
        },
        {
          "output_type": "stream",
          "name": "stderr",
          "text": [
            "\n"
          ]
        },
        {
          "output_type": "stream",
          "name": "stdout",
          "text": [
            "📊 mIoU: 0.9167\n"
          ]
        },
        {
          "output_type": "stream",
          "name": "stderr",
          "text": [
            "Epoch 4/100: 100%|██████████| 40/40 [00:07<00:00,  5.69it/s]"
          ]
        },
        {
          "output_type": "stream",
          "name": "stdout",
          "text": [
            "🔧 Epoch 4 Loss: 80969.0711\n"
          ]
        },
        {
          "output_type": "stream",
          "name": "stderr",
          "text": [
            "\n"
          ]
        },
        {
          "output_type": "stream",
          "name": "stdout",
          "text": [
            "📊 mIoU: 0.9173\n"
          ]
        },
        {
          "output_type": "stream",
          "name": "stderr",
          "text": [
            "Epoch 5/100: 100%|██████████| 40/40 [00:06<00:00,  5.72it/s]"
          ]
        },
        {
          "output_type": "stream",
          "name": "stdout",
          "text": [
            "🔧 Epoch 5 Loss: 77240.5631\n"
          ]
        },
        {
          "output_type": "stream",
          "name": "stderr",
          "text": [
            "\n"
          ]
        },
        {
          "output_type": "stream",
          "name": "stdout",
          "text": [
            "📊 mIoU: 0.9174\n"
          ]
        },
        {
          "output_type": "stream",
          "name": "stderr",
          "text": [
            "Epoch 6/100: 100%|██████████| 40/40 [00:07<00:00,  5.62it/s]"
          ]
        },
        {
          "output_type": "stream",
          "name": "stdout",
          "text": [
            "🔧 Epoch 6 Loss: 75915.3198\n"
          ]
        },
        {
          "output_type": "stream",
          "name": "stderr",
          "text": [
            "\n"
          ]
        },
        {
          "output_type": "stream",
          "name": "stdout",
          "text": [
            "📊 mIoU: 0.9176\n"
          ]
        },
        {
          "output_type": "stream",
          "name": "stderr",
          "text": [
            "Epoch 7/100: 100%|██████████| 40/40 [00:08<00:00,  4.92it/s]"
          ]
        },
        {
          "output_type": "stream",
          "name": "stdout",
          "text": [
            "🔧 Epoch 7 Loss: 73891.7789\n"
          ]
        },
        {
          "output_type": "stream",
          "name": "stderr",
          "text": [
            "\n"
          ]
        },
        {
          "output_type": "stream",
          "name": "stdout",
          "text": [
            "📊 mIoU: 0.9176\n"
          ]
        },
        {
          "output_type": "stream",
          "name": "stderr",
          "text": [
            "Epoch 8/100: 100%|██████████| 40/40 [00:08<00:00,  4.97it/s]"
          ]
        },
        {
          "output_type": "stream",
          "name": "stdout",
          "text": [
            "🔧 Epoch 8 Loss: 71510.3594\n"
          ]
        },
        {
          "output_type": "stream",
          "name": "stderr",
          "text": [
            "\n"
          ]
        },
        {
          "output_type": "stream",
          "name": "stdout",
          "text": [
            "📊 mIoU: 0.9180\n"
          ]
        },
        {
          "output_type": "stream",
          "name": "stderr",
          "text": [
            "Epoch 9/100: 100%|██████████| 40/40 [00:06<00:00,  6.13it/s]"
          ]
        },
        {
          "output_type": "stream",
          "name": "stdout",
          "text": [
            "🔧 Epoch 9 Loss: 70307.8739\n"
          ]
        },
        {
          "output_type": "stream",
          "name": "stderr",
          "text": [
            "\n"
          ]
        },
        {
          "output_type": "stream",
          "name": "stdout",
          "text": [
            "📊 mIoU: 0.9178\n"
          ]
        },
        {
          "output_type": "stream",
          "name": "stderr",
          "text": [
            "Epoch 10/100: 100%|██████████| 40/40 [00:06<00:00,  5.77it/s]"
          ]
        },
        {
          "output_type": "stream",
          "name": "stdout",
          "text": [
            "🔧 Epoch 10 Loss: 69278.6651\n"
          ]
        },
        {
          "output_type": "stream",
          "name": "stderr",
          "text": [
            "\n"
          ]
        },
        {
          "output_type": "stream",
          "name": "stdout",
          "text": [
            "📊 mIoU: 0.9176\n"
          ]
        },
        {
          "output_type": "stream",
          "name": "stderr",
          "text": [
            "Epoch 11/100: 100%|██████████| 40/40 [00:07<00:00,  5.24it/s]"
          ]
        },
        {
          "output_type": "stream",
          "name": "stdout",
          "text": [
            "🔧 Epoch 11 Loss: 67235.0342\n"
          ]
        },
        {
          "output_type": "stream",
          "name": "stderr",
          "text": [
            "\n"
          ]
        },
        {
          "output_type": "stream",
          "name": "stdout",
          "text": [
            "📊 mIoU: 0.9174\n"
          ]
        },
        {
          "output_type": "stream",
          "name": "stderr",
          "text": [
            "Epoch 12/100: 100%|██████████| 40/40 [00:07<00:00,  5.21it/s]"
          ]
        },
        {
          "output_type": "stream",
          "name": "stdout",
          "text": [
            "🔧 Epoch 12 Loss: 65916.6411\n"
          ]
        },
        {
          "output_type": "stream",
          "name": "stderr",
          "text": [
            "\n"
          ]
        },
        {
          "output_type": "stream",
          "name": "stdout",
          "text": [
            "📊 mIoU: 0.9179\n"
          ]
        },
        {
          "output_type": "stream",
          "name": "stderr",
          "text": [
            "Epoch 13/100: 100%|██████████| 40/40 [00:08<00:00,  5.00it/s]"
          ]
        },
        {
          "output_type": "stream",
          "name": "stdout",
          "text": [
            "🔧 Epoch 13 Loss: 64019.7366\n"
          ]
        },
        {
          "output_type": "stream",
          "name": "stderr",
          "text": [
            "\n"
          ]
        },
        {
          "output_type": "stream",
          "name": "stdout",
          "text": [
            "📊 mIoU: 0.9182\n"
          ]
        },
        {
          "output_type": "stream",
          "name": "stderr",
          "text": [
            "Epoch 14/100: 100%|██████████| 40/40 [00:06<00:00,  5.77it/s]"
          ]
        },
        {
          "output_type": "stream",
          "name": "stdout",
          "text": [
            "🔧 Epoch 14 Loss: 63614.1106\n"
          ]
        },
        {
          "output_type": "stream",
          "name": "stderr",
          "text": [
            "\n"
          ]
        },
        {
          "output_type": "stream",
          "name": "stdout",
          "text": [
            "📊 mIoU: 0.9175\n"
          ]
        },
        {
          "output_type": "stream",
          "name": "stderr",
          "text": [
            "Epoch 15/100: 100%|██████████| 40/40 [00:06<00:00,  6.20it/s]"
          ]
        },
        {
          "output_type": "stream",
          "name": "stdout",
          "text": [
            "🔧 Epoch 15 Loss: 61992.6751\n"
          ]
        },
        {
          "output_type": "stream",
          "name": "stderr",
          "text": [
            "\n"
          ]
        },
        {
          "output_type": "stream",
          "name": "stdout",
          "text": [
            "📊 mIoU: 0.9175\n"
          ]
        },
        {
          "output_type": "stream",
          "name": "stderr",
          "text": [
            "Epoch 16/100: 100%|██████████| 40/40 [00:07<00:00,  5.15it/s]"
          ]
        },
        {
          "output_type": "stream",
          "name": "stdout",
          "text": [
            "🔧 Epoch 16 Loss: 61318.8673\n"
          ]
        },
        {
          "output_type": "stream",
          "name": "stderr",
          "text": [
            "\n"
          ]
        },
        {
          "output_type": "stream",
          "name": "stdout",
          "text": [
            "📊 mIoU: 0.9181\n"
          ]
        },
        {
          "output_type": "stream",
          "name": "stderr",
          "text": [
            "Epoch 17/100: 100%|██████████| 40/40 [00:08<00:00,  4.97it/s]"
          ]
        },
        {
          "output_type": "stream",
          "name": "stdout",
          "text": [
            "🔧 Epoch 17 Loss: 60606.7917\n"
          ]
        },
        {
          "output_type": "stream",
          "name": "stderr",
          "text": [
            "\n"
          ]
        },
        {
          "output_type": "stream",
          "name": "stdout",
          "text": [
            "📊 mIoU: 0.9178\n"
          ]
        },
        {
          "output_type": "stream",
          "name": "stderr",
          "text": [
            "Epoch 18/100: 100%|██████████| 40/40 [00:07<00:00,  5.22it/s]"
          ]
        },
        {
          "output_type": "stream",
          "name": "stdout",
          "text": [
            "🔧 Epoch 18 Loss: 59500.5697\n"
          ]
        },
        {
          "output_type": "stream",
          "name": "stderr",
          "text": [
            "\n"
          ]
        },
        {
          "output_type": "stream",
          "name": "stdout",
          "text": [
            "📊 mIoU: 0.9176\n"
          ]
        },
        {
          "output_type": "stream",
          "name": "stderr",
          "text": [
            "Epoch 19/100: 100%|██████████| 40/40 [00:06<00:00,  5.78it/s]"
          ]
        },
        {
          "output_type": "stream",
          "name": "stdout",
          "text": [
            "🔧 Epoch 19 Loss: 57949.4027\n"
          ]
        },
        {
          "output_type": "stream",
          "name": "stderr",
          "text": [
            "\n"
          ]
        },
        {
          "output_type": "stream",
          "name": "stdout",
          "text": [
            "📊 mIoU: 0.9176\n"
          ]
        },
        {
          "output_type": "stream",
          "name": "stderr",
          "text": [
            "Epoch 20/100: 100%|██████████| 40/40 [00:06<00:00,  5.89it/s]"
          ]
        },
        {
          "output_type": "stream",
          "name": "stdout",
          "text": [
            "🔧 Epoch 20 Loss: 57815.9574\n"
          ]
        },
        {
          "output_type": "stream",
          "name": "stderr",
          "text": [
            "\n"
          ]
        },
        {
          "output_type": "stream",
          "name": "stdout",
          "text": [
            "📊 mIoU: 0.9179\n"
          ]
        },
        {
          "output_type": "stream",
          "name": "stderr",
          "text": [
            "Epoch 21/100: 100%|██████████| 40/40 [00:07<00:00,  5.38it/s]"
          ]
        },
        {
          "output_type": "stream",
          "name": "stdout",
          "text": [
            "🔧 Epoch 21 Loss: 56728.0584\n"
          ]
        },
        {
          "output_type": "stream",
          "name": "stderr",
          "text": [
            "\n"
          ]
        },
        {
          "output_type": "stream",
          "name": "stdout",
          "text": [
            "📊 mIoU: 0.9192\n"
          ]
        },
        {
          "output_type": "stream",
          "name": "stderr",
          "text": [
            "Epoch 22/100: 100%|██████████| 40/40 [00:08<00:00,  5.00it/s]"
          ]
        },
        {
          "output_type": "stream",
          "name": "stdout",
          "text": [
            "🔧 Epoch 22 Loss: 55436.8045\n"
          ]
        },
        {
          "output_type": "stream",
          "name": "stderr",
          "text": [
            "\n"
          ]
        },
        {
          "output_type": "stream",
          "name": "stdout",
          "text": [
            "📊 mIoU: 0.9190\n"
          ]
        },
        {
          "output_type": "stream",
          "name": "stderr",
          "text": [
            "Epoch 23/100: 100%|██████████| 40/40 [00:07<00:00,  5.07it/s]"
          ]
        },
        {
          "output_type": "stream",
          "name": "stdout",
          "text": [
            "🔧 Epoch 23 Loss: 55655.4087\n"
          ]
        },
        {
          "output_type": "stream",
          "name": "stderr",
          "text": [
            "\n"
          ]
        },
        {
          "output_type": "stream",
          "name": "stdout",
          "text": [
            "📊 mIoU: 0.9188\n"
          ]
        },
        {
          "output_type": "stream",
          "name": "stderr",
          "text": [
            "Epoch 24/100: 100%|██████████| 40/40 [00:06<00:00,  6.23it/s]"
          ]
        },
        {
          "output_type": "stream",
          "name": "stdout",
          "text": [
            "🔧 Epoch 24 Loss: 53738.9265\n"
          ]
        },
        {
          "output_type": "stream",
          "name": "stderr",
          "text": [
            "\n"
          ]
        },
        {
          "output_type": "stream",
          "name": "stdout",
          "text": [
            "📊 mIoU: 0.9189\n"
          ]
        },
        {
          "output_type": "stream",
          "name": "stderr",
          "text": [
            "Epoch 25/100: 100%|██████████| 40/40 [00:07<00:00,  5.69it/s]"
          ]
        },
        {
          "output_type": "stream",
          "name": "stdout",
          "text": [
            "🔧 Epoch 25 Loss: 53381.9118\n"
          ]
        },
        {
          "output_type": "stream",
          "name": "stderr",
          "text": [
            "\n"
          ]
        },
        {
          "output_type": "stream",
          "name": "stdout",
          "text": [
            "📊 mIoU: 0.9180\n"
          ]
        },
        {
          "output_type": "stream",
          "name": "stderr",
          "text": [
            "Epoch 26/100: 100%|██████████| 40/40 [00:07<00:00,  5.00it/s]"
          ]
        },
        {
          "output_type": "stream",
          "name": "stdout",
          "text": [
            "🔧 Epoch 26 Loss: 51859.7540\n"
          ]
        },
        {
          "output_type": "stream",
          "name": "stderr",
          "text": [
            "\n"
          ]
        },
        {
          "output_type": "stream",
          "name": "stdout",
          "text": [
            "📊 mIoU: 0.9183\n"
          ]
        },
        {
          "output_type": "stream",
          "name": "stderr",
          "text": [
            "Epoch 27/100: 100%|██████████| 40/40 [00:07<00:00,  5.26it/s]"
          ]
        },
        {
          "output_type": "stream",
          "name": "stdout",
          "text": [
            "🔧 Epoch 27 Loss: 50681.9594\n"
          ]
        },
        {
          "output_type": "stream",
          "name": "stderr",
          "text": [
            "\n"
          ]
        },
        {
          "output_type": "stream",
          "name": "stdout",
          "text": [
            "📊 mIoU: 0.9185\n"
          ]
        },
        {
          "output_type": "stream",
          "name": "stderr",
          "text": [
            "Epoch 28/100: 100%|██████████| 40/40 [00:07<00:00,  5.33it/s]"
          ]
        },
        {
          "output_type": "stream",
          "name": "stdout",
          "text": [
            "🔧 Epoch 28 Loss: 49574.0424\n"
          ]
        },
        {
          "output_type": "stream",
          "name": "stderr",
          "text": [
            "\n"
          ]
        },
        {
          "output_type": "stream",
          "name": "stdout",
          "text": [
            "📊 mIoU: 0.9184\n"
          ]
        },
        {
          "output_type": "stream",
          "name": "stderr",
          "text": [
            "Epoch 29/100: 100%|██████████| 40/40 [00:06<00:00,  5.87it/s]"
          ]
        },
        {
          "output_type": "stream",
          "name": "stdout",
          "text": [
            "🔧 Epoch 29 Loss: 49060.0149\n"
          ]
        },
        {
          "output_type": "stream",
          "name": "stderr",
          "text": [
            "\n"
          ]
        },
        {
          "output_type": "stream",
          "name": "stdout",
          "text": [
            "📊 mIoU: 0.9182\n"
          ]
        },
        {
          "output_type": "stream",
          "name": "stderr",
          "text": [
            "Epoch 30/100: 100%|██████████| 40/40 [00:06<00:00,  5.77it/s]"
          ]
        },
        {
          "output_type": "stream",
          "name": "stdout",
          "text": [
            "🔧 Epoch 30 Loss: 48198.5337\n"
          ]
        },
        {
          "output_type": "stream",
          "name": "stderr",
          "text": [
            "\n"
          ]
        },
        {
          "output_type": "stream",
          "name": "stdout",
          "text": [
            "📊 mIoU: 0.9183\n"
          ]
        },
        {
          "output_type": "stream",
          "name": "stderr",
          "text": [
            "Epoch 31/100: 100%|██████████| 40/40 [00:08<00:00,  4.91it/s]"
          ]
        },
        {
          "output_type": "stream",
          "name": "stdout",
          "text": [
            "🔧 Epoch 31 Loss: 47870.4296\n"
          ]
        },
        {
          "output_type": "stream",
          "name": "stderr",
          "text": [
            "\n"
          ]
        },
        {
          "output_type": "stream",
          "name": "stdout",
          "text": [
            "📊 mIoU: 0.9181\n"
          ]
        },
        {
          "output_type": "stream",
          "name": "stderr",
          "text": [
            "Epoch 32/100: 100%|██████████| 40/40 [00:08<00:00,  5.00it/s]"
          ]
        },
        {
          "output_type": "stream",
          "name": "stdout",
          "text": [
            "🔧 Epoch 32 Loss: 47419.0853\n"
          ]
        },
        {
          "output_type": "stream",
          "name": "stderr",
          "text": [
            "\n"
          ]
        },
        {
          "output_type": "stream",
          "name": "stdout",
          "text": [
            "📊 mIoU: 0.9180\n"
          ]
        },
        {
          "output_type": "stream",
          "name": "stderr",
          "text": [
            "Epoch 33/100: 100%|██████████| 40/40 [00:06<00:00,  6.17it/s]"
          ]
        },
        {
          "output_type": "stream",
          "name": "stdout",
          "text": [
            "🔧 Epoch 33 Loss: 45325.5292\n"
          ]
        },
        {
          "output_type": "stream",
          "name": "stderr",
          "text": [
            "\n"
          ]
        },
        {
          "output_type": "stream",
          "name": "stdout",
          "text": [
            "📊 mIoU: 0.9174\n"
          ]
        },
        {
          "output_type": "stream",
          "name": "stderr",
          "text": [
            "Epoch 34/100: 100%|██████████| 40/40 [00:07<00:00,  5.66it/s]"
          ]
        },
        {
          "output_type": "stream",
          "name": "stdout",
          "text": [
            "🔧 Epoch 34 Loss: 45327.2006\n"
          ]
        },
        {
          "output_type": "stream",
          "name": "stderr",
          "text": [
            "\n"
          ]
        },
        {
          "output_type": "stream",
          "name": "stdout",
          "text": [
            "📊 mIoU: 0.9177\n"
          ]
        },
        {
          "output_type": "stream",
          "name": "stderr",
          "text": [
            "Epoch 35/100: 100%|██████████| 40/40 [00:07<00:00,  5.56it/s]"
          ]
        },
        {
          "output_type": "stream",
          "name": "stdout",
          "text": [
            "🔧 Epoch 35 Loss: 45598.1756\n"
          ]
        },
        {
          "output_type": "stream",
          "name": "stderr",
          "text": [
            "\n"
          ]
        },
        {
          "output_type": "stream",
          "name": "stdout",
          "text": [
            "📊 mIoU: 0.9174\n"
          ]
        },
        {
          "output_type": "stream",
          "name": "stderr",
          "text": [
            "Epoch 36/100: 100%|██████████| 40/40 [00:07<00:00,  5.35it/s]"
          ]
        },
        {
          "output_type": "stream",
          "name": "stdout",
          "text": [
            "🔧 Epoch 36 Loss: 44435.6732\n"
          ]
        },
        {
          "output_type": "stream",
          "name": "stderr",
          "text": [
            "\n"
          ]
        },
        {
          "output_type": "stream",
          "name": "stdout",
          "text": [
            "📊 mIoU: 0.9178\n"
          ]
        },
        {
          "output_type": "stream",
          "name": "stderr",
          "text": [
            "Epoch 37/100: 100%|██████████| 40/40 [00:08<00:00,  4.97it/s]"
          ]
        },
        {
          "output_type": "stream",
          "name": "stdout",
          "text": [
            "🔧 Epoch 37 Loss: 44751.7333\n"
          ]
        },
        {
          "output_type": "stream",
          "name": "stderr",
          "text": [
            "\n"
          ]
        },
        {
          "output_type": "stream",
          "name": "stdout",
          "text": [
            "📊 mIoU: 0.9173\n"
          ]
        },
        {
          "output_type": "stream",
          "name": "stderr",
          "text": [
            "Epoch 38/100: 100%|██████████| 40/40 [00:06<00:00,  5.81it/s]"
          ]
        },
        {
          "output_type": "stream",
          "name": "stdout",
          "text": [
            "🔧 Epoch 38 Loss: 43977.3996\n"
          ]
        },
        {
          "output_type": "stream",
          "name": "stderr",
          "text": [
            "\n"
          ]
        },
        {
          "output_type": "stream",
          "name": "stdout",
          "text": [
            "📊 mIoU: 0.9169\n"
          ]
        },
        {
          "output_type": "stream",
          "name": "stderr",
          "text": [
            "Epoch 39/100: 100%|██████████| 40/40 [00:06<00:00,  6.14it/s]"
          ]
        },
        {
          "output_type": "stream",
          "name": "stdout",
          "text": [
            "🔧 Epoch 39 Loss: 43631.3818\n"
          ]
        },
        {
          "output_type": "stream",
          "name": "stderr",
          "text": [
            "\n"
          ]
        },
        {
          "output_type": "stream",
          "name": "stdout",
          "text": [
            "📊 mIoU: 0.9165\n"
          ]
        },
        {
          "output_type": "stream",
          "name": "stderr",
          "text": [
            "Epoch 40/100: 100%|██████████| 40/40 [00:07<00:00,  5.22it/s]"
          ]
        },
        {
          "output_type": "stream",
          "name": "stdout",
          "text": [
            "🔧 Epoch 40 Loss: 42710.8223\n"
          ]
        },
        {
          "output_type": "stream",
          "name": "stderr",
          "text": [
            "\n"
          ]
        },
        {
          "output_type": "stream",
          "name": "stdout",
          "text": [
            "📊 mIoU: 0.9174\n"
          ]
        },
        {
          "output_type": "stream",
          "name": "stderr",
          "text": [
            "Epoch 41/100: 100%|██████████| 40/40 [00:07<00:00,  5.07it/s]"
          ]
        },
        {
          "output_type": "stream",
          "name": "stdout",
          "text": [
            "🔧 Epoch 41 Loss: 42914.8920\n"
          ]
        },
        {
          "output_type": "stream",
          "name": "stderr",
          "text": [
            "\n"
          ]
        },
        {
          "output_type": "stream",
          "name": "stdout",
          "text": [
            "📊 mIoU: 0.9173\n"
          ]
        },
        {
          "output_type": "stream",
          "name": "stderr",
          "text": [
            "Epoch 42/100: 100%|██████████| 40/40 [00:07<00:00,  5.34it/s]"
          ]
        },
        {
          "output_type": "stream",
          "name": "stdout",
          "text": [
            "🔧 Epoch 42 Loss: 41882.8681\n"
          ]
        },
        {
          "output_type": "stream",
          "name": "stderr",
          "text": [
            "\n"
          ]
        },
        {
          "output_type": "stream",
          "name": "stdout",
          "text": [
            "📊 mIoU: 0.9167\n"
          ]
        },
        {
          "output_type": "stream",
          "name": "stderr",
          "text": [
            "Epoch 43/100: 100%|██████████| 40/40 [00:06<00:00,  5.82it/s]"
          ]
        },
        {
          "output_type": "stream",
          "name": "stdout",
          "text": [
            "🔧 Epoch 43 Loss: 42416.9759\n"
          ]
        },
        {
          "output_type": "stream",
          "name": "stderr",
          "text": [
            "\n"
          ]
        },
        {
          "output_type": "stream",
          "name": "stdout",
          "text": [
            "📊 mIoU: 0.9171\n"
          ]
        },
        {
          "output_type": "stream",
          "name": "stderr",
          "text": [
            "Epoch 44/100: 100%|██████████| 40/40 [00:06<00:00,  5.93it/s]"
          ]
        },
        {
          "output_type": "stream",
          "name": "stdout",
          "text": [
            "🔧 Epoch 44 Loss: 41682.1756\n"
          ]
        },
        {
          "output_type": "stream",
          "name": "stderr",
          "text": [
            "\n"
          ]
        },
        {
          "output_type": "stream",
          "name": "stdout",
          "text": [
            "📊 mIoU: 0.9159\n"
          ]
        },
        {
          "output_type": "stream",
          "name": "stderr",
          "text": [
            "Epoch 45/100: 100%|██████████| 40/40 [00:07<00:00,  5.33it/s]"
          ]
        },
        {
          "output_type": "stream",
          "name": "stdout",
          "text": [
            "🔧 Epoch 45 Loss: 41289.5582\n"
          ]
        },
        {
          "output_type": "stream",
          "name": "stderr",
          "text": [
            "\n"
          ]
        },
        {
          "output_type": "stream",
          "name": "stdout",
          "text": [
            "📊 mIoU: 0.9151\n"
          ]
        },
        {
          "output_type": "stream",
          "name": "stderr",
          "text": [
            "Epoch 46/100: 100%|██████████| 40/40 [00:08<00:00,  4.94it/s]"
          ]
        },
        {
          "output_type": "stream",
          "name": "stdout",
          "text": [
            "🔧 Epoch 46 Loss: 41242.3082\n"
          ]
        },
        {
          "output_type": "stream",
          "name": "stderr",
          "text": [
            "\n"
          ]
        },
        {
          "output_type": "stream",
          "name": "stdout",
          "text": [
            "📊 mIoU: 0.9155\n"
          ]
        },
        {
          "output_type": "stream",
          "name": "stderr",
          "text": [
            "Epoch 47/100: 100%|██████████| 40/40 [00:07<00:00,  5.30it/s]"
          ]
        },
        {
          "output_type": "stream",
          "name": "stdout",
          "text": [
            "🔧 Epoch 47 Loss: 41705.4148\n"
          ]
        },
        {
          "output_type": "stream",
          "name": "stderr",
          "text": [
            "\n"
          ]
        },
        {
          "output_type": "stream",
          "name": "stdout",
          "text": [
            "📊 mIoU: 0.9151\n"
          ]
        },
        {
          "output_type": "stream",
          "name": "stderr",
          "text": [
            "Epoch 48/100: 100%|██████████| 40/40 [00:06<00:00,  6.19it/s]"
          ]
        },
        {
          "output_type": "stream",
          "name": "stdout",
          "text": [
            "🔧 Epoch 48 Loss: 40490.6443\n"
          ]
        },
        {
          "output_type": "stream",
          "name": "stderr",
          "text": [
            "\n"
          ]
        },
        {
          "output_type": "stream",
          "name": "stdout",
          "text": [
            "📊 mIoU: 0.9153\n"
          ]
        },
        {
          "output_type": "stream",
          "name": "stderr",
          "text": [
            "Epoch 49/100: 100%|██████████| 40/40 [00:07<00:00,  5.40it/s]"
          ]
        },
        {
          "output_type": "stream",
          "name": "stdout",
          "text": [
            "🔧 Epoch 49 Loss: 40493.4117\n"
          ]
        },
        {
          "output_type": "stream",
          "name": "stderr",
          "text": [
            "\n"
          ]
        },
        {
          "output_type": "stream",
          "name": "stdout",
          "text": [
            "📊 mIoU: 0.9150\n"
          ]
        },
        {
          "output_type": "stream",
          "name": "stderr",
          "text": [
            "Epoch 50/100: 100%|██████████| 40/40 [00:07<00:00,  5.06it/s]"
          ]
        },
        {
          "output_type": "stream",
          "name": "stdout",
          "text": [
            "🔧 Epoch 50 Loss: 40334.7399\n"
          ]
        },
        {
          "output_type": "stream",
          "name": "stderr",
          "text": [
            "\n"
          ]
        },
        {
          "output_type": "stream",
          "name": "stdout",
          "text": [
            "📊 mIoU: 0.9150\n"
          ]
        },
        {
          "output_type": "stream",
          "name": "stderr",
          "text": [
            "Epoch 51/100: 100%|██████████| 40/40 [00:07<00:00,  5.25it/s]"
          ]
        },
        {
          "output_type": "stream",
          "name": "stdout",
          "text": [
            "🔧 Epoch 51 Loss: 39551.5826\n"
          ]
        },
        {
          "output_type": "stream",
          "name": "stderr",
          "text": [
            "\n"
          ]
        },
        {
          "output_type": "stream",
          "name": "stdout",
          "text": [
            "📊 mIoU: 0.9157\n"
          ]
        },
        {
          "output_type": "stream",
          "name": "stderr",
          "text": [
            "Epoch 52/100: 100%|██████████| 40/40 [00:06<00:00,  5.89it/s]"
          ]
        },
        {
          "output_type": "stream",
          "name": "stdout",
          "text": [
            "🔧 Epoch 52 Loss: 39772.9847\n"
          ]
        },
        {
          "output_type": "stream",
          "name": "stderr",
          "text": [
            "\n"
          ]
        },
        {
          "output_type": "stream",
          "name": "stdout",
          "text": [
            "📊 mIoU: 0.9151\n"
          ]
        },
        {
          "output_type": "stream",
          "name": "stderr",
          "text": [
            "Epoch 53/100: 100%|██████████| 40/40 [00:06<00:00,  5.79it/s]"
          ]
        },
        {
          "output_type": "stream",
          "name": "stdout",
          "text": [
            "🔧 Epoch 53 Loss: 39461.0939\n"
          ]
        },
        {
          "output_type": "stream",
          "name": "stderr",
          "text": [
            "\n"
          ]
        },
        {
          "output_type": "stream",
          "name": "stdout",
          "text": [
            "📊 mIoU: 0.9146\n"
          ]
        },
        {
          "output_type": "stream",
          "name": "stderr",
          "text": [
            "Epoch 54/100: 100%|██████████| 40/40 [00:07<00:00,  5.56it/s]"
          ]
        },
        {
          "output_type": "stream",
          "name": "stdout",
          "text": [
            "🔧 Epoch 54 Loss: 39593.5534\n"
          ]
        },
        {
          "output_type": "stream",
          "name": "stderr",
          "text": [
            "\n"
          ]
        },
        {
          "output_type": "stream",
          "name": "stdout",
          "text": [
            "📊 mIoU: 0.9146\n"
          ]
        },
        {
          "output_type": "stream",
          "name": "stderr",
          "text": [
            "Epoch 55/100: 100%|██████████| 40/40 [00:07<00:00,  5.01it/s]"
          ]
        },
        {
          "output_type": "stream",
          "name": "stdout",
          "text": [
            "🔧 Epoch 55 Loss: 38899.6904\n"
          ]
        },
        {
          "output_type": "stream",
          "name": "stderr",
          "text": [
            "\n"
          ]
        },
        {
          "output_type": "stream",
          "name": "stdout",
          "text": [
            "📊 mIoU: 0.9143\n"
          ]
        },
        {
          "output_type": "stream",
          "name": "stderr",
          "text": [
            "Epoch 56/100: 100%|██████████| 40/40 [00:08<00:00,  4.98it/s]"
          ]
        },
        {
          "output_type": "stream",
          "name": "stdout",
          "text": [
            "🔧 Epoch 56 Loss: 38456.3810\n"
          ]
        },
        {
          "output_type": "stream",
          "name": "stderr",
          "text": [
            "\n"
          ]
        },
        {
          "output_type": "stream",
          "name": "stdout",
          "text": [
            "📊 mIoU: 0.9143\n"
          ]
        },
        {
          "output_type": "stream",
          "name": "stderr",
          "text": [
            "Epoch 57/100: 100%|██████████| 40/40 [00:06<00:00,  6.24it/s]"
          ]
        },
        {
          "output_type": "stream",
          "name": "stdout",
          "text": [
            "🔧 Epoch 57 Loss: 38292.0880\n"
          ]
        },
        {
          "output_type": "stream",
          "name": "stderr",
          "text": [
            "\n"
          ]
        },
        {
          "output_type": "stream",
          "name": "stdout",
          "text": [
            "📊 mIoU: 0.9146\n"
          ]
        },
        {
          "output_type": "stream",
          "name": "stderr",
          "text": [
            "Epoch 58/100: 100%|██████████| 40/40 [00:06<00:00,  5.86it/s]"
          ]
        },
        {
          "output_type": "stream",
          "name": "stdout",
          "text": [
            "🔧 Epoch 58 Loss: 37565.7745\n"
          ]
        },
        {
          "output_type": "stream",
          "name": "stderr",
          "text": [
            "\n"
          ]
        },
        {
          "output_type": "stream",
          "name": "stdout",
          "text": [
            "📊 mIoU: 0.9139\n"
          ]
        },
        {
          "output_type": "stream",
          "name": "stderr",
          "text": [
            "Epoch 59/100: 100%|██████████| 40/40 [00:07<00:00,  5.07it/s]"
          ]
        },
        {
          "output_type": "stream",
          "name": "stdout",
          "text": [
            "🔧 Epoch 59 Loss: 38268.5839\n"
          ]
        },
        {
          "output_type": "stream",
          "name": "stderr",
          "text": [
            "\n"
          ]
        },
        {
          "output_type": "stream",
          "name": "stdout",
          "text": [
            "📊 mIoU: 0.9136\n"
          ]
        },
        {
          "output_type": "stream",
          "name": "stderr",
          "text": [
            "Epoch 60/100: 100%|██████████| 40/40 [00:07<00:00,  5.34it/s]"
          ]
        },
        {
          "output_type": "stream",
          "name": "stdout",
          "text": [
            "🔧 Epoch 60 Loss: 37727.2197\n"
          ]
        },
        {
          "output_type": "stream",
          "name": "stderr",
          "text": [
            "\n"
          ]
        },
        {
          "output_type": "stream",
          "name": "stdout",
          "text": [
            "📊 mIoU: 0.9143\n"
          ]
        },
        {
          "output_type": "stream",
          "name": "stderr",
          "text": [
            "Epoch 61/100: 100%|██████████| 40/40 [00:07<00:00,  5.32it/s]"
          ]
        },
        {
          "output_type": "stream",
          "name": "stdout",
          "text": [
            "🔧 Epoch 61 Loss: 36745.8942\n"
          ]
        },
        {
          "output_type": "stream",
          "name": "stderr",
          "text": [
            "\n"
          ]
        },
        {
          "output_type": "stream",
          "name": "stdout",
          "text": [
            "📊 mIoU: 0.9135\n"
          ]
        },
        {
          "output_type": "stream",
          "name": "stderr",
          "text": [
            "Epoch 62/100: 100%|██████████| 40/40 [00:06<00:00,  5.79it/s]"
          ]
        },
        {
          "output_type": "stream",
          "name": "stdout",
          "text": [
            "🔧 Epoch 62 Loss: 37622.0950\n"
          ]
        },
        {
          "output_type": "stream",
          "name": "stderr",
          "text": [
            "\n"
          ]
        },
        {
          "output_type": "stream",
          "name": "stdout",
          "text": [
            "📊 mIoU: 0.9136\n"
          ]
        },
        {
          "output_type": "stream",
          "name": "stderr",
          "text": [
            "Epoch 63/100: 100%|██████████| 40/40 [00:06<00:00,  6.06it/s]"
          ]
        },
        {
          "output_type": "stream",
          "name": "stdout",
          "text": [
            "🔧 Epoch 63 Loss: 36647.9054\n"
          ]
        },
        {
          "output_type": "stream",
          "name": "stderr",
          "text": [
            "\n"
          ]
        },
        {
          "output_type": "stream",
          "name": "stdout",
          "text": [
            "📊 mIoU: 0.9132\n"
          ]
        },
        {
          "output_type": "stream",
          "name": "stderr",
          "text": [
            "Epoch 64/100: 100%|██████████| 40/40 [00:07<00:00,  5.04it/s]"
          ]
        },
        {
          "output_type": "stream",
          "name": "stdout",
          "text": [
            "🔧 Epoch 64 Loss: 36432.0674\n"
          ]
        },
        {
          "output_type": "stream",
          "name": "stderr",
          "text": [
            "\n"
          ]
        },
        {
          "output_type": "stream",
          "name": "stdout",
          "text": [
            "📊 mIoU: 0.9131\n"
          ]
        },
        {
          "output_type": "stream",
          "name": "stderr",
          "text": [
            "Epoch 65/100: 100%|██████████| 40/40 [00:07<00:00,  5.05it/s]"
          ]
        },
        {
          "output_type": "stream",
          "name": "stdout",
          "text": [
            "🔧 Epoch 65 Loss: 36672.7778\n"
          ]
        },
        {
          "output_type": "stream",
          "name": "stderr",
          "text": [
            "\n"
          ]
        },
        {
          "output_type": "stream",
          "name": "stdout",
          "text": [
            "📊 mIoU: 0.9140\n"
          ]
        },
        {
          "output_type": "stream",
          "name": "stderr",
          "text": [
            "Epoch 66/100: 100%|██████████| 40/40 [00:06<00:00,  6.29it/s]"
          ]
        },
        {
          "output_type": "stream",
          "name": "stdout",
          "text": [
            "🔧 Epoch 66 Loss: 36463.7544\n"
          ]
        },
        {
          "output_type": "stream",
          "name": "stderr",
          "text": [
            "\n"
          ]
        },
        {
          "output_type": "stream",
          "name": "stdout",
          "text": [
            "📊 mIoU: 0.9132\n"
          ]
        },
        {
          "output_type": "stream",
          "name": "stderr",
          "text": [
            "Epoch 67/100: 100%|██████████| 40/40 [00:06<00:00,  5.78it/s]"
          ]
        },
        {
          "output_type": "stream",
          "name": "stdout",
          "text": [
            "🔧 Epoch 67 Loss: 35802.0545\n"
          ]
        },
        {
          "output_type": "stream",
          "name": "stderr",
          "text": [
            "\n"
          ]
        },
        {
          "output_type": "stream",
          "name": "stdout",
          "text": [
            "📊 mIoU: 0.9130\n"
          ]
        },
        {
          "output_type": "stream",
          "name": "stderr",
          "text": [
            "Epoch 68/100: 100%|██████████| 40/40 [00:07<00:00,  5.22it/s]"
          ]
        },
        {
          "output_type": "stream",
          "name": "stdout",
          "text": [
            "🔧 Epoch 68 Loss: 35659.0077\n"
          ]
        },
        {
          "output_type": "stream",
          "name": "stderr",
          "text": [
            "\n"
          ]
        },
        {
          "output_type": "stream",
          "name": "stdout",
          "text": [
            "📊 mIoU: 0.9126\n"
          ]
        },
        {
          "output_type": "stream",
          "name": "stderr",
          "text": [
            "Epoch 69/100: 100%|██████████| 40/40 [00:07<00:00,  5.34it/s]"
          ]
        },
        {
          "output_type": "stream",
          "name": "stdout",
          "text": [
            "🔧 Epoch 69 Loss: 35066.9739\n"
          ]
        },
        {
          "output_type": "stream",
          "name": "stderr",
          "text": [
            "\n"
          ]
        },
        {
          "output_type": "stream",
          "name": "stdout",
          "text": [
            "📊 mIoU: 0.9123\n"
          ]
        },
        {
          "output_type": "stream",
          "name": "stderr",
          "text": [
            "Epoch 70/100: 100%|██████████| 40/40 [00:08<00:00,  4.95it/s]"
          ]
        },
        {
          "output_type": "stream",
          "name": "stdout",
          "text": [
            "🔧 Epoch 70 Loss: 35404.0541\n"
          ]
        },
        {
          "output_type": "stream",
          "name": "stderr",
          "text": [
            "\n"
          ]
        },
        {
          "output_type": "stream",
          "name": "stdout",
          "text": [
            "📊 mIoU: 0.9127\n"
          ]
        },
        {
          "output_type": "stream",
          "name": "stderr",
          "text": [
            "Epoch 71/100: 100%|██████████| 40/40 [00:06<00:00,  5.77it/s]"
          ]
        },
        {
          "output_type": "stream",
          "name": "stdout",
          "text": [
            "🔧 Epoch 71 Loss: 35411.9006\n"
          ]
        },
        {
          "output_type": "stream",
          "name": "stderr",
          "text": [
            "\n"
          ]
        },
        {
          "output_type": "stream",
          "name": "stdout",
          "text": [
            "📊 mIoU: 0.9131\n"
          ]
        },
        {
          "output_type": "stream",
          "name": "stderr",
          "text": [
            "Epoch 72/100: 100%|██████████| 40/40 [00:06<00:00,  6.07it/s]"
          ]
        },
        {
          "output_type": "stream",
          "name": "stdout",
          "text": [
            "🔧 Epoch 72 Loss: 34395.4173\n"
          ]
        },
        {
          "output_type": "stream",
          "name": "stderr",
          "text": [
            "\n"
          ]
        },
        {
          "output_type": "stream",
          "name": "stdout",
          "text": [
            "📊 mIoU: 0.9126\n"
          ]
        },
        {
          "output_type": "stream",
          "name": "stderr",
          "text": [
            "Epoch 73/100: 100%|██████████| 40/40 [00:07<00:00,  5.18it/s]"
          ]
        },
        {
          "output_type": "stream",
          "name": "stdout",
          "text": [
            "🔧 Epoch 73 Loss: 34254.7110\n"
          ]
        },
        {
          "output_type": "stream",
          "name": "stderr",
          "text": [
            "\n"
          ]
        },
        {
          "output_type": "stream",
          "name": "stdout",
          "text": [
            "📊 mIoU: 0.9126\n"
          ]
        },
        {
          "output_type": "stream",
          "name": "stderr",
          "text": [
            "Epoch 74/100: 100%|██████████| 40/40 [00:07<00:00,  5.02it/s]"
          ]
        },
        {
          "output_type": "stream",
          "name": "stdout",
          "text": [
            "🔧 Epoch 74 Loss: 33743.5348\n"
          ]
        },
        {
          "output_type": "stream",
          "name": "stderr",
          "text": [
            "\n"
          ]
        },
        {
          "output_type": "stream",
          "name": "stdout",
          "text": [
            "📊 mIoU: 0.9130\n"
          ]
        },
        {
          "output_type": "stream",
          "name": "stderr",
          "text": [
            "Epoch 75/100: 100%|██████████| 40/40 [00:07<00:00,  5.20it/s]"
          ]
        },
        {
          "output_type": "stream",
          "name": "stdout",
          "text": [
            "🔧 Epoch 75 Loss: 33395.3244\n"
          ]
        },
        {
          "output_type": "stream",
          "name": "stderr",
          "text": [
            "\n"
          ]
        },
        {
          "output_type": "stream",
          "name": "stdout",
          "text": [
            "📊 mIoU: 0.9128\n"
          ]
        },
        {
          "output_type": "stream",
          "name": "stderr",
          "text": [
            "Epoch 76/100: 100%|██████████| 40/40 [00:06<00:00,  5.81it/s]"
          ]
        },
        {
          "output_type": "stream",
          "name": "stdout",
          "text": [
            "🔧 Epoch 76 Loss: 33658.3339\n"
          ]
        },
        {
          "output_type": "stream",
          "name": "stderr",
          "text": [
            "\n"
          ]
        },
        {
          "output_type": "stream",
          "name": "stdout",
          "text": [
            "📊 mIoU: 0.9115\n"
          ]
        },
        {
          "output_type": "stream",
          "name": "stderr",
          "text": [
            "Epoch 77/100: 100%|██████████| 40/40 [00:06<00:00,  5.87it/s]"
          ]
        },
        {
          "output_type": "stream",
          "name": "stdout",
          "text": [
            "🔧 Epoch 77 Loss: 33775.4811\n"
          ]
        },
        {
          "output_type": "stream",
          "name": "stderr",
          "text": [
            "\n"
          ]
        },
        {
          "output_type": "stream",
          "name": "stdout",
          "text": [
            "📊 mIoU: 0.9124\n"
          ]
        },
        {
          "output_type": "stream",
          "name": "stderr",
          "text": [
            "Epoch 78/100: 100%|██████████| 40/40 [00:07<00:00,  5.49it/s]"
          ]
        },
        {
          "output_type": "stream",
          "name": "stdout",
          "text": [
            "🔧 Epoch 78 Loss: 33332.6813\n"
          ]
        },
        {
          "output_type": "stream",
          "name": "stderr",
          "text": [
            "\n"
          ]
        },
        {
          "output_type": "stream",
          "name": "stdout",
          "text": [
            "📊 mIoU: 0.9124\n"
          ]
        },
        {
          "output_type": "stream",
          "name": "stderr",
          "text": [
            "Epoch 79/100: 100%|██████████| 40/40 [00:07<00:00,  5.02it/s]"
          ]
        },
        {
          "output_type": "stream",
          "name": "stdout",
          "text": [
            "🔧 Epoch 79 Loss: 33107.9506\n"
          ]
        },
        {
          "output_type": "stream",
          "name": "stderr",
          "text": [
            "\n"
          ]
        },
        {
          "output_type": "stream",
          "name": "stdout",
          "text": [
            "📊 mIoU: 0.9133\n"
          ]
        },
        {
          "output_type": "stream",
          "name": "stderr",
          "text": [
            "Epoch 80/100: 100%|██████████| 40/40 [00:07<00:00,  5.24it/s]"
          ]
        },
        {
          "output_type": "stream",
          "name": "stdout",
          "text": [
            "🔧 Epoch 80 Loss: 32803.5700\n"
          ]
        },
        {
          "output_type": "stream",
          "name": "stderr",
          "text": [
            "\n"
          ]
        },
        {
          "output_type": "stream",
          "name": "stdout",
          "text": [
            "📊 mIoU: 0.9113\n"
          ]
        },
        {
          "output_type": "stream",
          "name": "stderr",
          "text": [
            "Epoch 81/100: 100%|██████████| 40/40 [00:06<00:00,  6.20it/s]"
          ]
        },
        {
          "output_type": "stream",
          "name": "stdout",
          "text": [
            "🔧 Epoch 81 Loss: 32748.7913\n"
          ]
        },
        {
          "output_type": "stream",
          "name": "stderr",
          "text": [
            "\n"
          ]
        },
        {
          "output_type": "stream",
          "name": "stdout",
          "text": [
            "📊 mIoU: 0.9110\n"
          ]
        },
        {
          "output_type": "stream",
          "name": "stderr",
          "text": [
            "Epoch 82/100: 100%|██████████| 40/40 [00:07<00:00,  5.57it/s]\n"
          ]
        },
        {
          "output_type": "stream",
          "name": "stdout",
          "text": [
            "🔧 Epoch 82 Loss: 32518.1876\n",
            "📊 mIoU: 0.9108\n"
          ]
        },
        {
          "output_type": "stream",
          "name": "stderr",
          "text": [
            "Epoch 83/100: 100%|██████████| 40/40 [00:08<00:00,  4.98it/s]"
          ]
        },
        {
          "output_type": "stream",
          "name": "stdout",
          "text": [
            "🔧 Epoch 83 Loss: 31997.7500\n"
          ]
        },
        {
          "output_type": "stream",
          "name": "stderr",
          "text": [
            "\n"
          ]
        },
        {
          "output_type": "stream",
          "name": "stdout",
          "text": [
            "📊 mIoU: 0.9122\n"
          ]
        },
        {
          "output_type": "stream",
          "name": "stderr",
          "text": [
            "Epoch 84/100: 100%|██████████| 40/40 [00:07<00:00,  5.28it/s]"
          ]
        },
        {
          "output_type": "stream",
          "name": "stdout",
          "text": [
            "🔧 Epoch 84 Loss: 31693.4203\n"
          ]
        },
        {
          "output_type": "stream",
          "name": "stderr",
          "text": [
            "\n"
          ]
        },
        {
          "output_type": "stream",
          "name": "stdout",
          "text": [
            "📊 mIoU: 0.9112\n"
          ]
        },
        {
          "output_type": "stream",
          "name": "stderr",
          "text": [
            "Epoch 85/100: 100%|██████████| 40/40 [00:07<00:00,  5.59it/s]"
          ]
        },
        {
          "output_type": "stream",
          "name": "stdout",
          "text": [
            "🔧 Epoch 85 Loss: 32290.6291\n"
          ]
        },
        {
          "output_type": "stream",
          "name": "stderr",
          "text": [
            "\n"
          ]
        },
        {
          "output_type": "stream",
          "name": "stdout",
          "text": [
            "📊 mIoU: 0.9124\n"
          ]
        },
        {
          "output_type": "stream",
          "name": "stderr",
          "text": [
            "Epoch 86/100: 100%|██████████| 40/40 [00:06<00:00,  5.77it/s]"
          ]
        },
        {
          "output_type": "stream",
          "name": "stdout",
          "text": [
            "🔧 Epoch 86 Loss: 31756.1723\n"
          ]
        },
        {
          "output_type": "stream",
          "name": "stderr",
          "text": [
            "\n"
          ]
        },
        {
          "output_type": "stream",
          "name": "stdout",
          "text": [
            "📊 mIoU: 0.9120\n"
          ]
        },
        {
          "output_type": "stream",
          "name": "stderr",
          "text": [
            "Epoch 87/100: 100%|██████████| 40/40 [00:07<00:00,  5.68it/s]"
          ]
        },
        {
          "output_type": "stream",
          "name": "stdout",
          "text": [
            "🔧 Epoch 87 Loss: 31394.3982\n"
          ]
        },
        {
          "output_type": "stream",
          "name": "stderr",
          "text": [
            "\n"
          ]
        },
        {
          "output_type": "stream",
          "name": "stdout",
          "text": [
            "📊 mIoU: 0.9116\n"
          ]
        },
        {
          "output_type": "stream",
          "name": "stderr",
          "text": [
            "Epoch 88/100: 100%|██████████| 40/40 [00:08<00:00,  4.93it/s]"
          ]
        },
        {
          "output_type": "stream",
          "name": "stdout",
          "text": [
            "🔧 Epoch 88 Loss: 31292.0700\n"
          ]
        },
        {
          "output_type": "stream",
          "name": "stderr",
          "text": [
            "\n"
          ]
        },
        {
          "output_type": "stream",
          "name": "stdout",
          "text": [
            "📊 mIoU: 0.9127\n"
          ]
        },
        {
          "output_type": "stream",
          "name": "stderr",
          "text": [
            "Epoch 89/100: 100%|██████████| 40/40 [00:08<00:00,  4.91it/s]"
          ]
        },
        {
          "output_type": "stream",
          "name": "stdout",
          "text": [
            "🔧 Epoch 89 Loss: 31431.1459\n"
          ]
        },
        {
          "output_type": "stream",
          "name": "stderr",
          "text": [
            "\n"
          ]
        },
        {
          "output_type": "stream",
          "name": "stdout",
          "text": [
            "📊 mIoU: 0.9121\n"
          ]
        },
        {
          "output_type": "stream",
          "name": "stderr",
          "text": [
            "Epoch 90/100: 100%|██████████| 40/40 [00:06<00:00,  5.99it/s]"
          ]
        },
        {
          "output_type": "stream",
          "name": "stdout",
          "text": [
            "🔧 Epoch 90 Loss: 31148.6681\n"
          ]
        },
        {
          "output_type": "stream",
          "name": "stderr",
          "text": [
            "\n"
          ]
        },
        {
          "output_type": "stream",
          "name": "stdout",
          "text": [
            "📊 mIoU: 0.9114\n"
          ]
        },
        {
          "output_type": "stream",
          "name": "stderr",
          "text": [
            "Epoch 91/100: 100%|██████████| 40/40 [00:06<00:00,  5.73it/s]"
          ]
        },
        {
          "output_type": "stream",
          "name": "stdout",
          "text": [
            "🔧 Epoch 91 Loss: 30715.2928\n"
          ]
        },
        {
          "output_type": "stream",
          "name": "stderr",
          "text": [
            "\n"
          ]
        },
        {
          "output_type": "stream",
          "name": "stdout",
          "text": [
            "📊 mIoU: 0.9122\n"
          ]
        },
        {
          "output_type": "stream",
          "name": "stderr",
          "text": [
            "Epoch 92/100: 100%|██████████| 40/40 [00:07<00:00,  5.69it/s]"
          ]
        },
        {
          "output_type": "stream",
          "name": "stdout",
          "text": [
            "🔧 Epoch 92 Loss: 30208.7928\n"
          ]
        },
        {
          "output_type": "stream",
          "name": "stderr",
          "text": [
            "\n"
          ]
        },
        {
          "output_type": "stream",
          "name": "stdout",
          "text": [
            "📊 mIoU: 0.9127\n"
          ]
        },
        {
          "output_type": "stream",
          "name": "stderr",
          "text": [
            "Epoch 93/100: 100%|██████████| 40/40 [00:06<00:00,  6.29it/s]"
          ]
        },
        {
          "output_type": "stream",
          "name": "stdout",
          "text": [
            "🔧 Epoch 93 Loss: 30300.0976\n"
          ]
        },
        {
          "output_type": "stream",
          "name": "stderr",
          "text": [
            "\n"
          ]
        },
        {
          "output_type": "stream",
          "name": "stdout",
          "text": [
            "📊 mIoU: 0.9123\n"
          ]
        },
        {
          "output_type": "stream",
          "name": "stderr",
          "text": [
            "Epoch 94/100: 100%|██████████| 40/40 [00:07<00:00,  5.03it/s]"
          ]
        },
        {
          "output_type": "stream",
          "name": "stdout",
          "text": [
            "🔧 Epoch 94 Loss: 30226.5427\n"
          ]
        },
        {
          "output_type": "stream",
          "name": "stderr",
          "text": [
            "\n"
          ]
        },
        {
          "output_type": "stream",
          "name": "stdout",
          "text": [
            "📊 mIoU: 0.9121\n"
          ]
        },
        {
          "output_type": "stream",
          "name": "stderr",
          "text": [
            "Epoch 95/100: 100%|██████████| 40/40 [00:07<00:00,  5.00it/s]"
          ]
        },
        {
          "output_type": "stream",
          "name": "stdout",
          "text": [
            "🔧 Epoch 95 Loss: 29903.7207\n"
          ]
        },
        {
          "output_type": "stream",
          "name": "stderr",
          "text": [
            "\n"
          ]
        },
        {
          "output_type": "stream",
          "name": "stdout",
          "text": [
            "📊 mIoU: 0.9121\n"
          ]
        },
        {
          "output_type": "stream",
          "name": "stderr",
          "text": [
            "Epoch 96/100: 100%|██████████| 40/40 [00:07<00:00,  5.25it/s]"
          ]
        },
        {
          "output_type": "stream",
          "name": "stdout",
          "text": [
            "🔧 Epoch 96 Loss: 29739.6365\n"
          ]
        },
        {
          "output_type": "stream",
          "name": "stderr",
          "text": [
            "\n"
          ]
        },
        {
          "output_type": "stream",
          "name": "stdout",
          "text": [
            "📊 mIoU: 0.9118\n"
          ]
        },
        {
          "output_type": "stream",
          "name": "stderr",
          "text": [
            "Epoch 97/100: 100%|██████████| 40/40 [00:07<00:00,  5.61it/s]"
          ]
        },
        {
          "output_type": "stream",
          "name": "stdout",
          "text": [
            "🔧 Epoch 97 Loss: 29721.1275\n"
          ]
        },
        {
          "output_type": "stream",
          "name": "stderr",
          "text": [
            "\n"
          ]
        },
        {
          "output_type": "stream",
          "name": "stdout",
          "text": [
            "📊 mIoU: 0.9122\n"
          ]
        },
        {
          "output_type": "stream",
          "name": "stderr",
          "text": [
            "Epoch 98/100: 100%|██████████| 40/40 [00:06<00:00,  5.86it/s]"
          ]
        },
        {
          "output_type": "stream",
          "name": "stdout",
          "text": [
            "🔧 Epoch 98 Loss: 29367.2421\n"
          ]
        },
        {
          "output_type": "stream",
          "name": "stderr",
          "text": [
            "\n"
          ]
        },
        {
          "output_type": "stream",
          "name": "stdout",
          "text": [
            "📊 mIoU: 0.9122\n"
          ]
        },
        {
          "output_type": "stream",
          "name": "stderr",
          "text": [
            "Epoch 99/100: 100%|██████████| 40/40 [00:07<00:00,  5.60it/s]"
          ]
        },
        {
          "output_type": "stream",
          "name": "stdout",
          "text": [
            "🔧 Epoch 99 Loss: 29290.6249\n"
          ]
        },
        {
          "output_type": "stream",
          "name": "stderr",
          "text": [
            "\n"
          ]
        },
        {
          "output_type": "stream",
          "name": "stdout",
          "text": [
            "📊 mIoU: 0.9123\n"
          ]
        },
        {
          "output_type": "stream",
          "name": "stderr",
          "text": [
            "Epoch 100/100: 100%|██████████| 40/40 [00:08<00:00,  4.87it/s]"
          ]
        },
        {
          "output_type": "stream",
          "name": "stdout",
          "text": [
            "🔧 Epoch 100 Loss: 29367.1655\n"
          ]
        },
        {
          "output_type": "stream",
          "name": "stderr",
          "text": [
            "\n"
          ]
        },
        {
          "output_type": "stream",
          "name": "stdout",
          "text": [
            "📊 mIoU: 0.9122\n",
            "📉 Stage 2 最終 mIoU drop: 0.0081\n",
            "📘 Stage 3: Classification 訓練中 (啟用 Replay)，共 100 個 Epochs\n",
            "Initial Classification Performance: mAP=0.1466, Top-1=0.0833\n"
          ]
        },
        {
          "output_type": "stream",
          "name": "stderr",
          "text": [
            "Epoch 1/100: 100%|██████████| 40/40 [00:06<00:00,  6.25it/s]"
          ]
        },
        {
          "output_type": "stream",
          "name": "stdout",
          "text": [
            "🔧 Epoch 1 Loss: 28.4322\n"
          ]
        },
        {
          "output_type": "stream",
          "name": "stderr",
          "text": [
            "\n"
          ]
        },
        {
          "output_type": "stream",
          "name": "stdout",
          "text": [
            "📊 mIoU: 0.9109\n",
            "📈 mAP: 0.2650, Top-1: 0.1167\n"
          ]
        },
        {
          "output_type": "stream",
          "name": "stderr",
          "text": [
            "Epoch 2/100: 100%|██████████| 40/40 [00:05<00:00,  6.69it/s]"
          ]
        },
        {
          "output_type": "stream",
          "name": "stdout",
          "text": [
            "🔧 Epoch 2 Loss: 6.1601\n"
          ]
        },
        {
          "output_type": "stream",
          "name": "stderr",
          "text": [
            "\n"
          ]
        },
        {
          "output_type": "stream",
          "name": "stdout",
          "text": [
            "📊 mIoU: 0.9089\n",
            "📈 mAP: 0.2597, Top-1: 0.1833\n"
          ]
        },
        {
          "output_type": "stream",
          "name": "stderr",
          "text": [
            "Epoch 3/100: 100%|██████████| 40/40 [00:05<00:00,  7.39it/s]"
          ]
        },
        {
          "output_type": "stream",
          "name": "stdout",
          "text": [
            "🔧 Epoch 3 Loss: 2.4764\n"
          ]
        },
        {
          "output_type": "stream",
          "name": "stderr",
          "text": [
            "\n"
          ]
        },
        {
          "output_type": "stream",
          "name": "stdout",
          "text": [
            "📊 mIoU: 0.9088\n",
            "📈 mAP: 0.2452, Top-1: 0.2000\n"
          ]
        },
        {
          "output_type": "stream",
          "name": "stderr",
          "text": [
            "Epoch 4/100: 100%|██████████| 40/40 [00:06<00:00,  5.85it/s]"
          ]
        },
        {
          "output_type": "stream",
          "name": "stdout",
          "text": [
            "🔧 Epoch 4 Loss: 1.9851\n"
          ]
        },
        {
          "output_type": "stream",
          "name": "stderr",
          "text": [
            "\n"
          ]
        },
        {
          "output_type": "stream",
          "name": "stdout",
          "text": [
            "📊 mIoU: 0.9085\n",
            "📈 mAP: 0.3031, Top-1: 0.1833\n"
          ]
        },
        {
          "output_type": "stream",
          "name": "stderr",
          "text": [
            "Epoch 5/100: 100%|██████████| 40/40 [00:06<00:00,  5.98it/s]"
          ]
        },
        {
          "output_type": "stream",
          "name": "stdout",
          "text": [
            "🔧 Epoch 5 Loss: 1.7718\n"
          ]
        },
        {
          "output_type": "stream",
          "name": "stderr",
          "text": [
            "\n"
          ]
        },
        {
          "output_type": "stream",
          "name": "stdout",
          "text": [
            "📊 mIoU: 0.9088\n",
            "📈 mAP: 0.3187, Top-1: 0.2167\n"
          ]
        },
        {
          "output_type": "stream",
          "name": "stderr",
          "text": [
            "Epoch 6/100: 100%|██████████| 40/40 [00:05<00:00,  7.52it/s]"
          ]
        },
        {
          "output_type": "stream",
          "name": "stdout",
          "text": [
            "🔧 Epoch 6 Loss: 1.6145\n"
          ]
        },
        {
          "output_type": "stream",
          "name": "stderr",
          "text": [
            "\n"
          ]
        },
        {
          "output_type": "stream",
          "name": "stdout",
          "text": [
            "📊 mIoU: 0.9090\n",
            "📈 mAP: 0.3583, Top-1: 0.2833\n"
          ]
        },
        {
          "output_type": "stream",
          "name": "stderr",
          "text": [
            "Epoch 7/100: 100%|██████████| 40/40 [00:05<00:00,  6.78it/s]"
          ]
        },
        {
          "output_type": "stream",
          "name": "stdout",
          "text": [
            "🔧 Epoch 7 Loss: 1.4366\n"
          ]
        },
        {
          "output_type": "stream",
          "name": "stderr",
          "text": [
            "\n"
          ]
        },
        {
          "output_type": "stream",
          "name": "stdout",
          "text": [
            "📊 mIoU: 0.9091\n",
            "📈 mAP: 0.3660, Top-1: 0.3333\n"
          ]
        },
        {
          "output_type": "stream",
          "name": "stderr",
          "text": [
            "Epoch 8/100: 100%|██████████| 40/40 [00:06<00:00,  6.64it/s]"
          ]
        },
        {
          "output_type": "stream",
          "name": "stdout",
          "text": [
            "🔧 Epoch 8 Loss: 1.3562\n"
          ]
        },
        {
          "output_type": "stream",
          "name": "stderr",
          "text": [
            "\n"
          ]
        },
        {
          "output_type": "stream",
          "name": "stdout",
          "text": [
            "📊 mIoU: 0.9092\n",
            "📈 mAP: 0.4206, Top-1: 0.3000\n"
          ]
        },
        {
          "output_type": "stream",
          "name": "stderr",
          "text": [
            "Epoch 9/100: 100%|██████████| 40/40 [00:06<00:00,  6.06it/s]"
          ]
        },
        {
          "output_type": "stream",
          "name": "stdout",
          "text": [
            "🔧 Epoch 9 Loss: 1.2419\n"
          ]
        },
        {
          "output_type": "stream",
          "name": "stderr",
          "text": [
            "\n"
          ]
        },
        {
          "output_type": "stream",
          "name": "stdout",
          "text": [
            "📊 mIoU: 0.9092\n",
            "📈 mAP: 0.4561, Top-1: 0.3667\n"
          ]
        },
        {
          "output_type": "stream",
          "name": "stderr",
          "text": [
            "Epoch 10/100: 100%|██████████| 40/40 [00:06<00:00,  6.35it/s]"
          ]
        },
        {
          "output_type": "stream",
          "name": "stdout",
          "text": [
            "🔧 Epoch 10 Loss: 1.1735\n"
          ]
        },
        {
          "output_type": "stream",
          "name": "stderr",
          "text": [
            "\n"
          ]
        },
        {
          "output_type": "stream",
          "name": "stdout",
          "text": [
            "📊 mIoU: 0.9090\n",
            "📈 mAP: 0.4611, Top-1: 0.3667\n"
          ]
        },
        {
          "output_type": "stream",
          "name": "stderr",
          "text": [
            "Epoch 11/100: 100%|██████████| 40/40 [00:05<00:00,  7.04it/s]"
          ]
        },
        {
          "output_type": "stream",
          "name": "stdout",
          "text": [
            "🔧 Epoch 11 Loss: 0.9874\n"
          ]
        },
        {
          "output_type": "stream",
          "name": "stderr",
          "text": [
            "\n"
          ]
        },
        {
          "output_type": "stream",
          "name": "stdout",
          "text": [
            "📊 mIoU: 0.9094\n",
            "📈 mAP: 0.4884, Top-1: 0.4667\n"
          ]
        },
        {
          "output_type": "stream",
          "name": "stderr",
          "text": [
            "Epoch 12/100: 100%|██████████| 40/40 [00:05<00:00,  6.98it/s]"
          ]
        },
        {
          "output_type": "stream",
          "name": "stdout",
          "text": [
            "🔧 Epoch 12 Loss: 1.0517\n"
          ]
        },
        {
          "output_type": "stream",
          "name": "stderr",
          "text": [
            "\n"
          ]
        },
        {
          "output_type": "stream",
          "name": "stdout",
          "text": [
            "📊 mIoU: 0.9096\n",
            "📈 mAP: 0.4924, Top-1: 0.3333\n"
          ]
        },
        {
          "output_type": "stream",
          "name": "stderr",
          "text": [
            "Epoch 13/100: 100%|██████████| 40/40 [00:07<00:00,  5.30it/s]"
          ]
        },
        {
          "output_type": "stream",
          "name": "stdout",
          "text": [
            "🔧 Epoch 13 Loss: 0.8297\n"
          ]
        },
        {
          "output_type": "stream",
          "name": "stderr",
          "text": [
            "\n"
          ]
        },
        {
          "output_type": "stream",
          "name": "stdout",
          "text": [
            "📊 mIoU: 0.9095\n",
            "📈 mAP: 0.5243, Top-1: 0.4667\n"
          ]
        },
        {
          "output_type": "stream",
          "name": "stderr",
          "text": [
            "Epoch 14/100: 100%|██████████| 40/40 [00:06<00:00,  5.83it/s]"
          ]
        },
        {
          "output_type": "stream",
          "name": "stdout",
          "text": [
            "🔧 Epoch 14 Loss: 0.7294\n"
          ]
        },
        {
          "output_type": "stream",
          "name": "stderr",
          "text": [
            "\n"
          ]
        },
        {
          "output_type": "stream",
          "name": "stdout",
          "text": [
            "📊 mIoU: 0.9094\n",
            "📈 mAP: 0.5038, Top-1: 0.3833\n"
          ]
        },
        {
          "output_type": "stream",
          "name": "stderr",
          "text": [
            "Epoch 15/100: 100%|██████████| 40/40 [00:05<00:00,  7.31it/s]"
          ]
        },
        {
          "output_type": "stream",
          "name": "stdout",
          "text": [
            "🔧 Epoch 15 Loss: 0.6985\n"
          ]
        },
        {
          "output_type": "stream",
          "name": "stderr",
          "text": [
            "\n"
          ]
        },
        {
          "output_type": "stream",
          "name": "stdout",
          "text": [
            "📊 mIoU: 0.9095\n",
            "📈 mAP: 0.5241, Top-1: 0.4167\n"
          ]
        },
        {
          "output_type": "stream",
          "name": "stderr",
          "text": [
            "Epoch 16/100: 100%|██████████| 40/40 [00:05<00:00,  6.80it/s]"
          ]
        },
        {
          "output_type": "stream",
          "name": "stdout",
          "text": [
            "🔧 Epoch 16 Loss: 0.6255\n"
          ]
        },
        {
          "output_type": "stream",
          "name": "stderr",
          "text": [
            "\n"
          ]
        },
        {
          "output_type": "stream",
          "name": "stdout",
          "text": [
            "📊 mIoU: 0.9097\n",
            "📈 mAP: 0.5915, Top-1: 0.5000\n"
          ]
        },
        {
          "output_type": "stream",
          "name": "stderr",
          "text": [
            "Epoch 17/100: 100%|██████████| 40/40 [00:06<00:00,  6.00it/s]"
          ]
        },
        {
          "output_type": "stream",
          "name": "stdout",
          "text": [
            "🔧 Epoch 17 Loss: 0.5761\n"
          ]
        },
        {
          "output_type": "stream",
          "name": "stderr",
          "text": [
            "\n"
          ]
        },
        {
          "output_type": "stream",
          "name": "stdout",
          "text": [
            "📊 mIoU: 0.9097\n",
            "📈 mAP: 0.5361, Top-1: 0.4500\n"
          ]
        },
        {
          "output_type": "stream",
          "name": "stderr",
          "text": [
            "Epoch 18/100: 100%|██████████| 40/40 [00:06<00:00,  6.33it/s]"
          ]
        },
        {
          "output_type": "stream",
          "name": "stdout",
          "text": [
            "🔧 Epoch 18 Loss: 0.4931\n"
          ]
        },
        {
          "output_type": "stream",
          "name": "stderr",
          "text": [
            "\n"
          ]
        },
        {
          "output_type": "stream",
          "name": "stdout",
          "text": [
            "📊 mIoU: 0.9099\n",
            "📈 mAP: 0.5283, Top-1: 0.4167\n"
          ]
        },
        {
          "output_type": "stream",
          "name": "stderr",
          "text": [
            "Epoch 19/100: 100%|██████████| 40/40 [00:05<00:00,  6.89it/s]"
          ]
        },
        {
          "output_type": "stream",
          "name": "stdout",
          "text": [
            "🔧 Epoch 19 Loss: 0.4361\n"
          ]
        },
        {
          "output_type": "stream",
          "name": "stderr",
          "text": [
            "\n"
          ]
        },
        {
          "output_type": "stream",
          "name": "stdout",
          "text": [
            "📊 mIoU: 0.9097\n",
            "📈 mAP: 0.5606, Top-1: 0.5000\n"
          ]
        },
        {
          "output_type": "stream",
          "name": "stderr",
          "text": [
            "Epoch 20/100: 100%|██████████| 40/40 [00:05<00:00,  7.06it/s]"
          ]
        },
        {
          "output_type": "stream",
          "name": "stdout",
          "text": [
            "🔧 Epoch 20 Loss: 0.3422\n"
          ]
        },
        {
          "output_type": "stream",
          "name": "stderr",
          "text": [
            "\n"
          ]
        },
        {
          "output_type": "stream",
          "name": "stdout",
          "text": [
            "📊 mIoU: 0.9098\n",
            "📈 mAP: 0.5887, Top-1: 0.5333\n"
          ]
        },
        {
          "output_type": "stream",
          "name": "stderr",
          "text": [
            "Epoch 21/100: 100%|██████████| 40/40 [00:06<00:00,  5.95it/s]"
          ]
        },
        {
          "output_type": "stream",
          "name": "stdout",
          "text": [
            "🔧 Epoch 21 Loss: 0.2430\n"
          ]
        },
        {
          "output_type": "stream",
          "name": "stderr",
          "text": [
            "\n"
          ]
        },
        {
          "output_type": "stream",
          "name": "stdout",
          "text": [
            "📊 mIoU: 0.9103\n",
            "📈 mAP: 0.5687, Top-1: 0.4833\n"
          ]
        },
        {
          "output_type": "stream",
          "name": "stderr",
          "text": [
            "Epoch 22/100: 100%|██████████| 40/40 [00:07<00:00,  5.61it/s]"
          ]
        },
        {
          "output_type": "stream",
          "name": "stdout",
          "text": [
            "🔧 Epoch 22 Loss: 0.2515\n"
          ]
        },
        {
          "output_type": "stream",
          "name": "stderr",
          "text": [
            "\n"
          ]
        },
        {
          "output_type": "stream",
          "name": "stdout",
          "text": [
            "📊 mIoU: 0.9101\n",
            "📈 mAP: 0.5804, Top-1: 0.5333\n"
          ]
        },
        {
          "output_type": "stream",
          "name": "stderr",
          "text": [
            "Epoch 23/100: 100%|██████████| 40/40 [00:05<00:00,  7.02it/s]"
          ]
        },
        {
          "output_type": "stream",
          "name": "stdout",
          "text": [
            "🔧 Epoch 23 Loss: 0.2343\n"
          ]
        },
        {
          "output_type": "stream",
          "name": "stderr",
          "text": [
            "\n"
          ]
        },
        {
          "output_type": "stream",
          "name": "stdout",
          "text": [
            "📊 mIoU: 0.9099\n",
            "📈 mAP: 0.6055, Top-1: 0.5500\n"
          ]
        },
        {
          "output_type": "stream",
          "name": "stderr",
          "text": [
            "Epoch 24/100: 100%|██████████| 40/40 [00:05<00:00,  6.81it/s]"
          ]
        },
        {
          "output_type": "stream",
          "name": "stdout",
          "text": [
            "🔧 Epoch 24 Loss: 0.1990\n"
          ]
        },
        {
          "output_type": "stream",
          "name": "stderr",
          "text": [
            "\n"
          ]
        },
        {
          "output_type": "stream",
          "name": "stdout",
          "text": [
            "📊 mIoU: 0.9099\n",
            "📈 mAP: 0.5496, Top-1: 0.5167\n"
          ]
        },
        {
          "output_type": "stream",
          "name": "stderr",
          "text": [
            "Epoch 25/100: 100%|██████████| 40/40 [00:05<00:00,  6.77it/s]"
          ]
        },
        {
          "output_type": "stream",
          "name": "stdout",
          "text": [
            "🔧 Epoch 25 Loss: 0.1384\n"
          ]
        },
        {
          "output_type": "stream",
          "name": "stderr",
          "text": [
            "\n"
          ]
        },
        {
          "output_type": "stream",
          "name": "stdout",
          "text": [
            "📊 mIoU: 0.9097\n",
            "📈 mAP: 0.5925, Top-1: 0.5333\n"
          ]
        },
        {
          "output_type": "stream",
          "name": "stderr",
          "text": [
            "Epoch 26/100: 100%|██████████| 40/40 [00:06<00:00,  6.10it/s]"
          ]
        },
        {
          "output_type": "stream",
          "name": "stdout",
          "text": [
            "🔧 Epoch 26 Loss: 0.1252\n"
          ]
        },
        {
          "output_type": "stream",
          "name": "stderr",
          "text": [
            "\n"
          ]
        },
        {
          "output_type": "stream",
          "name": "stdout",
          "text": [
            "📊 mIoU: 0.9097\n",
            "📈 mAP: 0.5710, Top-1: 0.5000\n"
          ]
        },
        {
          "output_type": "stream",
          "name": "stderr",
          "text": [
            "Epoch 27/100: 100%|██████████| 40/40 [00:05<00:00,  7.10it/s]"
          ]
        },
        {
          "output_type": "stream",
          "name": "stdout",
          "text": [
            "🔧 Epoch 27 Loss: 0.1236\n"
          ]
        },
        {
          "output_type": "stream",
          "name": "stderr",
          "text": [
            "\n"
          ]
        },
        {
          "output_type": "stream",
          "name": "stdout",
          "text": [
            "📊 mIoU: 0.9100\n",
            "📈 mAP: 0.6093, Top-1: 0.5667\n"
          ]
        },
        {
          "output_type": "stream",
          "name": "stderr",
          "text": [
            "Epoch 28/100: 100%|██████████| 40/40 [00:05<00:00,  6.87it/s]"
          ]
        },
        {
          "output_type": "stream",
          "name": "stdout",
          "text": [
            "🔧 Epoch 28 Loss: 0.1568\n"
          ]
        },
        {
          "output_type": "stream",
          "name": "stderr",
          "text": [
            "\n"
          ]
        },
        {
          "output_type": "stream",
          "name": "stdout",
          "text": [
            "📊 mIoU: 0.9101\n",
            "📈 mAP: 0.5549, Top-1: 0.5167\n"
          ]
        },
        {
          "output_type": "stream",
          "name": "stderr",
          "text": [
            "Epoch 29/100: 100%|██████████| 40/40 [00:05<00:00,  6.89it/s]"
          ]
        },
        {
          "output_type": "stream",
          "name": "stdout",
          "text": [
            "🔧 Epoch 29 Loss: 0.1163\n"
          ]
        },
        {
          "output_type": "stream",
          "name": "stderr",
          "text": [
            "\n"
          ]
        },
        {
          "output_type": "stream",
          "name": "stdout",
          "text": [
            "📊 mIoU: 0.9101\n",
            "📈 mAP: 0.5904, Top-1: 0.5167\n"
          ]
        },
        {
          "output_type": "stream",
          "name": "stderr",
          "text": [
            "Epoch 30/100: 100%|██████████| 40/40 [00:06<00:00,  6.16it/s]"
          ]
        },
        {
          "output_type": "stream",
          "name": "stdout",
          "text": [
            "🔧 Epoch 30 Loss: 0.1539\n"
          ]
        },
        {
          "output_type": "stream",
          "name": "stderr",
          "text": [
            "\n"
          ]
        },
        {
          "output_type": "stream",
          "name": "stdout",
          "text": [
            "📊 mIoU: 0.9099\n",
            "📈 mAP: 0.5680, Top-1: 0.5167\n"
          ]
        },
        {
          "output_type": "stream",
          "name": "stderr",
          "text": [
            "Epoch 31/100: 100%|██████████| 40/40 [00:06<00:00,  5.94it/s]"
          ]
        },
        {
          "output_type": "stream",
          "name": "stdout",
          "text": [
            "🔧 Epoch 31 Loss: 0.1441\n"
          ]
        },
        {
          "output_type": "stream",
          "name": "stderr",
          "text": [
            "\n"
          ]
        },
        {
          "output_type": "stream",
          "name": "stdout",
          "text": [
            "📊 mIoU: 0.9097\n",
            "📈 mAP: 0.5533, Top-1: 0.4667\n"
          ]
        },
        {
          "output_type": "stream",
          "name": "stderr",
          "text": [
            "Epoch 32/100: 100%|██████████| 40/40 [00:05<00:00,  7.08it/s]"
          ]
        },
        {
          "output_type": "stream",
          "name": "stdout",
          "text": [
            "🔧 Epoch 32 Loss: 0.0832\n"
          ]
        },
        {
          "output_type": "stream",
          "name": "stderr",
          "text": [
            "\n"
          ]
        },
        {
          "output_type": "stream",
          "name": "stdout",
          "text": [
            "📊 mIoU: 0.9098\n",
            "📈 mAP: 0.6213, Top-1: 0.5333\n"
          ]
        },
        {
          "output_type": "stream",
          "name": "stderr",
          "text": [
            "Epoch 33/100: 100%|██████████| 40/40 [00:05<00:00,  7.25it/s]"
          ]
        },
        {
          "output_type": "stream",
          "name": "stdout",
          "text": [
            "🔧 Epoch 33 Loss: 0.0692\n"
          ]
        },
        {
          "output_type": "stream",
          "name": "stderr",
          "text": [
            "\n"
          ]
        },
        {
          "output_type": "stream",
          "name": "stdout",
          "text": [
            "📊 mIoU: 0.9102\n",
            "📈 mAP: 0.6055, Top-1: 0.5500\n"
          ]
        },
        {
          "output_type": "stream",
          "name": "stderr",
          "text": [
            "Epoch 34/100: 100%|██████████| 40/40 [00:06<00:00,  5.72it/s]"
          ]
        },
        {
          "output_type": "stream",
          "name": "stdout",
          "text": [
            "🔧 Epoch 34 Loss: 0.0790\n"
          ]
        },
        {
          "output_type": "stream",
          "name": "stderr",
          "text": [
            "\n"
          ]
        },
        {
          "output_type": "stream",
          "name": "stdout",
          "text": [
            "📊 mIoU: 0.9101\n",
            "📈 mAP: 0.6166, Top-1: 0.5500\n"
          ]
        },
        {
          "output_type": "stream",
          "name": "stderr",
          "text": [
            "Epoch 35/100: 100%|██████████| 40/40 [00:06<00:00,  6.08it/s]"
          ]
        },
        {
          "output_type": "stream",
          "name": "stdout",
          "text": [
            "🔧 Epoch 35 Loss: 0.1582\n"
          ]
        },
        {
          "output_type": "stream",
          "name": "stderr",
          "text": [
            "\n"
          ]
        },
        {
          "output_type": "stream",
          "name": "stdout",
          "text": [
            "📊 mIoU: 0.9103\n",
            "📈 mAP: 0.5882, Top-1: 0.4667\n"
          ]
        },
        {
          "output_type": "stream",
          "name": "stderr",
          "text": [
            "Epoch 36/100: 100%|██████████| 40/40 [00:05<00:00,  7.38it/s]"
          ]
        },
        {
          "output_type": "stream",
          "name": "stdout",
          "text": [
            "🔧 Epoch 36 Loss: 0.0525\n"
          ]
        },
        {
          "output_type": "stream",
          "name": "stderr",
          "text": [
            "\n"
          ]
        },
        {
          "output_type": "stream",
          "name": "stdout",
          "text": [
            "📊 mIoU: 0.9102\n",
            "📈 mAP: 0.6203, Top-1: 0.5167\n"
          ]
        },
        {
          "output_type": "stream",
          "name": "stderr",
          "text": [
            "Epoch 37/100: 100%|██████████| 40/40 [00:05<00:00,  6.85it/s]"
          ]
        },
        {
          "output_type": "stream",
          "name": "stdout",
          "text": [
            "🔧 Epoch 37 Loss: 0.0471\n"
          ]
        },
        {
          "output_type": "stream",
          "name": "stderr",
          "text": [
            "\n"
          ]
        },
        {
          "output_type": "stream",
          "name": "stdout",
          "text": [
            "📊 mIoU: 0.9102\n",
            "📈 mAP: 0.6151, Top-1: 0.5333\n"
          ]
        },
        {
          "output_type": "stream",
          "name": "stderr",
          "text": [
            "Epoch 38/100: 100%|██████████| 40/40 [00:06<00:00,  5.90it/s]"
          ]
        },
        {
          "output_type": "stream",
          "name": "stdout",
          "text": [
            "🔧 Epoch 38 Loss: 0.0814\n"
          ]
        },
        {
          "output_type": "stream",
          "name": "stderr",
          "text": [
            "\n"
          ]
        },
        {
          "output_type": "stream",
          "name": "stdout",
          "text": [
            "📊 mIoU: 0.9104\n",
            "📈 mAP: 0.6236, Top-1: 0.4833\n"
          ]
        },
        {
          "output_type": "stream",
          "name": "stderr",
          "text": [
            "Epoch 39/100: 100%|██████████| 40/40 [00:06<00:00,  6.42it/s]"
          ]
        },
        {
          "output_type": "stream",
          "name": "stdout",
          "text": [
            "🔧 Epoch 39 Loss: 0.0612\n"
          ]
        },
        {
          "output_type": "stream",
          "name": "stderr",
          "text": [
            "\n"
          ]
        },
        {
          "output_type": "stream",
          "name": "stdout",
          "text": [
            "📊 mIoU: 0.9106\n",
            "📈 mAP: 0.6322, Top-1: 0.5833\n"
          ]
        },
        {
          "output_type": "stream",
          "name": "stderr",
          "text": [
            "Epoch 40/100: 100%|██████████| 40/40 [00:05<00:00,  6.77it/s]"
          ]
        },
        {
          "output_type": "stream",
          "name": "stdout",
          "text": [
            "🔧 Epoch 40 Loss: 0.0281\n"
          ]
        },
        {
          "output_type": "stream",
          "name": "stderr",
          "text": [
            "\n"
          ]
        },
        {
          "output_type": "stream",
          "name": "stdout",
          "text": [
            "📊 mIoU: 0.9107\n",
            "📈 mAP: 0.6356, Top-1: 0.5667\n"
          ]
        },
        {
          "output_type": "stream",
          "name": "stderr",
          "text": [
            "Epoch 41/100: 100%|██████████| 40/40 [00:05<00:00,  6.91it/s]"
          ]
        },
        {
          "output_type": "stream",
          "name": "stdout",
          "text": [
            "🔧 Epoch 41 Loss: 0.1073\n"
          ]
        },
        {
          "output_type": "stream",
          "name": "stderr",
          "text": [
            "\n"
          ]
        },
        {
          "output_type": "stream",
          "name": "stdout",
          "text": [
            "📊 mIoU: 0.9102\n",
            "📈 mAP: 0.6237, Top-1: 0.4833\n"
          ]
        },
        {
          "output_type": "stream",
          "name": "stderr",
          "text": [
            "Epoch 42/100: 100%|██████████| 40/40 [00:06<00:00,  6.19it/s]"
          ]
        },
        {
          "output_type": "stream",
          "name": "stdout",
          "text": [
            "🔧 Epoch 42 Loss: 0.0924\n"
          ]
        },
        {
          "output_type": "stream",
          "name": "stderr",
          "text": [
            "\n"
          ]
        },
        {
          "output_type": "stream",
          "name": "stdout",
          "text": [
            "📊 mIoU: 0.9099\n",
            "📈 mAP: 0.6444, Top-1: 0.5333\n"
          ]
        },
        {
          "output_type": "stream",
          "name": "stderr",
          "text": [
            "Epoch 43/100: 100%|██████████| 40/40 [00:06<00:00,  5.74it/s]"
          ]
        },
        {
          "output_type": "stream",
          "name": "stdout",
          "text": [
            "🔧 Epoch 43 Loss: 0.0564\n"
          ]
        },
        {
          "output_type": "stream",
          "name": "stderr",
          "text": [
            "\n"
          ]
        },
        {
          "output_type": "stream",
          "name": "stdout",
          "text": [
            "📊 mIoU: 0.9108\n",
            "📈 mAP: 0.6639, Top-1: 0.5667\n"
          ]
        },
        {
          "output_type": "stream",
          "name": "stderr",
          "text": [
            "Epoch 44/100: 100%|██████████| 40/40 [00:05<00:00,  7.13it/s]"
          ]
        },
        {
          "output_type": "stream",
          "name": "stdout",
          "text": [
            "🔧 Epoch 44 Loss: 0.0398\n"
          ]
        },
        {
          "output_type": "stream",
          "name": "stderr",
          "text": [
            "\n"
          ]
        },
        {
          "output_type": "stream",
          "name": "stdout",
          "text": [
            "📊 mIoU: 0.9111\n",
            "📈 mAP: 0.6597, Top-1: 0.5667\n"
          ]
        },
        {
          "output_type": "stream",
          "name": "stderr",
          "text": [
            "Epoch 45/100: 100%|██████████| 40/40 [00:05<00:00,  7.47it/s]"
          ]
        },
        {
          "output_type": "stream",
          "name": "stdout",
          "text": [
            "🔧 Epoch 45 Loss: 0.0633\n"
          ]
        },
        {
          "output_type": "stream",
          "name": "stderr",
          "text": [
            "\n"
          ]
        },
        {
          "output_type": "stream",
          "name": "stdout",
          "text": [
            "📊 mIoU: 0.9113\n",
            "📈 mAP: 0.6285, Top-1: 0.5500\n"
          ]
        },
        {
          "output_type": "stream",
          "name": "stderr",
          "text": [
            "Epoch 46/100: 100%|██████████| 40/40 [00:06<00:00,  5.75it/s]"
          ]
        },
        {
          "output_type": "stream",
          "name": "stdout",
          "text": [
            "🔧 Epoch 46 Loss: 0.0430\n"
          ]
        },
        {
          "output_type": "stream",
          "name": "stderr",
          "text": [
            "\n"
          ]
        },
        {
          "output_type": "stream",
          "name": "stdout",
          "text": [
            "📊 mIoU: 0.9121\n",
            "📈 mAP: 0.6464, Top-1: 0.6167\n"
          ]
        },
        {
          "output_type": "stream",
          "name": "stderr",
          "text": [
            "Epoch 47/100: 100%|██████████| 40/40 [00:06<00:00,  6.03it/s]"
          ]
        },
        {
          "output_type": "stream",
          "name": "stdout",
          "text": [
            "🔧 Epoch 47 Loss: 0.0423\n"
          ]
        },
        {
          "output_type": "stream",
          "name": "stderr",
          "text": [
            "\n"
          ]
        },
        {
          "output_type": "stream",
          "name": "stdout",
          "text": [
            "📊 mIoU: 0.9117\n",
            "📈 mAP: 0.6082, Top-1: 0.4667\n"
          ]
        },
        {
          "output_type": "stream",
          "name": "stderr",
          "text": [
            "Epoch 48/100: 100%|██████████| 40/40 [00:05<00:00,  7.22it/s]"
          ]
        },
        {
          "output_type": "stream",
          "name": "stdout",
          "text": [
            "🔧 Epoch 48 Loss: 0.1883\n"
          ]
        },
        {
          "output_type": "stream",
          "name": "stderr",
          "text": [
            "\n"
          ]
        },
        {
          "output_type": "stream",
          "name": "stdout",
          "text": [
            "📊 mIoU: 0.9116\n",
            "📈 mAP: 0.6036, Top-1: 0.5167\n"
          ]
        },
        {
          "output_type": "stream",
          "name": "stderr",
          "text": [
            "Epoch 49/100: 100%|██████████| 40/40 [00:05<00:00,  6.85it/s]"
          ]
        },
        {
          "output_type": "stream",
          "name": "stdout",
          "text": [
            "🔧 Epoch 49 Loss: 0.1727\n"
          ]
        },
        {
          "output_type": "stream",
          "name": "stderr",
          "text": [
            "\n"
          ]
        },
        {
          "output_type": "stream",
          "name": "stdout",
          "text": [
            "📊 mIoU: 0.9110\n",
            "📈 mAP: 0.5732, Top-1: 0.4833\n"
          ]
        },
        {
          "output_type": "stream",
          "name": "stderr",
          "text": [
            "Epoch 50/100: 100%|██████████| 40/40 [00:06<00:00,  6.59it/s]"
          ]
        },
        {
          "output_type": "stream",
          "name": "stdout",
          "text": [
            "🔧 Epoch 50 Loss: 0.1235\n"
          ]
        },
        {
          "output_type": "stream",
          "name": "stderr",
          "text": [
            "\n"
          ]
        },
        {
          "output_type": "stream",
          "name": "stdout",
          "text": [
            "📊 mIoU: 0.9108\n",
            "📈 mAP: 0.6251, Top-1: 0.5333\n"
          ]
        },
        {
          "output_type": "stream",
          "name": "stderr",
          "text": [
            "Epoch 51/100: 100%|██████████| 40/40 [00:06<00:00,  5.96it/s]"
          ]
        },
        {
          "output_type": "stream",
          "name": "stdout",
          "text": [
            "🔧 Epoch 51 Loss: 0.0551\n"
          ]
        },
        {
          "output_type": "stream",
          "name": "stderr",
          "text": [
            "\n"
          ]
        },
        {
          "output_type": "stream",
          "name": "stdout",
          "text": [
            "📊 mIoU: 0.9102\n",
            "📈 mAP: 0.6600, Top-1: 0.5333\n"
          ]
        },
        {
          "output_type": "stream",
          "name": "stderr",
          "text": [
            "Epoch 52/100: 100%|██████████| 40/40 [00:06<00:00,  6.08it/s]"
          ]
        },
        {
          "output_type": "stream",
          "name": "stdout",
          "text": [
            "🔧 Epoch 52 Loss: 0.0513\n"
          ]
        },
        {
          "output_type": "stream",
          "name": "stderr",
          "text": [
            "\n"
          ]
        },
        {
          "output_type": "stream",
          "name": "stdout",
          "text": [
            "📊 mIoU: 0.9106\n",
            "📈 mAP: 0.6354, Top-1: 0.5333\n"
          ]
        },
        {
          "output_type": "stream",
          "name": "stderr",
          "text": [
            "Epoch 53/100: 100%|██████████| 40/40 [00:05<00:00,  6.87it/s]"
          ]
        },
        {
          "output_type": "stream",
          "name": "stdout",
          "text": [
            "🔧 Epoch 53 Loss: 0.0212\n"
          ]
        },
        {
          "output_type": "stream",
          "name": "stderr",
          "text": [
            "\n"
          ]
        },
        {
          "output_type": "stream",
          "name": "stdout",
          "text": [
            "📊 mIoU: 0.9110\n",
            "📈 mAP: 0.6419, Top-1: 0.5500\n"
          ]
        },
        {
          "output_type": "stream",
          "name": "stderr",
          "text": [
            "Epoch 54/100: 100%|██████████| 40/40 [00:05<00:00,  7.22it/s]"
          ]
        },
        {
          "output_type": "stream",
          "name": "stdout",
          "text": [
            "🔧 Epoch 54 Loss: 0.0270\n"
          ]
        },
        {
          "output_type": "stream",
          "name": "stderr",
          "text": [
            "\n"
          ]
        },
        {
          "output_type": "stream",
          "name": "stdout",
          "text": [
            "📊 mIoU: 0.9105\n",
            "📈 mAP: 0.6545, Top-1: 0.6000\n"
          ]
        },
        {
          "output_type": "stream",
          "name": "stderr",
          "text": [
            "Epoch 55/100: 100%|██████████| 40/40 [00:06<00:00,  5.73it/s]"
          ]
        },
        {
          "output_type": "stream",
          "name": "stdout",
          "text": [
            "🔧 Epoch 55 Loss: 0.0441\n"
          ]
        },
        {
          "output_type": "stream",
          "name": "stderr",
          "text": [
            "\n"
          ]
        },
        {
          "output_type": "stream",
          "name": "stdout",
          "text": [
            "📊 mIoU: 0.9108\n",
            "📈 mAP: 0.6392, Top-1: 0.5833\n"
          ]
        },
        {
          "output_type": "stream",
          "name": "stderr",
          "text": [
            "Epoch 56/100: 100%|██████████| 40/40 [00:06<00:00,  6.23it/s]"
          ]
        },
        {
          "output_type": "stream",
          "name": "stdout",
          "text": [
            "🔧 Epoch 56 Loss: 0.0768\n"
          ]
        },
        {
          "output_type": "stream",
          "name": "stderr",
          "text": [
            "\n"
          ]
        },
        {
          "output_type": "stream",
          "name": "stdout",
          "text": [
            "📊 mIoU: 0.9108\n",
            "📈 mAP: 0.6133, Top-1: 0.5833\n"
          ]
        },
        {
          "output_type": "stream",
          "name": "stderr",
          "text": [
            "Epoch 57/100: 100%|██████████| 40/40 [00:05<00:00,  7.18it/s]"
          ]
        },
        {
          "output_type": "stream",
          "name": "stdout",
          "text": [
            "🔧 Epoch 57 Loss: 0.0140\n"
          ]
        },
        {
          "output_type": "stream",
          "name": "stderr",
          "text": [
            "\n"
          ]
        },
        {
          "output_type": "stream",
          "name": "stdout",
          "text": [
            "📊 mIoU: 0.9109\n",
            "📈 mAP: 0.6222, Top-1: 0.5500\n"
          ]
        },
        {
          "output_type": "stream",
          "name": "stderr",
          "text": [
            "Epoch 58/100: 100%|██████████| 40/40 [00:06<00:00,  6.51it/s]"
          ]
        },
        {
          "output_type": "stream",
          "name": "stdout",
          "text": [
            "🔧 Epoch 58 Loss: 0.0174\n"
          ]
        },
        {
          "output_type": "stream",
          "name": "stderr",
          "text": [
            "\n"
          ]
        },
        {
          "output_type": "stream",
          "name": "stdout",
          "text": [
            "📊 mIoU: 0.9109\n",
            "📈 mAP: 0.6216, Top-1: 0.6000\n"
          ]
        },
        {
          "output_type": "stream",
          "name": "stderr",
          "text": [
            "Epoch 59/100: 100%|██████████| 40/40 [00:06<00:00,  5.81it/s]"
          ]
        },
        {
          "output_type": "stream",
          "name": "stdout",
          "text": [
            "🔧 Epoch 59 Loss: 0.0771\n"
          ]
        },
        {
          "output_type": "stream",
          "name": "stderr",
          "text": [
            "\n"
          ]
        },
        {
          "output_type": "stream",
          "name": "stdout",
          "text": [
            "📊 mIoU: 0.9114\n",
            "📈 mAP: 0.5854, Top-1: 0.5333\n"
          ]
        },
        {
          "output_type": "stream",
          "name": "stderr",
          "text": [
            "Epoch 60/100: 100%|██████████| 40/40 [00:06<00:00,  6.11it/s]"
          ]
        },
        {
          "output_type": "stream",
          "name": "stdout",
          "text": [
            "🔧 Epoch 60 Loss: 0.0330\n"
          ]
        },
        {
          "output_type": "stream",
          "name": "stderr",
          "text": [
            "\n"
          ]
        },
        {
          "output_type": "stream",
          "name": "stdout",
          "text": [
            "📊 mIoU: 0.9111\n",
            "📈 mAP: 0.6161, Top-1: 0.5667\n"
          ]
        },
        {
          "output_type": "stream",
          "name": "stderr",
          "text": [
            "Epoch 61/100: 100%|██████████| 40/40 [00:05<00:00,  6.74it/s]"
          ]
        },
        {
          "output_type": "stream",
          "name": "stdout",
          "text": [
            "🔧 Epoch 61 Loss: 0.0150\n"
          ]
        },
        {
          "output_type": "stream",
          "name": "stderr",
          "text": [
            "\n"
          ]
        },
        {
          "output_type": "stream",
          "name": "stdout",
          "text": [
            "📊 mIoU: 0.9113\n",
            "📈 mAP: 0.6498, Top-1: 0.5667\n"
          ]
        },
        {
          "output_type": "stream",
          "name": "stderr",
          "text": [
            "Epoch 62/100: 100%|██████████| 40/40 [00:05<00:00,  6.94it/s]"
          ]
        },
        {
          "output_type": "stream",
          "name": "stdout",
          "text": [
            "🔧 Epoch 62 Loss: 0.0193\n"
          ]
        },
        {
          "output_type": "stream",
          "name": "stderr",
          "text": [
            "\n"
          ]
        },
        {
          "output_type": "stream",
          "name": "stdout",
          "text": [
            "📊 mIoU: 0.9118\n",
            "📈 mAP: 0.6296, Top-1: 0.6000\n"
          ]
        },
        {
          "output_type": "stream",
          "name": "stderr",
          "text": [
            "Epoch 63/100: 100%|██████████| 40/40 [00:06<00:00,  6.09it/s]"
          ]
        },
        {
          "output_type": "stream",
          "name": "stdout",
          "text": [
            "🔧 Epoch 63 Loss: 0.0105\n"
          ]
        },
        {
          "output_type": "stream",
          "name": "stderr",
          "text": [
            "\n"
          ]
        },
        {
          "output_type": "stream",
          "name": "stdout",
          "text": [
            "📊 mIoU: 0.9119\n",
            "📈 mAP: 0.6335, Top-1: 0.5833\n"
          ]
        },
        {
          "output_type": "stream",
          "name": "stderr",
          "text": [
            "Epoch 64/100: 100%|██████████| 40/40 [00:07<00:00,  5.50it/s]"
          ]
        },
        {
          "output_type": "stream",
          "name": "stdout",
          "text": [
            "🔧 Epoch 64 Loss: 0.0115\n"
          ]
        },
        {
          "output_type": "stream",
          "name": "stderr",
          "text": [
            "\n"
          ]
        },
        {
          "output_type": "stream",
          "name": "stdout",
          "text": [
            "📊 mIoU: 0.9122\n",
            "📈 mAP: 0.6534, Top-1: 0.5833\n"
          ]
        },
        {
          "output_type": "stream",
          "name": "stderr",
          "text": [
            "Epoch 65/100: 100%|██████████| 40/40 [00:06<00:00,  6.63it/s]"
          ]
        },
        {
          "output_type": "stream",
          "name": "stdout",
          "text": [
            "🔧 Epoch 65 Loss: 0.0085\n"
          ]
        },
        {
          "output_type": "stream",
          "name": "stderr",
          "text": [
            "\n"
          ]
        },
        {
          "output_type": "stream",
          "name": "stdout",
          "text": [
            "📊 mIoU: 0.9124\n",
            "📈 mAP: 0.6571, Top-1: 0.6000\n"
          ]
        },
        {
          "output_type": "stream",
          "name": "stderr",
          "text": [
            "Epoch 66/100: 100%|██████████| 40/40 [00:05<00:00,  7.10it/s]"
          ]
        },
        {
          "output_type": "stream",
          "name": "stdout",
          "text": [
            "🔧 Epoch 66 Loss: 0.0128\n"
          ]
        },
        {
          "output_type": "stream",
          "name": "stderr",
          "text": [
            "\n"
          ]
        },
        {
          "output_type": "stream",
          "name": "stdout",
          "text": [
            "📊 mIoU: 0.9119\n",
            "📈 mAP: 0.6454, Top-1: 0.5667\n"
          ]
        },
        {
          "output_type": "stream",
          "name": "stderr",
          "text": [
            "Epoch 67/100: 100%|██████████| 40/40 [00:06<00:00,  6.38it/s]"
          ]
        },
        {
          "output_type": "stream",
          "name": "stdout",
          "text": [
            "🔧 Epoch 67 Loss: 0.0103\n"
          ]
        },
        {
          "output_type": "stream",
          "name": "stderr",
          "text": [
            "\n"
          ]
        },
        {
          "output_type": "stream",
          "name": "stdout",
          "text": [
            "📊 mIoU: 0.9120\n",
            "📈 mAP: 0.6609, Top-1: 0.6000\n"
          ]
        },
        {
          "output_type": "stream",
          "name": "stderr",
          "text": [
            "Epoch 68/100: 100%|██████████| 40/40 [00:06<00:00,  5.85it/s]"
          ]
        },
        {
          "output_type": "stream",
          "name": "stdout",
          "text": [
            "🔧 Epoch 68 Loss: 0.0060\n"
          ]
        },
        {
          "output_type": "stream",
          "name": "stderr",
          "text": [
            "\n"
          ]
        },
        {
          "output_type": "stream",
          "name": "stdout",
          "text": [
            "📊 mIoU: 0.9119\n",
            "📈 mAP: 0.6611, Top-1: 0.5833\n"
          ]
        },
        {
          "output_type": "stream",
          "name": "stderr",
          "text": [
            "Epoch 69/100: 100%|██████████| 40/40 [00:06<00:00,  6.52it/s]"
          ]
        },
        {
          "output_type": "stream",
          "name": "stdout",
          "text": [
            "🔧 Epoch 69 Loss: 0.0108\n"
          ]
        },
        {
          "output_type": "stream",
          "name": "stderr",
          "text": [
            "\n"
          ]
        },
        {
          "output_type": "stream",
          "name": "stdout",
          "text": [
            "📊 mIoU: 0.9122\n",
            "📈 mAP: 0.6246, Top-1: 0.5167\n"
          ]
        },
        {
          "output_type": "stream",
          "name": "stderr",
          "text": [
            "Epoch 70/100: 100%|██████████| 40/40 [00:06<00:00,  6.66it/s]"
          ]
        },
        {
          "output_type": "stream",
          "name": "stdout",
          "text": [
            "🔧 Epoch 70 Loss: 0.0185\n"
          ]
        },
        {
          "output_type": "stream",
          "name": "stderr",
          "text": [
            "\n"
          ]
        },
        {
          "output_type": "stream",
          "name": "stdout",
          "text": [
            "📊 mIoU: 0.9124\n",
            "📈 mAP: 0.6399, Top-1: 0.5833\n"
          ]
        },
        {
          "output_type": "stream",
          "name": "stderr",
          "text": [
            "Epoch 71/100: 100%|██████████| 40/40 [00:05<00:00,  6.87it/s]"
          ]
        },
        {
          "output_type": "stream",
          "name": "stdout",
          "text": [
            "🔧 Epoch 71 Loss: 0.0141\n"
          ]
        },
        {
          "output_type": "stream",
          "name": "stderr",
          "text": [
            "\n"
          ]
        },
        {
          "output_type": "stream",
          "name": "stdout",
          "text": [
            "📊 mIoU: 0.9121\n",
            "📈 mAP: 0.6431, Top-1: 0.5500\n"
          ]
        },
        {
          "output_type": "stream",
          "name": "stderr",
          "text": [
            "Epoch 72/100: 100%|██████████| 40/40 [00:06<00:00,  5.92it/s]"
          ]
        },
        {
          "output_type": "stream",
          "name": "stdout",
          "text": [
            "🔧 Epoch 72 Loss: 0.0079\n"
          ]
        },
        {
          "output_type": "stream",
          "name": "stderr",
          "text": [
            "\n"
          ]
        },
        {
          "output_type": "stream",
          "name": "stdout",
          "text": [
            "📊 mIoU: 0.9117\n",
            "📈 mAP: 0.6429, Top-1: 0.6000\n"
          ]
        },
        {
          "output_type": "stream",
          "name": "stderr",
          "text": [
            "Epoch 73/100: 100%|██████████| 40/40 [00:07<00:00,  5.60it/s]"
          ]
        },
        {
          "output_type": "stream",
          "name": "stdout",
          "text": [
            "🔧 Epoch 73 Loss: 0.0084\n"
          ]
        },
        {
          "output_type": "stream",
          "name": "stderr",
          "text": [
            "\n"
          ]
        },
        {
          "output_type": "stream",
          "name": "stdout",
          "text": [
            "📊 mIoU: 0.9115\n",
            "📈 mAP: 0.6585, Top-1: 0.5500\n"
          ]
        },
        {
          "output_type": "stream",
          "name": "stderr",
          "text": [
            "Epoch 74/100: 100%|██████████| 40/40 [00:05<00:00,  6.96it/s]"
          ]
        },
        {
          "output_type": "stream",
          "name": "stdout",
          "text": [
            "🔧 Epoch 74 Loss: 0.0079\n"
          ]
        },
        {
          "output_type": "stream",
          "name": "stderr",
          "text": [
            "\n"
          ]
        },
        {
          "output_type": "stream",
          "name": "stdout",
          "text": [
            "📊 mIoU: 0.9120\n",
            "📈 mAP: 0.6620, Top-1: 0.6000\n"
          ]
        },
        {
          "output_type": "stream",
          "name": "stderr",
          "text": [
            "Epoch 75/100: 100%|██████████| 40/40 [00:05<00:00,  7.18it/s]"
          ]
        },
        {
          "output_type": "stream",
          "name": "stdout",
          "text": [
            "🔧 Epoch 75 Loss: 0.0180\n"
          ]
        },
        {
          "output_type": "stream",
          "name": "stderr",
          "text": [
            "\n"
          ]
        },
        {
          "output_type": "stream",
          "name": "stdout",
          "text": [
            "📊 mIoU: 0.9124\n",
            "📈 mAP: 0.6676, Top-1: 0.5333\n"
          ]
        },
        {
          "output_type": "stream",
          "name": "stderr",
          "text": [
            "Epoch 76/100: 100%|██████████| 40/40 [00:06<00:00,  5.88it/s]"
          ]
        },
        {
          "output_type": "stream",
          "name": "stdout",
          "text": [
            "🔧 Epoch 76 Loss: 0.0098\n"
          ]
        },
        {
          "output_type": "stream",
          "name": "stderr",
          "text": [
            "\n"
          ]
        },
        {
          "output_type": "stream",
          "name": "stdout",
          "text": [
            "📊 mIoU: 0.9123\n",
            "📈 mAP: 0.6959, Top-1: 0.6000\n"
          ]
        },
        {
          "output_type": "stream",
          "name": "stderr",
          "text": [
            "Epoch 77/100: 100%|██████████| 40/40 [00:06<00:00,  5.88it/s]\n"
          ]
        },
        {
          "output_type": "stream",
          "name": "stdout",
          "text": [
            "🔧 Epoch 77 Loss: 0.0084\n",
            "📊 mIoU: 0.9123\n",
            "📈 mAP: 0.6815, Top-1: 0.5833\n"
          ]
        },
        {
          "output_type": "stream",
          "name": "stderr",
          "text": [
            "Epoch 78/100: 100%|██████████| 40/40 [00:05<00:00,  7.11it/s]"
          ]
        },
        {
          "output_type": "stream",
          "name": "stdout",
          "text": [
            "🔧 Epoch 78 Loss: 0.0066\n"
          ]
        },
        {
          "output_type": "stream",
          "name": "stderr",
          "text": [
            "\n"
          ]
        },
        {
          "output_type": "stream",
          "name": "stdout",
          "text": [
            "📊 mIoU: 0.9125\n",
            "📈 mAP: 0.6615, Top-1: 0.5833\n"
          ]
        },
        {
          "output_type": "stream",
          "name": "stderr",
          "text": [
            "Epoch 79/100: 100%|██████████| 40/40 [00:06<00:00,  6.58it/s]"
          ]
        },
        {
          "output_type": "stream",
          "name": "stdout",
          "text": [
            "🔧 Epoch 79 Loss: 0.0072\n"
          ]
        },
        {
          "output_type": "stream",
          "name": "stderr",
          "text": [
            "\n"
          ]
        },
        {
          "output_type": "stream",
          "name": "stdout",
          "text": [
            "📊 mIoU: 0.9126\n",
            "📈 mAP: 0.6717, Top-1: 0.5667\n"
          ]
        },
        {
          "output_type": "stream",
          "name": "stderr",
          "text": [
            "Epoch 80/100: 100%|██████████| 40/40 [00:06<00:00,  6.59it/s]\n"
          ]
        },
        {
          "output_type": "stream",
          "name": "stdout",
          "text": [
            "🔧 Epoch 80 Loss: 0.0134\n",
            "📊 mIoU: 0.9130\n",
            "📈 mAP: 0.6598, Top-1: 0.5833\n"
          ]
        },
        {
          "output_type": "stream",
          "name": "stderr",
          "text": [
            "Epoch 81/100: 100%|██████████| 40/40 [00:06<00:00,  5.97it/s]"
          ]
        },
        {
          "output_type": "stream",
          "name": "stdout",
          "text": [
            "🔧 Epoch 81 Loss: 0.0266\n"
          ]
        },
        {
          "output_type": "stream",
          "name": "stderr",
          "text": [
            "\n"
          ]
        },
        {
          "output_type": "stream",
          "name": "stdout",
          "text": [
            "📊 mIoU: 0.9126\n",
            "📈 mAP: 0.6508, Top-1: 0.5167\n"
          ]
        },
        {
          "output_type": "stream",
          "name": "stderr",
          "text": [
            "Epoch 82/100: 100%|██████████| 40/40 [00:07<00:00,  5.55it/s]"
          ]
        },
        {
          "output_type": "stream",
          "name": "stdout",
          "text": [
            "🔧 Epoch 82 Loss: 0.0217\n"
          ]
        },
        {
          "output_type": "stream",
          "name": "stderr",
          "text": [
            "\n"
          ]
        },
        {
          "output_type": "stream",
          "name": "stdout",
          "text": [
            "📊 mIoU: 0.9127\n",
            "📈 mAP: 0.6425, Top-1: 0.5333\n"
          ]
        },
        {
          "output_type": "stream",
          "name": "stderr",
          "text": [
            "Epoch 83/100: 100%|██████████| 40/40 [00:05<00:00,  6.91it/s]"
          ]
        },
        {
          "output_type": "stream",
          "name": "stdout",
          "text": [
            "🔧 Epoch 83 Loss: 0.0331\n"
          ]
        },
        {
          "output_type": "stream",
          "name": "stderr",
          "text": [
            "\n"
          ]
        },
        {
          "output_type": "stream",
          "name": "stdout",
          "text": [
            "📊 mIoU: 0.9123\n",
            "📈 mAP: 0.6529, Top-1: 0.5000\n"
          ]
        },
        {
          "output_type": "stream",
          "name": "stderr",
          "text": [
            "Epoch 84/100: 100%|██████████| 40/40 [00:05<00:00,  7.39it/s]"
          ]
        },
        {
          "output_type": "stream",
          "name": "stdout",
          "text": [
            "🔧 Epoch 84 Loss: 0.0582\n"
          ]
        },
        {
          "output_type": "stream",
          "name": "stderr",
          "text": [
            "\n"
          ]
        },
        {
          "output_type": "stream",
          "name": "stdout",
          "text": [
            "📊 mIoU: 0.9111\n",
            "📈 mAP: 0.6522, Top-1: 0.5500\n"
          ]
        },
        {
          "output_type": "stream",
          "name": "stderr",
          "text": [
            "Epoch 85/100: 100%|██████████| 40/40 [00:07<00:00,  5.65it/s]"
          ]
        },
        {
          "output_type": "stream",
          "name": "stdout",
          "text": [
            "🔧 Epoch 85 Loss: 0.0393\n"
          ]
        },
        {
          "output_type": "stream",
          "name": "stderr",
          "text": [
            "\n"
          ]
        },
        {
          "output_type": "stream",
          "name": "stdout",
          "text": [
            "📊 mIoU: 0.9112\n",
            "📈 mAP: 0.6368, Top-1: 0.5333\n"
          ]
        },
        {
          "output_type": "stream",
          "name": "stderr",
          "text": [
            "Epoch 86/100: 100%|██████████| 40/40 [00:06<00:00,  5.86it/s]"
          ]
        },
        {
          "output_type": "stream",
          "name": "stdout",
          "text": [
            "🔧 Epoch 86 Loss: 0.0644\n"
          ]
        },
        {
          "output_type": "stream",
          "name": "stderr",
          "text": [
            "\n"
          ]
        },
        {
          "output_type": "stream",
          "name": "stdout",
          "text": [
            "📊 mIoU: 0.9111\n",
            "📈 mAP: 0.6109, Top-1: 0.5000\n"
          ]
        },
        {
          "output_type": "stream",
          "name": "stderr",
          "text": [
            "Epoch 87/100: 100%|██████████| 40/40 [00:05<00:00,  7.28it/s]"
          ]
        },
        {
          "output_type": "stream",
          "name": "stdout",
          "text": [
            "🔧 Epoch 87 Loss: 0.0727\n"
          ]
        },
        {
          "output_type": "stream",
          "name": "stderr",
          "text": [
            "\n"
          ]
        },
        {
          "output_type": "stream",
          "name": "stdout",
          "text": [
            "📊 mIoU: 0.9109\n",
            "📈 mAP: 0.5998, Top-1: 0.5333\n"
          ]
        },
        {
          "output_type": "stream",
          "name": "stderr",
          "text": [
            "Epoch 88/100: 100%|██████████| 40/40 [00:05<00:00,  6.72it/s]"
          ]
        },
        {
          "output_type": "stream",
          "name": "stdout",
          "text": [
            "🔧 Epoch 88 Loss: 0.0151\n"
          ]
        },
        {
          "output_type": "stream",
          "name": "stderr",
          "text": [
            "\n"
          ]
        },
        {
          "output_type": "stream",
          "name": "stdout",
          "text": [
            "📊 mIoU: 0.9112\n",
            "📈 mAP: 0.5929, Top-1: 0.5333\n"
          ]
        },
        {
          "output_type": "stream",
          "name": "stderr",
          "text": [
            "Epoch 89/100: 100%|██████████| 40/40 [00:06<00:00,  6.55it/s]"
          ]
        },
        {
          "output_type": "stream",
          "name": "stdout",
          "text": [
            "🔧 Epoch 89 Loss: 0.0157\n"
          ]
        },
        {
          "output_type": "stream",
          "name": "stderr",
          "text": [
            "\n"
          ]
        },
        {
          "output_type": "stream",
          "name": "stdout",
          "text": [
            "📊 mIoU: 0.9119\n",
            "📈 mAP: 0.6282, Top-1: 0.5667\n"
          ]
        },
        {
          "output_type": "stream",
          "name": "stderr",
          "text": [
            "Epoch 90/100: 100%|██████████| 40/40 [00:06<00:00,  6.09it/s]"
          ]
        },
        {
          "output_type": "stream",
          "name": "stdout",
          "text": [
            "🔧 Epoch 90 Loss: 0.0547\n"
          ]
        },
        {
          "output_type": "stream",
          "name": "stderr",
          "text": [
            "\n"
          ]
        },
        {
          "output_type": "stream",
          "name": "stdout",
          "text": [
            "📊 mIoU: 0.9111\n",
            "📈 mAP: 0.6097, Top-1: 0.5000\n"
          ]
        },
        {
          "output_type": "stream",
          "name": "stderr",
          "text": [
            "Epoch 91/100: 100%|██████████| 40/40 [00:07<00:00,  5.63it/s]"
          ]
        },
        {
          "output_type": "stream",
          "name": "stdout",
          "text": [
            "🔧 Epoch 91 Loss: 0.0137\n"
          ]
        },
        {
          "output_type": "stream",
          "name": "stderr",
          "text": [
            "\n"
          ]
        },
        {
          "output_type": "stream",
          "name": "stdout",
          "text": [
            "📊 mIoU: 0.9117\n",
            "📈 mAP: 0.6854, Top-1: 0.5333\n"
          ]
        },
        {
          "output_type": "stream",
          "name": "stderr",
          "text": [
            "Epoch 92/100: 100%|██████████| 40/40 [00:05<00:00,  6.79it/s]"
          ]
        },
        {
          "output_type": "stream",
          "name": "stdout",
          "text": [
            "🔧 Epoch 92 Loss: 0.0603\n"
          ]
        },
        {
          "output_type": "stream",
          "name": "stderr",
          "text": [
            "\n"
          ]
        },
        {
          "output_type": "stream",
          "name": "stdout",
          "text": [
            "📊 mIoU: 0.9119\n",
            "📈 mAP: 0.7013, Top-1: 0.5833\n"
          ]
        },
        {
          "output_type": "stream",
          "name": "stderr",
          "text": [
            "Epoch 93/100: 100%|██████████| 40/40 [00:05<00:00,  7.36it/s]"
          ]
        },
        {
          "output_type": "stream",
          "name": "stdout",
          "text": [
            "🔧 Epoch 93 Loss: 0.0504\n"
          ]
        },
        {
          "output_type": "stream",
          "name": "stderr",
          "text": [
            "\n"
          ]
        },
        {
          "output_type": "stream",
          "name": "stdout",
          "text": [
            "📊 mIoU: 0.9114\n",
            "📈 mAP: 0.6731, Top-1: 0.5000\n"
          ]
        },
        {
          "output_type": "stream",
          "name": "stderr",
          "text": [
            "Epoch 94/100: 100%|██████████| 40/40 [00:07<00:00,  5.62it/s]"
          ]
        },
        {
          "output_type": "stream",
          "name": "stdout",
          "text": [
            "🔧 Epoch 94 Loss: 0.0176\n"
          ]
        },
        {
          "output_type": "stream",
          "name": "stderr",
          "text": [
            "\n"
          ]
        },
        {
          "output_type": "stream",
          "name": "stdout",
          "text": [
            "📊 mIoU: 0.9111\n",
            "📈 mAP: 0.6353, Top-1: 0.5500\n"
          ]
        },
        {
          "output_type": "stream",
          "name": "stderr",
          "text": [
            "Epoch 95/100: 100%|██████████| 40/40 [00:06<00:00,  5.94it/s]\n"
          ]
        },
        {
          "output_type": "stream",
          "name": "stdout",
          "text": [
            "🔧 Epoch 95 Loss: 0.0069\n",
            "📊 mIoU: 0.9112\n",
            "📈 mAP: 0.6905, Top-1: 0.6000\n"
          ]
        },
        {
          "output_type": "stream",
          "name": "stderr",
          "text": [
            "Epoch 96/100: 100%|██████████| 40/40 [00:05<00:00,  7.34it/s]"
          ]
        },
        {
          "output_type": "stream",
          "name": "stdout",
          "text": [
            "🔧 Epoch 96 Loss: 0.0120\n"
          ]
        },
        {
          "output_type": "stream",
          "name": "stderr",
          "text": [
            "\n"
          ]
        },
        {
          "output_type": "stream",
          "name": "stdout",
          "text": [
            "📊 mIoU: 0.9115\n",
            "📈 mAP: 0.6751, Top-1: 0.6333\n"
          ]
        },
        {
          "output_type": "stream",
          "name": "stderr",
          "text": [
            "Epoch 97/100: 100%|██████████| 40/40 [00:06<00:00,  6.42it/s]"
          ]
        },
        {
          "output_type": "stream",
          "name": "stdout",
          "text": [
            "🔧 Epoch 97 Loss: 0.0083\n"
          ]
        },
        {
          "output_type": "stream",
          "name": "stderr",
          "text": [
            "\n"
          ]
        },
        {
          "output_type": "stream",
          "name": "stdout",
          "text": [
            "📊 mIoU: 0.9119\n",
            "📈 mAP: 0.6757, Top-1: 0.6000\n"
          ]
        },
        {
          "output_type": "stream",
          "name": "stderr",
          "text": [
            "Epoch 98/100: 100%|██████████| 40/40 [00:07<00:00,  5.32it/s]"
          ]
        },
        {
          "output_type": "stream",
          "name": "stdout",
          "text": [
            "🔧 Epoch 98 Loss: 0.0348\n"
          ]
        },
        {
          "output_type": "stream",
          "name": "stderr",
          "text": [
            "\n"
          ]
        },
        {
          "output_type": "stream",
          "name": "stdout",
          "text": [
            "📊 mIoU: 0.9115\n",
            "📈 mAP: 0.6292, Top-1: 0.5500\n"
          ]
        },
        {
          "output_type": "stream",
          "name": "stderr",
          "text": [
            "Epoch 99/100: 100%|██████████| 40/40 [00:06<00:00,  6.01it/s]"
          ]
        },
        {
          "output_type": "stream",
          "name": "stdout",
          "text": [
            "🔧 Epoch 99 Loss: 0.0213\n"
          ]
        },
        {
          "output_type": "stream",
          "name": "stderr",
          "text": [
            "\n"
          ]
        },
        {
          "output_type": "stream",
          "name": "stdout",
          "text": [
            "📊 mIoU: 0.9111\n",
            "📈 mAP: 0.6696, Top-1: 0.6167\n"
          ]
        },
        {
          "output_type": "stream",
          "name": "stderr",
          "text": [
            "Epoch 100/100: 100%|██████████| 40/40 [00:07<00:00,  5.52it/s]"
          ]
        },
        {
          "output_type": "stream",
          "name": "stdout",
          "text": [
            "🔧 Epoch 100 Loss: 0.0199\n"
          ]
        },
        {
          "output_type": "stream",
          "name": "stderr",
          "text": [
            "\n"
          ]
        },
        {
          "output_type": "stream",
          "name": "stdout",
          "text": [
            "📊 mIoU: 0.9113\n",
            "📈 mAP: 0.6981, Top-1: 0.6667\n",
            "\n",
            "============================================================\n",
            "📋 **實驗總結 (有經驗回放)**\n",
            "============================================================\n",
            "✅ 模型參數數量：1,605,602 個 (< 8M)\n",
            "✅ 單張推論時間：6.79 ms (≤ 150 ms)\n",
            "✅ 總訓練時間：2738.85 秒 (≤ 2 小時)\n",
            "\n",
            "--- 基準性能 ---\n",
            "📊 mIoU Baseline: 0.9203\n",
            "📈 mAP Baseline:  0.1466\n",
            "📈 Top-1 Baseline: 0.0833\n",
            "\n",
            "--- 最終性能下降 ---\n",
            "📉 mIoU Drop: 0.0090\n",
            "📉 mAP Drop:  0.0000\n",
            "📉 Top-1 Drop: 0.0000\n",
            "\n",
            "--- 是否符合要求 ---\n",
            "mIoU (≥ 0.8743): ✅ 符合\n",
            "mAP (≥ 0.1393):  ✅ 符合\n",
            "Top-1 (≥ 0.0792): ✅ 符合\n",
            "============================================================\n",
            "\n",
            "💾 正在儲存模型權重至 your_model_with_replay.pt...\n",
            "✅ 模型儲存完成！\n"
          ]
        }
      ]
    },
    {
      "cell_type": "code",
      "source": [
        "# Cell 2: 呼叫繪圖函式\n",
        "# 確認 replay_history 變數存在且有內容後，才進行繪圖\n",
        "if 'replay_history' in locals() and replay_history is not None:\n",
        "    print(\"找到實驗結果，正在開始繪圖...\")\n",
        "    plot_training_results(replay_history, experiment_name=\"With Experience Replay\")\n",
        "else:\n",
        "    print(\"❌ 未找到有效的實驗結果 (replay_history)，請先完整執行上一個 Cell 的實驗。\")"
      ],
      "metadata": {
        "colab": {
          "base_uri": "https://localhost:8080/",
          "height": 1000
        },
        "id": "R2G0lQ3S7LFr",
        "outputId": "1395cd24-3370-4c92-e79b-70a80bfc5c54"
      },
      "execution_count": 4,
      "outputs": [
        {
          "output_type": "stream",
          "name": "stdout",
          "text": [
            "找到實驗結果，正在開始繪圖...\n",
            "\n",
            "============================================================\n",
            "📊 **開始繪製實驗分析圖表: With Experience Replay**\n",
            "============================================================\n"
          ]
        },
        {
          "output_type": "display_data",
          "data": {
            "text/plain": [
              "<Figure size 1200x1800 with 3 Axes>"
            ],
            "image/png": "[encoded data removed]"
          },
          "metadata": {}
        },
        {
          "output_type": "display_data",
          "data": {
            "text/plain": [
              "<Figure size 1600x800 with 1 Axes>"
            ],
            "image/png": "[encoded data removed]"
          },
          "metadata": {}
        },
        {
          "output_type": "display_data",
          "data": {
            "text/plain": [
              "<Figure size 1600x800 with 1 Axes>"
            ],
            "image/png": "[encoded data removed]"
          },
          "metadata": {}
        }
      ]
    }
  ]
}